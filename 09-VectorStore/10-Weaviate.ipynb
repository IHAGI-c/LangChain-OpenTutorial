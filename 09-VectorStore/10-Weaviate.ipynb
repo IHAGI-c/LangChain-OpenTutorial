{
 "cells": [
  {
   "cell_type": "markdown",
   "metadata": {},
   "source": [
    "# Weaviate\n",
    "\n",
    "- Author: [Haseom Shin](https://github.com/IHAGI-c)\n",
    "- Design: []()\n",
    "- Peer Review: []()\n",
    "- This is a part of [LangChain Open Tutorial](https://github.com/LangChain-OpenTutorial/LangChain-OpenTutorial)\n",
    "\n",
    "[![Open in Colab](https://colab.research.google.com/assets/colab-badge.svg)](https://colab.research.google.com/github/LangChain-OpenTutorial/LangChain-OpenTutorial/blob/main/13-LangChain-Expression-Language/11-Fallbacks.ipynb) [![Open in GitHub](https://img.shields.io/badge/Open%20in%20GitHub-181717?style=flat-square&logo=github&logoColor=white)](https://github.com/LangChain-OpenTutorial/LangChain-OpenTutorial/blob/main/13-LangChain-Expression-Language/11-Fallbacks.ipynb)\n",
    "\n",
    "## Overview\n",
    "\n",
    "This comprehensive tutorial explores Weaviate, a powerful open-source vector database that enables efficient similarity search and semantic operations. Through hands-on examples, you'll learn:\n",
    "\n",
    "- How to set up and configure Weaviate for production use\n",
    "- Essential operations including document indexing, querying, and deletion\n",
    "- Advanced features such as hybrid search, multi-tenancy, and batch processing\n",
    "- Integration with LangChain for sophisticated applications like RAG and QA systems\n",
    "- Best practices for managing and scaling your vector database\n",
    "\n",
    "Whether you're building a semantic search engine, implementing RAG systems, or developing AI-powered applications, this tutorial provides the foundational knowledge and practical examples you need to leverage Weaviate effectively.\n",
    "\n",
    "> [Weaviate](https://weaviate.io/) is an open-source vector database. It allows you to store data objects and vector embeddings from your favorite ML-models, and scale seamlessly into billions of data objects.\n",
    "\n",
    "To use this integration, you need to have a running Weaviate database instance.\n",
    "\n",
    "### Table of Contents\n",
    "\n",
    "- [Overview](#overview)\n",
    "- [Environment Setup](#environment-setup)\n",
    "- [Credentials](#credentials)\n",
    "  - [Setting up Weaviate Cloud Services](#setting-up-weaviate-cloud-services)\n",
    "- [What is Weaviate?](#what-is-weaviate)\n",
    "- [Why Use Weaviate?](#why-use-weaviate)\n",
    "- [Initialization](#initialization)\n",
    "  - [Creating Collections in Weaviate](#creating-collections-in-weaviate)\n",
    "  - [Delete Collection](#delete-collection)\n",
    "  - [List Collections](#list-collections)\n",
    "  - [Data Preprocessing](#data-preprocessing)\n",
    "  - [Document Preprocessing Function](#document-preprocessing-function)\n",
    "- [Manage vector store](#manage-vector-store)\n",
    "  - [Add items to vector store](#add-items-to-vector-store)\n",
    "  - [Delete items from vector store](#delete-items-from-vector-store)\n",
    "- [Finding Objects by Similarity](#finding-objects-by-similarity)\n",
    "  - [Step 1: Preparing Your Data](#step-1-preparing-your-data)\n",
    "  - [Step 2: Perform the search](#step-2-perform-the-search)\n",
    "  - [Quantify Result Similarity](#quantify-result-similarity)\n",
    "- [Search mechanism](#search-mechanism)\n",
    "- [Persistence](#persistence)\n",
    "- [Multi-tenancy](#multi-tenancy)\n",
    "- [Retriever options](#retriever-options)\n",
    "- [Use with LangChain](#use-with-langchain)\n",
    "  - [Question Answering with Sources](#question-answering-with-sources)\n",
    "  - [Retrieval-Augmented Generation](#retrieval-augmented-generation)\n",
    "\n",
    "\n",
    "### References\n",
    "- [Langchain-Weaviate](https://python.langchain.com/docs/integrations/providers/weaviate/)\n",
    "- [Weaviate Documentation](https://weaviate.io/developers/weaviate)\n",
    "- [Weaviate Introduction](https://weaviate.io/developers/weaviate/introduction)\n",
    "---"
   ]
  },
  {
   "cell_type": "markdown",
   "metadata": {},
   "source": [
    "## Environment Setup\n",
    "\n",
    "Set up the environment. You may refer to [Environment Setup](https://wikidocs.net/257836) for more details.\n",
    "\n",
    "**[Note]**\n",
    "- `langchain-opentutorial` is a package that provides a set of easy-to-use environment setup, useful functions and utilities for tutorials. \n",
    "- You can checkout the [`langchain-opentutorial`](https://github.com/LangChain-OpenTutorial/langchain-opentutorial-pypi) for more details."
   ]
  },
  {
   "cell_type": "code",
   "execution_count": 1,
   "metadata": {},
   "outputs": [],
   "source": [
    "%%capture --no-stderr\n",
    "%pip install langchain-opentutorial"
   ]
  },
  {
   "cell_type": "code",
   "execution_count": 2,
   "metadata": {},
   "outputs": [
    {
     "name": "stderr",
     "output_type": "stream",
     "text": [
      "\n",
      "\u001b[1m[\u001b[0m\u001b[34;49mnotice\u001b[0m\u001b[1;39;49m]\u001b[0m\u001b[39;49m A new release of pip is available: \u001b[0m\u001b[31;49m24.2\u001b[0m\u001b[39;49m -> \u001b[0m\u001b[32;49m25.0\u001b[0m\n",
      "\u001b[1m[\u001b[0m\u001b[34;49mnotice\u001b[0m\u001b[1;39;49m]\u001b[0m\u001b[39;49m To update, run: \u001b[0m\u001b[32;49mpip install --upgrade pip\u001b[0m\n"
     ]
    }
   ],
   "source": [
    "# Install required packages\n",
    "from langchain_opentutorial import package\n",
    "\n",
    "package.install(\n",
    "    [\n",
    "        \"openai\",\n",
    "        \"langsmith\",\n",
    "        \"langchain\",\n",
    "        \"tiktoken\",\n",
    "        \"langchain-weaviate\",\n",
    "        \"langchain-openai\",\n",
    "    ],\n",
    "    verbose=False,\n",
    "    upgrade=False,\n",
    ")"
   ]
  },
  {
   "cell_type": "code",
   "execution_count": 3,
   "metadata": {},
   "outputs": [
    {
     "name": "stdout",
     "output_type": "stream",
     "text": [
      "Environment variables have been set successfully.\n"
     ]
    }
   ],
   "source": [
    "# Set environment variables\n",
    "from langchain_opentutorial import set_env\n",
    "\n",
    "set_env(\n",
    "    {\n",
    "        \"OPENAI_API_KEY\": \"\",\n",
    "        \"WEAVIATE_API_KEY\": \"\",\n",
    "        \"WEAVIATE_URL\": \"\",\n",
    "        \"LANGCHAIN_API_KEY\": \"\",\n",
    "        \"LANGCHAIN_TRACING_V2\": \"true\",\n",
    "        \"LANGCHAIN_ENDPOINT\": \"https://api.smith.langchain.com\",\n",
    "        \"LANGCHAIN_PROJECT\": \"Weaviate\",\n",
    "    }\n",
    ")"
   ]
  },
  {
   "cell_type": "markdown",
   "metadata": {},
   "source": [
    "You can alternatively set `OPENAI_API_KEY` in `.env` file and load it. \n",
    "\n",
    "[Note] This is not necessary if you've already set `OPENAI_API_KEY` in previous steps."
   ]
  },
  {
   "cell_type": "code",
   "execution_count": 4,
   "metadata": {},
   "outputs": [
    {
     "data": {
      "text/plain": [
       "True"
      ]
     },
     "execution_count": 4,
     "metadata": {},
     "output_type": "execute_result"
    }
   ],
   "source": [
    "from dotenv import load_dotenv\n",
    "\n",
    "load_dotenv(override=True)"
   ]
  },
  {
   "cell_type": "markdown",
   "metadata": {},
   "source": [
    "## Credentials\n",
    "\n",
    "There are three main ways to connect to Weaviate:\n",
    "\n",
    "1. **Local Connection**: Connect to a Weaviate instance running locally through Docker\n",
    "2. **Weaviate Cloud(WCD)**: Use Weaviate's managed cloud service\n",
    "3. **Custom Deployment**: Deploy Weaviate on Kubernetes or other custom configurations\n",
    "\n",
    "For this notebook, we'll use Weaviate Cloud (WCD) as it provides the easiest way to get started without any local setup.\n",
    "\n",
    "### Setting up Weaviate Cloud Services\n",
    "\n",
    "1. First, sign up for a free account at [Weaviate Cloud Console](https://console.weaviate.cloud)\n",
    "2. Create a new cluster\n",
    "3. Get your API key\n",
    "4. Set API key\n",
    "5. Connect to your WCD cluster\n",
    "\n",
    "#### 1. Weaviate Signup\n",
    "![Weaviate Cloud Console](./assets/10-weaviate-credentials-01.png)\n",
    "\n",
    "#### 2. Create Cluster\n",
    "![Weaviate Cloud Console](./assets/10-weaviate-credentials-02.png)\n",
    "![Weaviate Cloud Console](./assets/10-weaviate-credentials-03.png)\n",
    "\n",
    "#### 3. Get API Key\n",
    "**If you using gRPC, please copy the gRPC URL**\n",
    "\n",
    "![Weaviate Cloud Console](./assets/10-weaviate-credentials-04.png)\n",
    "\n",
    "#### 4. Set API Key\n",
    "```\n",
    "WEAVIATE_API_KEY=\"YOUR_WEAVIATE_API_KEY\"\n",
    "WEAVIATE_URL=\"YOUR_WEAVIATE_CLUSTER_URL\"\n",
    "```\n",
    "\n",
    "#### 5. Connect to your WCD cluster"
   ]
  },
  {
   "cell_type": "code",
   "execution_count": 5,
   "metadata": {},
   "outputs": [
    {
     "name": "stdout",
     "output_type": "stream",
     "text": [
      "True\n"
     ]
    }
   ],
   "source": [
    "import os\n",
    "from langchain_openai import OpenAIEmbeddings\n",
    "from utils.weaviate_vectordb import WeaviateDB\n",
    "\n",
    "weaviate_url = os.environ.get(\"WEAVIATE_URL\")\n",
    "weaviate_api_key = os.environ.get(\"WEAVIATE_API_KEY\")\n",
    "openai_api_key = os.environ.get(\"OPENAI_API_KEY\")\n",
    "\n",
    "embeddings = OpenAIEmbeddings(model=\"text-embedding-3-large\")\n",
    "weaviate_db = WeaviateDB(url=weaviate_url, api_key=weaviate_api_key, openai_api_key=openai_api_key, embeddings=embeddings)\n",
    "client = weaviate_db.connect()\n",
    "\n",
    "print(client.is_ready())"
   ]
  },
  {
   "cell_type": "markdown",
   "metadata": {},
   "source": [
    "## What is Weaviate?\n",
    "\n",
    "Weaviate is a powerful open-source vector database that revolutionizes how we store and search data. It combines traditional database capabilities with advanced machine learning features, allowing you to:\n",
    "\n",
    "- Weaviate is an open source [vector database](https://weaviate.io/blog/what-is-a-vector-database).\n",
    "- Weaviate allows you to store and retrieve data objects based on their semantic properties by indexing them with [vectors](./concepts/vector-index.md).\n",
    "- Weaviate can be used stand-alone (aka _bring your vectors_) or with a variety of [modules](./modules/index.md) that can do the vectorization for you and extend the core capabilities.\n",
    "- Weaviate has a [GraphQL-API](./api/graphql/index.md) to access your data easily.\n",
    "- Weaviate is fast (check our [open source benchmarks](./benchmarks/index.md)).\n",
    "\n",
    "> 💡 **Key Feature**: Weaviate achieves millisecond-level query performance, making it suitable for production environments.\n",
    "\n",
    "## Why Use Weaviate?\n",
    "\n",
    "Weaviate stands out for several reasons:\n",
    "\n",
    "1. **Versatility**: Supports multiple media types (text, images, etc.)\n",
    "2. **Advanced Features**:\n",
    "   - Semantic Search\n",
    "   - Question-Answer Extraction\n",
    "   - Classification\n",
    "   - Custom ML Model Integration\n",
    "3. **Production-Ready**: Built in Go for high performance and scalability\n",
    "4. **Developer-Friendly**: Multiple access methods through GraphQL, REST, and various client libraries\n"
   ]
  },
  {
   "cell_type": "markdown",
   "metadata": {},
   "source": [
    "## Initialization\n",
    "Before initializing our vector store, let's connect to a Weaviate collection. If one named index_name doesn't exist, it will be created."
   ]
  },
  {
   "cell_type": "markdown",
   "metadata": {},
   "source": [
    "### Creating Collections in Weaviate\n",
    "\n",
    "The `create_collection` function establishes a new collection in Weaviate, configuring it with specified properties and vector settings. This foundational operation requires six key parameters:\n",
    "\n",
    "**Required Parameters:**\n",
    "- `client`: Weaviate client instance for database connection\n",
    "- `collection_name`: Unique identifier for your collection\n",
    "- `description`: Detailed description of the collection's purpose\n",
    "- `properties`: List of property definitions for data schema\n",
    "- `vectorizer`: Configuration for vector embedding generation\n",
    "- `metric`: Distance metric for similarity calculations\n",
    "\n",
    "**Advanced Configuration Options:**\n",
    "- For custom distance metrics: Utilize the `VectorDistances` class\n",
    "- For alternative vectorization: Leverage the `Configure.Vectorizer` class\n",
    "\n",
    "**Example Usage:**\n",
    "```python\n",
    "properties = [\n",
    "    Property(name=\"text\", data_type=DataType.TEXT),\n",
    "    Property(name=\"title\", data_type=DataType.TEXT)\n",
    "]\n",
    "vectorizer = Configure.Vectorizer.text2vec_openai()\n",
    "create_collection(client, \"Documents\", \"Document storage\", properties, vectorizer)\n",
    "```\n",
    "\n",
    "> **Note:** Choose your distance metric and vectorizer carefully as they significantly impact search performance and accuracy."
   ]
  },
  {
   "cell_type": "markdown",
   "metadata": {},
   "source": [
    "Now let's use the `create_collection` function to create the collection we'll use in this tutorial."
   ]
  },
  {
   "cell_type": "code",
   "execution_count": 8,
   "metadata": {},
   "outputs": [
    {
     "name": "stdout",
     "output_type": "stream",
     "text": [
      "Collection 'BookChunk' created successfully.\n"
     ]
    }
   ],
   "source": [
    "from weaviate.classes.config import Property, DataType, Configure\n",
    "\n",
    "collection_name = \"BookChunk\"  # change if desired\n",
    "description = \"A chunk of a book's content\"\n",
    "vectorizer = Configure.Vectorizer.text2vec_openai(\n",
    "    model=\"text-embedding-3-large\"\n",
    ")  # You can select other vectorizer\n",
    "metric = \"dot\"  # You can select other distance metric\n",
    "properties = [\n",
    "    Property(\n",
    "        name=\"text\", data_type=DataType.TEXT, description=\"The content of the text\"\n",
    "    ),\n",
    "    Property(\n",
    "        name=\"order\",\n",
    "        data_type=DataType.INT,\n",
    "        description=\"The order of the chunk in the book\",\n",
    "    ),\n",
    "    Property(\n",
    "        name=\"title\", data_type=DataType.TEXT, description=\"The title of the book\"\n",
    "    ),\n",
    "    Property(\n",
    "        name=\"author\", data_type=DataType.TEXT, description=\"The author of the book\"\n",
    "    ),\n",
    "    Property(\n",
    "        name=\"source\", data_type=DataType.TEXT, description=\"The source of the book\"\n",
    "    ),\n",
    "]\n",
    "\n",
    "weaviate_db.create_collection(\n",
    "    client, collection_name, description, properties, vectorizer, metric\n",
    ")"
   ]
  },
  {
   "cell_type": "markdown",
   "metadata": {},
   "source": [
    "### Delete Collection\n",
    "\n",
    "Managing collections in Weaviate includes the ability to remove them when they're no longer needed. The `delete_collection` function provides a straightforward way to remove collections from your Weaviate instance.\n",
    "\n",
    "**Function Signature:**\n",
    "- `client`: Weaviate client instance for database connection\n",
    "- `collection_name`: Name of the collection to be deleted\n",
    "\n",
    "**Advanced Operations:**\n",
    "For batch operations or managing multiple collections, you can use the `delete_all_collections()` function, which removes all collections from your Weaviate instance.\n",
    "\n",
    "> **Important:** Collection deletion is permanent and cannot be undone. Always ensure you have appropriate backups before deleting collections in production environments."
   ]
  },
  {
   "cell_type": "code",
   "execution_count": 7,
   "metadata": {},
   "outputs": [
    {
     "name": "stdout",
     "output_type": "stream",
     "text": [
      "Deleted index: BookChunk\n"
     ]
    }
   ],
   "source": [
    "# weaviate_db.delete_all_collections(client)    # if you want to delete all collections, uncomment this line\n",
    "weaviate_db.delete_collection(client, collection_name)"
   ]
  },
  {
   "cell_type": "markdown",
   "metadata": {},
   "source": [
    "### List Collections\n",
    "\n",
    "Lists all collections in Weaviate, providing a comprehensive view of your database schema and configurations. The `list_collections` function helps you inspect and manage your Weaviate instance's structure.\n",
    "\n",
    "**Key Information Returned:**\n",
    "- Collection names\n",
    "- Collection descriptions\n",
    "- Property configurations\n",
    "- Data types for each property\n",
    "\n",
    "> **Note:** This operation is particularly useful for database maintenance, debugging, and documentation purposes.\n"
   ]
  },
  {
   "cell_type": "code",
   "execution_count": 9,
   "metadata": {},
   "outputs": [
    {
     "name": "stdout",
     "output_type": "stream",
     "text": [
      "Collections (indexes) in the Weaviate schema:\n",
      "- Collection name: My_collection\n",
      "  Description: This property was generated by Weaviate's auto-schema feature on Tue Feb  4 11:48:44 2025\n",
      "  Properties:\n",
      "    - Name: unique_key, Type: DataType.TEXT\n",
      "    - Name: text, Type: DataType.TEXT\n",
      "    - Name: metadata, Type: DataType.OBJECT\n",
      "\n",
      "- Collection name: LangChain_178c8b97ed6b47e08524f99a42507d9b\n",
      "  Description: No description available\n",
      "  Properties:\n",
      "    - Name: text, Type: DataType.TEXT\n",
      "    - Name: order, Type: DataType.NUMBER\n",
      "    - Name: source, Type: DataType.TEXT\n",
      "    - Name: author, Type: DataType.TEXT\n",
      "    - Name: title, Type: DataType.TEXT\n",
      "\n",
      "- Collection name: AI_Collection\n",
      "  Description: This property was generated by Weaviate's auto-schema feature on Tue Feb  4 12:29:21 2025\n",
      "  Properties:\n",
      "    - Name: text, Type: DataType.TEXT\n",
      "    - Name: metadata, Type: DataType.OBJECT\n",
      "    - Name: unique_key, Type: DataType.TEXT\n",
      "\n",
      "- Collection name: LangChain_53e31c7099854e06a3718b74d8bd974a\n",
      "  Description: No description available\n",
      "  Properties:\n",
      "    - Name: text, Type: DataType.TEXT\n",
      "    - Name: order, Type: DataType.NUMBER\n",
      "    - Name: source, Type: DataType.TEXT\n",
      "    - Name: author, Type: DataType.TEXT\n",
      "    - Name: title, Type: DataType.TEXT\n",
      "\n",
      "- Collection name: BookChunk\n",
      "  Description: A chunk of a book's content\n",
      "  Properties:\n",
      "    - Name: text, Type: DataType.TEXT\n",
      "    - Name: order, Type: DataType.INT\n",
      "    - Name: title, Type: DataType.TEXT\n",
      "    - Name: author, Type: DataType.TEXT\n",
      "    - Name: source, Type: DataType.TEXT\n",
      "\n"
     ]
    }
   ],
   "source": [
    "weaviate_db.list_collections(client)"
   ]
  },
  {
   "cell_type": "code",
   "execution_count": 10,
   "metadata": {},
   "outputs": [
    {
     "name": "stdout",
     "output_type": "stream",
     "text": [
      "<weaviate.Collection config={\n",
      "  \"name\": \"BookChunk\",\n",
      "  \"description\": \"A chunk of a book's content\",\n",
      "  \"generative_config\": null,\n",
      "  \"inverted_index_config\": {\n",
      "    \"bm25\": {\n",
      "      \"b\": 0.75,\n",
      "      \"k1\": 1.2\n",
      "    },\n",
      "    \"cleanup_interval_seconds\": 60,\n",
      "    \"index_null_state\": false,\n",
      "    \"index_property_length\": false,\n",
      "    \"index_timestamps\": false,\n",
      "    \"stopwords\": {\n",
      "      \"preset\": \"en\",\n",
      "      \"additions\": null,\n",
      "      \"removals\": null\n",
      "    }\n",
      "  },\n",
      "  \"multi_tenancy_config\": {\n",
      "    \"enabled\": false,\n",
      "    \"auto_tenant_creation\": false,\n",
      "    \"auto_tenant_activation\": false\n",
      "  },\n",
      "  \"properties\": [\n",
      "    {\n",
      "      \"name\": \"text\",\n",
      "      \"description\": \"The content of the text\",\n",
      "      \"data_type\": \"text\",\n",
      "      \"index_filterable\": true,\n",
      "      \"index_range_filters\": false,\n",
      "      \"index_searchable\": true,\n",
      "      \"nested_properties\": null,\n",
      "      \"tokenization\": \"word\",\n",
      "      \"vectorizer_config\": {\n",
      "        \"skip\": false,\n",
      "        \"vectorize_property_name\": true\n",
      "      },\n",
      "      \"vectorizer\": \"text2vec-openai\"\n",
      "    },\n",
      "    {\n",
      "      \"name\": \"order\",\n",
      "      \"description\": \"The order of the chunk in the book\",\n",
      "      \"data_type\": \"int\",\n",
      "      \"index_filterable\": true,\n",
      "      \"index_range_filters\": false,\n",
      "      \"index_searchable\": false,\n",
      "      \"nested_properties\": null,\n",
      "      \"tokenization\": null,\n",
      "      \"vectorizer_config\": {\n",
      "        \"skip\": false,\n",
      "        \"vectorize_property_name\": true\n",
      "      },\n",
      "      \"vectorizer\": \"text2vec-openai\"\n",
      "    },\n",
      "    {\n",
      "      \"name\": \"title\",\n",
      "      \"description\": \"The title of the book\",\n",
      "      \"data_type\": \"text\",\n",
      "      \"index_filterable\": true,\n",
      "      \"index_range_filters\": false,\n",
      "      \"index_searchable\": true,\n",
      "      \"nested_properties\": null,\n",
      "      \"tokenization\": \"word\",\n",
      "      \"vectorizer_config\": {\n",
      "        \"skip\": false,\n",
      "        \"vectorize_property_name\": true\n",
      "      },\n",
      "      \"vectorizer\": \"text2vec-openai\"\n",
      "    },\n",
      "    {\n",
      "      \"name\": \"author\",\n",
      "      \"description\": \"The author of the book\",\n",
      "      \"data_type\": \"text\",\n",
      "      \"index_filterable\": true,\n",
      "      \"index_range_filters\": false,\n",
      "      \"index_searchable\": true,\n",
      "      \"nested_properties\": null,\n",
      "      \"tokenization\": \"word\",\n",
      "      \"vectorizer_config\": {\n",
      "        \"skip\": false,\n",
      "        \"vectorize_property_name\": true\n",
      "      },\n",
      "      \"vectorizer\": \"text2vec-openai\"\n",
      "    },\n",
      "    {\n",
      "      \"name\": \"source\",\n",
      "      \"description\": \"The source of the book\",\n",
      "      \"data_type\": \"text\",\n",
      "      \"index_filterable\": true,\n",
      "      \"index_range_filters\": false,\n",
      "      \"index_searchable\": true,\n",
      "      \"nested_properties\": null,\n",
      "      \"tokenization\": \"word\",\n",
      "      \"vectorizer_config\": {\n",
      "        \"skip\": false,\n",
      "        \"vectorize_property_name\": true\n",
      "      },\n",
      "      \"vectorizer\": \"text2vec-openai\"\n",
      "    }\n",
      "  ],\n",
      "  \"references\": [],\n",
      "  \"replication_config\": {\n",
      "    \"factor\": 1,\n",
      "    \"async_enabled\": false,\n",
      "    \"deletion_strategy\": \"NoAutomatedResolution\"\n",
      "  },\n",
      "  \"reranker_config\": null,\n",
      "  \"sharding_config\": {\n",
      "    \"virtual_per_physical\": 128,\n",
      "    \"desired_count\": 1,\n",
      "    \"actual_count\": 1,\n",
      "    \"desired_virtual_count\": 128,\n",
      "    \"actual_virtual_count\": 128,\n",
      "    \"key\": \"_id\",\n",
      "    \"strategy\": \"hash\",\n",
      "    \"function\": \"murmur3\"\n",
      "  },\n",
      "  \"vector_index_config\": {\n",
      "    \"quantizer\": null,\n",
      "    \"cleanup_interval_seconds\": 300,\n",
      "    \"distance_metric\": \"dot\",\n",
      "    \"dynamic_ef_min\": 100,\n",
      "    \"dynamic_ef_max\": 500,\n",
      "    \"dynamic_ef_factor\": 8,\n",
      "    \"ef\": -1,\n",
      "    \"ef_construction\": 128,\n",
      "    \"filter_strategy\": \"sweeping\",\n",
      "    \"flat_search_cutoff\": 40000,\n",
      "    \"max_connections\": 32,\n",
      "    \"skip\": false,\n",
      "    \"vector_cache_max_objects\": 1000000000000\n",
      "  },\n",
      "  \"vector_index_type\": \"hnsw\",\n",
      "  \"vectorizer_config\": {\n",
      "    \"vectorizer\": \"text2vec-openai\",\n",
      "    \"model\": {\n",
      "      \"baseURL\": \"https://api.openai.com\",\n",
      "      \"model\": \"text-embedding-3-large\"\n",
      "    },\n",
      "    \"vectorize_collection_name\": true\n",
      "  },\n",
      "  \"vectorizer\": \"text2vec-openai\",\n",
      "  \"vector_config\": null\n",
      "}>\n"
     ]
    }
   ],
   "source": [
    "print(weaviate_db.lookup_collection(collection_name))"
   ]
  },
  {
   "cell_type": "markdown",
   "metadata": {},
   "source": [
    "### Data Preprocessing\n",
    "\n",
    "Before storing documents in Weaviate, it's essential to preprocess them into manageable chunks. This section demonstrates how to effectively prepare your documents using the `RecursiveCharacterTextSplitter` for optimal vector storage and retrieval.\n",
    "\n",
    "**Key Preprocessing Steps:**\n",
    "- Text chunking for better semantic representation\n",
    "- Metadata assignment for enhanced searchability\n",
    "- Document structure optimization\n",
    "- Batch preparation for efficient storage\n",
    "\n",
    "> **Note:** While this example uses `RecursiveCharacterTextSplitter`, choose your text splitter based on your specific content type and requirements. The chunk size and overlap parameters significantly impact search quality and performance."
   ]
  },
  {
   "cell_type": "code",
   "execution_count": 11,
   "metadata": {},
   "outputs": [],
   "source": [
    "# This is a long document we can split up.\n",
    "with open(\"./data/the_little_prince.txt\") as f:\n",
    "    raw_text = f.read()"
   ]
  },
  {
   "cell_type": "code",
   "execution_count": 12,
   "metadata": {},
   "outputs": [
    {
     "name": "stdout",
     "output_type": "stream",
     "text": [
      "[Document(metadata={}, page_content='The Little Prince\\nWritten By Antoine de Saiot-Exupery (1900〜1944)'), Document(metadata={}, page_content='[ Antoine de Saiot-Exupery ]'), Document(metadata={}, page_content='Over the past century, the thrill of flying has inspired some to perform remarkable feats of daring. For others, their desire to soar into the skies led to dramatic leaps in technology. For Antoine de Saint-Exupéry, his love of aviation inspired stories, which have touched the hearts of millions'), Document(metadata={}, page_content='have touched the hearts of millions around the world.'), Document(metadata={}, page_content='Born in 1900 in Lyons, France, young Antoine was filled with a passion for adventure. When he failed an entrance exam for the Naval Academy, his interest in aviation took hold. He joined the French Army Air Force in 1921 where he first learned to fly a plane. Five years later, he would leave the'), Document(metadata={}, page_content='Five years later, he would leave the military in order to begin flying air mail between remote settlements in the Sahara desert.'), Document(metadata={}, page_content=\"For Saint-Exupéry, it was a grand adventure - one with dangers lurking at every corner. Flying his open cockpit biplane, Saint-Exupéry had to fight the desert's swirling sandstorms. Worse, still, he ran the risk of being shot at by unfriendly tribesmen below. Saint-Exupéry couldn't have been more\"), Document(metadata={}, page_content=\"Saint-Exupéry couldn't have been more thrilled. Soaring across the Sahara inspired him to spend his nights writing about his love affair with flying.\"), Document(metadata={}, page_content='When World War II broke out, Saint-Exupéry rejoined the French Air Force. After Nazi troops overtook France in 1940, Saint-Exupéry fled to the United States. He had hoped to join the U. S. war effort as a fighter pilot, but was dismissed because of his age. To console himself, he drew upon his'), Document(metadata={}, page_content='To console himself, he drew upon his experiences over the Saharan desert to write and illustrate what would become his most famous book, The Little Prince (1943). Mystical and enchanting, this small book has fascinated both children and adults for decades. In the book, a pilot is stranded in the')]\n"
     ]
    }
   ],
   "source": [
    "from langchain_text_splitters import RecursiveCharacterTextSplitter\n",
    "\n",
    "text_splitter = RecursiveCharacterTextSplitter(\n",
    "    # Set a really small chunk size, just to show.\n",
    "    chunk_size=300,\n",
    "    chunk_overlap=40,\n",
    "    length_function=len,\n",
    "    is_separator_regex=False,\n",
    ")\n",
    "\n",
    "split_docs = text_splitter.create_documents([raw_text])\n",
    "\n",
    "print(split_docs[:10])"
   ]
  },
  {
   "cell_type": "markdown",
   "metadata": {},
   "source": [
    "### Document Preprocessing Function\n",
    "\n",
    "The `preprocess_documents` function transforms pre-split documents into a format suitable for Weaviate storage. This utility function handles both document content and metadata, ensuring proper organization of your data.\n",
    "\n",
    "**Function Parameters:**\n",
    "- `split_docs`: List of LangChain Document objects containing page content and metadata\n",
    "- `metadata`: Optional dictionary of additional metadata to include with each chunk\n",
    "\n",
    "**Processing Steps:**\n",
    "- Iterates through Document objects\n",
    "- Assigns sequential order numbers\n",
    "- Combines document metadata with additional metadata\n",
    "- Formats data for Weaviate ingestion\n",
    "\n",
    "> **Best Practice:** When preprocessing documents, always maintain consistent metadata structure across your collection. This ensures efficient querying and filtering capabilities later."
   ]
  },
  {
   "cell_type": "code",
   "execution_count": 13,
   "metadata": {},
   "outputs": [
    {
     "data": {
      "text/plain": [
       "[{'text': 'The Little Prince\\nWritten By Antoine de Saiot-Exupery (1900〜1944)',\n",
       "  'order': 1,\n",
       "  'title': 'The Little Prince',\n",
       "  'author': 'Antoine de Saint-Exupéry',\n",
       "  'source': 'Original Text'},\n",
       " {'text': '[ Antoine de Saiot-Exupery ]',\n",
       "  'order': 2,\n",
       "  'title': 'The Little Prince',\n",
       "  'author': 'Antoine de Saint-Exupéry',\n",
       "  'source': 'Original Text'},\n",
       " {'text': 'Over the past century, the thrill of flying has inspired some to perform remarkable feats of daring. For others, their desire to soar into the skies led to dramatic leaps in technology. For Antoine de Saint-Exupéry, his love of aviation inspired stories, which have touched the hearts of millions',\n",
       "  'order': 3,\n",
       "  'title': 'The Little Prince',\n",
       "  'author': 'Antoine de Saint-Exupéry',\n",
       "  'source': 'Original Text'},\n",
       " {'text': 'have touched the hearts of millions around the world.',\n",
       "  'order': 4,\n",
       "  'title': 'The Little Prince',\n",
       "  'author': 'Antoine de Saint-Exupéry',\n",
       "  'source': 'Original Text'},\n",
       " {'text': 'Born in 1900 in Lyons, France, young Antoine was filled with a passion for adventure. When he failed an entrance exam for the Naval Academy, his interest in aviation took hold. He joined the French Army Air Force in 1921 where he first learned to fly a plane. Five years later, he would leave the',\n",
       "  'order': 5,\n",
       "  'title': 'The Little Prince',\n",
       "  'author': 'Antoine de Saint-Exupéry',\n",
       "  'source': 'Original Text'},\n",
       " {'text': 'Five years later, he would leave the military in order to begin flying air mail between remote settlements in the Sahara desert.',\n",
       "  'order': 6,\n",
       "  'title': 'The Little Prince',\n",
       "  'author': 'Antoine de Saint-Exupéry',\n",
       "  'source': 'Original Text'},\n",
       " {'text': \"For Saint-Exupéry, it was a grand adventure - one with dangers lurking at every corner. Flying his open cockpit biplane, Saint-Exupéry had to fight the desert's swirling sandstorms. Worse, still, he ran the risk of being shot at by unfriendly tribesmen below. Saint-Exupéry couldn't have been more\",\n",
       "  'order': 7,\n",
       "  'title': 'The Little Prince',\n",
       "  'author': 'Antoine de Saint-Exupéry',\n",
       "  'source': 'Original Text'},\n",
       " {'text': \"Saint-Exupéry couldn't have been more thrilled. Soaring across the Sahara inspired him to spend his nights writing about his love affair with flying.\",\n",
       "  'order': 8,\n",
       "  'title': 'The Little Prince',\n",
       "  'author': 'Antoine de Saint-Exupéry',\n",
       "  'source': 'Original Text'},\n",
       " {'text': 'When World War II broke out, Saint-Exupéry rejoined the French Air Force. After Nazi troops overtook France in 1940, Saint-Exupéry fled to the United States. He had hoped to join the U. S. war effort as a fighter pilot, but was dismissed because of his age. To console himself, he drew upon his',\n",
       "  'order': 9,\n",
       "  'title': 'The Little Prince',\n",
       "  'author': 'Antoine de Saint-Exupéry',\n",
       "  'source': 'Original Text'},\n",
       " {'text': 'To console himself, he drew upon his experiences over the Saharan desert to write and illustrate what would become his most famous book, The Little Prince (1943). Mystical and enchanting, this small book has fascinated both children and adults for decades. In the book, a pilot is stranded in the',\n",
       "  'order': 10,\n",
       "  'title': 'The Little Prince',\n",
       "  'author': 'Antoine de Saint-Exupéry',\n",
       "  'source': 'Original Text'}]"
      ]
     },
     "execution_count": 13,
     "metadata": {},
     "output_type": "execute_result"
    }
   ],
   "source": [
    "from typing import List, Dict\n",
    "from langchain_core.documents import Document\n",
    "\n",
    "\n",
    "def preprocess_documents(\n",
    "    split_docs: List[Document], metadata: Dict[str, str] = None\n",
    ") -> List[Dict[str, Dict[str, object]]]:\n",
    "    \"\"\"\n",
    "    Processes a list of pre-split documents into a format suitable for storing in Weaviate.\n",
    "\n",
    "    :param split_docs: List of LangChain Document objects (each containing page_content and metadata).\n",
    "    :param metadata: Additional metadata to include in each chunk (e.g., title, source).\n",
    "    :return: A list of dictionaries, each representing a chunk in the format:\n",
    "             {'properties': {'text': ..., 'order': ..., ...metadata}}\n",
    "    \"\"\"\n",
    "    processed_chunks = []\n",
    "    texts = []\n",
    "    metadatas = []\n",
    "    # Iterate over Document objects\n",
    "    for idx, doc in enumerate(split_docs, start=1):\n",
    "        # Extract text from page_content and include metadata\n",
    "        chunk_data = {\"text\": doc.page_content, \"order\": idx}\n",
    "        # Combine with metadata from Document and additional metadata if provided\n",
    "        if metadata:\n",
    "            chunk_data.update(metadata)\n",
    "        if doc.metadata:\n",
    "            chunk_data.update(doc.metadata)\n",
    "\n",
    "        # Format for Weaviate\n",
    "        processed_chunks.append(chunk_data)\n",
    "        texts.append(doc.page_content)\n",
    "        metadatas.append(metadata)\n",
    "\n",
    "    return processed_chunks, texts, metadatas\n",
    "\n",
    "\n",
    "metadata = {\n",
    "    \"title\": \"The Little Prince\",\n",
    "    \"author\": \"Antoine de Saint-Exupéry\",\n",
    "    \"source\": \"Original Text\",\n",
    "}\n",
    "\n",
    "processed_chunks, texts, metadatas = preprocess_documents(split_docs, metadata=metadata)\n",
    "\n",
    "processed_chunks[:10]"
   ]
  },
  {
   "cell_type": "markdown",
   "metadata": {},
   "source": [
    "## Manage vector store\n",
    "Once you have created your vector store, we can interact with it by adding and deleting different items."
   ]
  },
  {
   "cell_type": "markdown",
   "metadata": {},
   "source": [
    "### Add Items to Vector Store\n",
    "\n",
    "Weaviate provides flexible methods for adding documents to your vector store. This section explores two efficient approaches: standard insertion and parallel batch processing, each optimized for different use cases.\n",
    "\n",
    "#### Standard Insertion\n",
    "Best for smaller datasets or when processing order is important:\n",
    "- Sequential document processing\n",
    "- Automatic UUID generation\n",
    "- Built-in duplicate handling\n",
    "- Real-time progress tracking\n",
    "\n",
    "#### Parallel Batch Processing\n",
    "Optimized for large-scale document ingestion:\n",
    "- Multi-threaded processing\n",
    "- Configurable batch sizes\n",
    "- Concurrent execution\n",
    "- Enhanced throughput\n",
    "\n",
    "**Configuration Options:**\n",
    "- `batch_size`: Control memory usage and processing chunks\n",
    "- `max_workers`: Adjust concurrent processing threads\n",
    "- `unique_key`: Define document identification field\n",
    "- `show_progress`: Monitor ingestion progress\n",
    "\n",
    "**Performance Tips:**\n",
    "- For datasets < 1000 documents: Use standard insertion\n",
    "- For datasets > 1000 documents: Consider parallel processing\n",
    "- Monitor memory usage when increasing batch size\n",
    "- Adjust worker count based on available CPU cores\n",
    "\n",
    "> **Best Practice:** Choose your ingestion method based on dataset size and system resources. Start with conservative batch sizes and gradually optimize based on performance metrics."
   ]
  },
  {
   "cell_type": "code",
   "execution_count": 14,
   "metadata": {},
   "outputs": [],
   "source": [
    "from weaviate.util import generate_uuid5\n",
    "\n",
    "def generate_ids(collection_name: str, unique_values: List[str]):\n",
    "  ids = []\n",
    "\n",
    "  for unique_value in unique_values:\n",
    "    ids.append(generate_uuid5(collection_name, unique_value))\n",
    "  return ids\n",
    "\n",
    "ids = generate_ids(collection_name, [str(processed_chunk[\"order\"]) for processed_chunk in processed_chunks])"
   ]
  },
  {
   "cell_type": "code",
   "execution_count": 15,
   "metadata": {},
   "outputs": [
    {
     "name": "stdout",
     "output_type": "stream",
     "text": [
      "Processed batch 1/5\n",
      "Processed batch 2/5\n",
      "Processed batch 3/5\n",
      "Processed batch 4/5\n",
      "Processed batch 5/5\n",
      "\n",
      "Processing complete\n",
      "Number of successfully processed documents: 458\n",
      "Total elapsed time: 191.42 seconds\n"
     ]
    }
   ],
   "source": [
    "import time\n",
    "\n",
    "start_time = time.time()\n",
    "# Example usage\n",
    "results = weaviate_db.upsert(\n",
    "    texts=texts,\n",
    "    metadatas=metadatas,\n",
    "    ids=ids,\n",
    "    collection_name=collection_name,\n",
    "    batch_size=100,\n",
    "    show_progress=True,\n",
    ")\n",
    "\n",
    "end_time = time.time()\n",
    "print(f\"\\nProcessing complete\")\n",
    "print(f\"Number of successfully processed documents: {len(results)}\")\n",
    "print(f\"Total elapsed time: {end_time - start_time:.2f} seconds\")"
   ]
  },
  {
   "cell_type": "code",
   "execution_count": 15,
   "metadata": {},
   "outputs": [
    {
     "name": "stdout",
     "output_type": "stream",
     "text": [
      "\n",
      "Processing complete\n",
      "Number of successfully processed documents: 458\n",
      "Total elapsed time: 6.58 seconds\n"
     ]
    }
   ],
   "source": [
    "import time\n",
    "\n",
    "start_time = time.time()\n",
    "\n",
    "results = weaviate_db.upsert_parallel(\n",
    "    texts=texts,\n",
    "    metadatas=metadatas,\n",
    "    ids=ids,\n",
    "    collection_name=collection_name,\n",
    "    text_key=\"text\",\n",
    ")\n",
    "\n",
    "end_time = time.time()\n",
    "print(f\"\\nProcessing complete\")\n",
    "print(f\"Number of successfully processed documents: {len(results)}\")\n",
    "print(f\"Total elapsed time: {end_time - start_time:.2f} seconds\")"
   ]
  },
  {
   "cell_type": "markdown",
   "metadata": {},
   "source": [
    "### Search items from Weaviate\n",
    "\n",
    "You can search items from `weaviate` by filter"
   ]
  },
  {
   "cell_type": "code",
   "execution_count": 22,
   "metadata": {},
   "outputs": [
    {
     "data": {
      "text/plain": [
       "[Document(metadata={'title': 'The Little Prince', 'order': 9, 'source': 'Original Text', 'author': 'Antoine de Saint-Exupéry', 'uuid': 'c78af9d2-00b1-5637-9904-f925cb8e2107'}, page_content='To console himself, he drew upon his experiences over the Saharan desert to write and illustrate what would become his most famous book, The Little Prince (1943). Mystical and enchanting, this small book has fascinated both children and adults for decades. In the book, a pilot is stranded in the'),\n",
       " Document(metadata={'title': 'The Little Prince', 'order': 10, 'source': 'Original Text', 'author': 'Antoine de Saint-Exupéry', 'uuid': '00d8fa75-c17d-5d21-8820-0175c0d461d1'}, page_content='In the book, a pilot is stranded in the midst of the Sahara where he meets a tiny prince from another world traveling the universe in order to understand life. In the book, the little prince discovers the true meaning of life. At the end of his conversation with the Little Prince, the aviator')]"
      ]
     },
     "execution_count": 22,
     "metadata": {},
     "output_type": "execute_result"
    }
   ],
   "source": [
    "weaviate_db.search(\n",
    "    query=\"What is the little prince about?\",\n",
    "    filters={\"author\": \"Antoine de Saint-Exupéry\"},\n",
    "    k=2,\n",
    "    collection_name=collection_name,\n",
    "    show_progress=True,\n",
    ")"
   ]
  },
  {
   "cell_type": "markdown",
   "metadata": {},
   "source": [
    "### Delete items from Weaviate\n",
    "\n",
    "You can delete items from `weaviate` by filter\n",
    "\n",
    "First, let's search for documents that contain the text `Hum! Hum!` in the `text` property."
   ]
  },
  {
   "cell_type": "code",
   "execution_count": 21,
   "metadata": {},
   "outputs": [
    {
     "data": {
      "text/plain": [
       "[Document(metadata={'title': 'The Little Prince', 'order': 199, 'source': 'Original Text', 'author': 'Antoine de Saint-Exupéry', 'uuid': 'bef162c8-9707-5016-b1b4-3fe66a35f32b'}, page_content='\"Hum! Hum!\" replied the king; and before saying anything else he consulted a bulky almanac. \"Hum! Hum! That will be about-- about-- that will be this evening about twenty minutes to eight. And you will see how well I am obeyed.\"'),\n",
       " Document(metadata={'title': 'The Little Prince', 'order': 185, 'source': 'Original Text', 'author': 'Antoine de Saint-Exupéry', 'uuid': 'dd0f094c-35e4-5fbd-b24c-8a638b06cb77'}, page_content='\"Hum! Hum!\" replied the king. \"Then I-- I order you sometimes to yawn and sometimes to--\"\\nHe sputtered a little, and seemed vexed.')]"
      ]
     },
     "execution_count": 21,
     "metadata": {},
     "output_type": "execute_result"
    }
   ],
   "source": [
    "weaviate_db.keyword_search(\n",
    "    query=\"Hum! Hum!\",\n",
    "    filters={\"author\": \"Antoine de Saint-Exupéry\"},\n",
    "    k=2,\n",
    "    collection_name=collection_name,\n",
    "    show_progress=True,\n",
    ")"
   ]
  },
  {
   "cell_type": "markdown",
   "metadata": {},
   "source": [
    "Now let's delete the document with the filter applied."
   ]
  },
  {
   "cell_type": "code",
   "execution_count": 23,
   "metadata": {},
   "outputs": [
    {
     "ename": "TypeError",
     "evalue": "object of type 'NoneType' has no len()",
     "output_type": "error",
     "traceback": [
      "\u001b[0;31m---------------------------------------------------------------------------\u001b[0m",
      "\u001b[0;31mTypeError\u001b[0m                                 Traceback (most recent call last)",
      "Cell \u001b[0;32mIn[23], line 1\u001b[0m\n\u001b[0;32m----> 1\u001b[0m \u001b[43mweaviate_db\u001b[49m\u001b[38;5;241;43m.\u001b[39;49m\u001b[43mdelete\u001b[49m\u001b[43m(\u001b[49m\u001b[43mcollection_name\u001b[49m\u001b[38;5;241;43m=\u001b[39;49m\u001b[43mcollection_name\u001b[49m\u001b[43m,\u001b[49m\u001b[43m \u001b[49m\u001b[43mids\u001b[49m\u001b[38;5;241;43m=\u001b[39;49m\u001b[38;5;28;43;01mNone\u001b[39;49;00m\u001b[43m,\u001b[49m\u001b[43m \u001b[49m\u001b[43mfilters\u001b[49m\u001b[38;5;241;43m=\u001b[39;49m\u001b[43m{\u001b[49m\u001b[38;5;124;43m\"\u001b[39;49m\u001b[38;5;124;43mauthor\u001b[39;49m\u001b[38;5;124;43m\"\u001b[39;49m\u001b[43m:\u001b[49m\u001b[43m \u001b[49m\u001b[38;5;124;43m\"\u001b[39;49m\u001b[38;5;124;43mAntoine de Saint-Exupéry\u001b[39;49m\u001b[38;5;124;43m\"\u001b[39;49m\u001b[43m}\u001b[49m\u001b[43m)\u001b[49m\n",
      "File \u001b[0;32m~/langchain/LangChain-OpenTutorial/09-VectorStore/utils/weaviate_vectordb.py:313\u001b[0m, in \u001b[0;36mWeaviateDB.delete\u001b[0;34m(self, ids, filters, **kwargs)\u001b[0m\n\u001b[1;32m    311\u001b[0m collection_name \u001b[38;5;241m=\u001b[39m kwargs\u001b[38;5;241m.\u001b[39mget(\u001b[38;5;124m\"\u001b[39m\u001b[38;5;124mcollection_name\u001b[39m\u001b[38;5;124m\"\u001b[39m, \u001b[38;5;124m\"\u001b[39m\u001b[38;5;124mdefault_collection\u001b[39m\u001b[38;5;124m\"\u001b[39m)\n\u001b[1;32m    312\u001b[0m collection \u001b[38;5;241m=\u001b[39m \u001b[38;5;28mself\u001b[39m\u001b[38;5;241m.\u001b[39m_client\u001b[38;5;241m.\u001b[39mcollections\u001b[38;5;241m.\u001b[39mget(collection_name)\n\u001b[0;32m--> 313\u001b[0m id_filter \u001b[38;5;241m=\u001b[39m \u001b[43mweaviate\u001b[49m\u001b[38;5;241;43m.\u001b[39;49m\u001b[43mclasses\u001b[49m\u001b[38;5;241;43m.\u001b[39;49m\u001b[43mquery\u001b[49m\u001b[38;5;241;43m.\u001b[39;49m\u001b[43mFilter\u001b[49m\u001b[38;5;241;43m.\u001b[39;49m\u001b[43mby_id\u001b[49m\u001b[43m(\u001b[49m\u001b[43m)\u001b[49m\u001b[38;5;241;43m.\u001b[39;49m\u001b[43mcontains_any\u001b[49m\u001b[43m(\u001b[49m\u001b[43mids\u001b[49m\u001b[43m)\u001b[49m\n\u001b[1;32m    315\u001b[0m \u001b[38;5;28;01mtry\u001b[39;00m:\n\u001b[1;32m    316\u001b[0m     \u001b[38;5;28;01mif\u001b[39;00m ids \u001b[38;5;129;01mand\u001b[39;00m filters:\n\u001b[1;32m    317\u001b[0m         \u001b[38;5;66;03m# ID와 필터 조건을 모두 적용\u001b[39;00m\n",
      "File \u001b[0;32m~/Library/Caches/pypoetry/virtualenvs/langchain-opentutorial-BXw0bE1H-py3.11/lib/python3.11/site-packages/weaviate/collections/classes/filters.py:372\u001b[0m, in \u001b[0;36m_FilterById.contains_any\u001b[0;34m(self, uuids)\u001b[0m\n\u001b[1;32m    370\u001b[0m \u001b[38;5;28;01mdef\u001b[39;00m\u001b[38;5;250m \u001b[39m\u001b[38;5;21mcontains_any\u001b[39m(\u001b[38;5;28mself\u001b[39m, uuids: Sequence[UUID]) \u001b[38;5;241m-\u001b[39m\u001b[38;5;241m>\u001b[39m _Filters:\n\u001b[1;32m    371\u001b[0m \u001b[38;5;250m    \u001b[39m\u001b[38;5;124;03m\"\"\"Filter for objects that has one of the given ID.\"\"\"\u001b[39;00m\n\u001b[0;32m--> 372\u001b[0m     \u001b[38;5;28;01mif\u001b[39;00m \u001b[38;5;28;43mlen\u001b[39;49m\u001b[43m(\u001b[49m\u001b[43muuids\u001b[49m\u001b[43m)\u001b[49m \u001b[38;5;241m==\u001b[39m \u001b[38;5;241m0\u001b[39m:\n\u001b[1;32m    373\u001b[0m         \u001b[38;5;28;01mraise\u001b[39;00m WeaviateInvalidInputError(\u001b[38;5;124m\"\u001b[39m\u001b[38;5;124mFilter contains_any must have at least one value\u001b[39m\u001b[38;5;124m\"\u001b[39m)\n\u001b[1;32m    374\u001b[0m     \u001b[38;5;28;01mreturn\u001b[39;00m _FilterValue(\n\u001b[1;32m    375\u001b[0m         target\u001b[38;5;241m=\u001b[39m\u001b[38;5;28mself\u001b[39m\u001b[38;5;241m.\u001b[39m_target_path(),\n\u001b[1;32m    376\u001b[0m         value\u001b[38;5;241m=\u001b[39m[get_valid_uuid(val) \u001b[38;5;28;01mfor\u001b[39;00m val \u001b[38;5;129;01min\u001b[39;00m uuids],\n\u001b[1;32m    377\u001b[0m         operator\u001b[38;5;241m=\u001b[39m_Operator\u001b[38;5;241m.\u001b[39mCONTAINS_ANY,\n\u001b[1;32m    378\u001b[0m     )\n",
      "\u001b[0;31mTypeError\u001b[0m: object of type 'NoneType' has no len()"
     ]
    }
   ],
   "source": [
    "weaviate_db.delete(collection_name=collection_name, ids=None, filters={\"author\": \"Antoine de Saint-Exupéry\"})"
   ]
  },
  {
   "cell_type": "markdown",
   "metadata": {},
   "source": [
    "Let's verify that the document was deleted properly."
   ]
  },
  {
   "cell_type": "code",
   "execution_count": 20,
   "metadata": {},
   "outputs": [
    {
     "data": {
      "text/plain": [
       "[]"
      ]
     },
     "execution_count": 20,
     "metadata": {},
     "output_type": "execute_result"
    }
   ],
   "source": [
    "weaviate_db.keyword_search(\n",
    "    query=\"Hum! Hum!\",\n",
    "    filters={\"author\": \"Antoine de Saint-Exupéry\"},\n",
    "    k=2,\n",
    "    collection_name=collection_name,\n",
    "    show_progress=True,\n",
    ")"
   ]
  },
  {
   "cell_type": "markdown",
   "metadata": {},
   "source": [
    "Great job, now let's dive into Similarity Search with Langchain Vector Store.\n",
    "\n",
    "----"
   ]
  },
  {
   "cell_type": "markdown",
   "metadata": {},
   "source": [
    "## Finding Objects by Similarity\n",
    "\n",
    "Weaviate allows you to find objects that are semantically similar to your query. Let's walk through a complete example, from importing data to executing similarity searches.\n",
    "\n",
    "### Step 1: Preparing Your Data\n",
    "\n",
    "Before we can perform similarity searches, we need to populate our Weaviate instance with data. We'll start by loading and chunking a text file into manageable pieces.\n",
    "\n",
    "> 💡 **Tip**: Breaking down large texts into smaller chunks helps optimize vector search performance and relevance."
   ]
  },
  {
   "cell_type": "code",
   "execution_count": 21,
   "metadata": {},
   "outputs": [
    {
     "data": {
      "text/plain": [
       "['89313a90-d175-4a22-a73c-64bf5249a23a',\n",
       " 'd1061043-3257-442d-9021-4bfd0e2b9510',\n",
       " 'db7f1a1d-6d4b-4572-8806-87f2110d1a27',\n",
       " 'b61f7505-5bf7-4d98-a877-fc963e5ead6b',\n",
       " '32089c71-55ec-4d20-a8f6-3fc539a0245a',\n",
       " 'a2ba811e-ef49-4f6a-b70d-2dedb542f040',\n",
       " '3875513c-c5f8-4933-8642-bddc2520819d',\n",
       " '2f7c38cf-c54b-4d57-ad76-a85c3496bb94',\n",
       " '423a370d-7937-4313-b6ae-4f726f7a5962',\n",
       " '994bd7bd-05e7-42ba-a374-e038176051c9',\n",
       " '35a0864f-9512-441e-a344-1f7d6b35e41e',\n",
       " 'fee5d512-6a49-4cce-93c6-21655d9e4f81',\n",
       " 'a7eb837a-5495-4fb2-854d-d3b0737222f0',\n",
       " '45f6d584-3632-4bb5-8795-bc59cd188aeb',\n",
       " 'e7e8f0dc-9c5c-48a0-8e01-5b5b9d89dcb1',\n",
       " '0ead7ea7-53bf-4aca-b7a5-530a146447df',\n",
       " 'bd9578eb-8e4e-4685-ac6f-3c6944d5121d',\n",
       " 'e0860e22-48cb-4b54-8a68-9d1e6b15b3e5',\n",
       " 'f4ccd502-80c7-4e7f-8612-4f1945878d2a',\n",
       " 'ea95a998-cdd2-4138-a270-aa5df672dc93',\n",
       " '723eda0b-eea3-43b9-99b2-b4167e23b902',\n",
       " '284bce7f-379c-4ce7-8c76-5e833854193a',\n",
       " '60b32ba0-5096-4160-8582-ef6becc0c447',\n",
       " 'e1e188d9-55d1-4e13-93a6-38a065437fd3',\n",
       " '9bdc0369-724f-4e9e-9039-ea1e64ef4306',\n",
       " '0be9e145-7f02-470c-ac71-ab7b64d3c3c8',\n",
       " '08805197-b6e5-4c96-9f0f-6b00fa0d3522',\n",
       " 'f2b3c3d0-cdef-4026-8f2e-54171dbd604a',\n",
       " 'b1f6d96d-5c63-4c84-80ea-326075c5779c',\n",
       " '940c314a-c3fa-4025-a034-3508813a818e',\n",
       " 'f4e7de9b-e7ad-48ea-b07d-830fca682c5c',\n",
       " 'bf2a93ce-1d76-494e-a7db-adaf97ca0346',\n",
       " '43bf0d90-8093-4d07-8a29-cca463c8fd0f',\n",
       " '7d19c3fe-2610-412d-9f74-d04d1b856bc0',\n",
       " 'aa266d6a-5564-43e4-a045-95c9fca02d83',\n",
       " 'a2550aa3-3c25-495f-82bb-abd85ef8533d',\n",
       " '1a78805a-19a6-450d-b2a2-1725590d618e',\n",
       " '83f1e398-44a7-447d-8b46-50a1ea442e54',\n",
       " 'ac7422ec-4d4d-4e7a-9c14-dc62bced9ddb',\n",
       " '88a4f034-c387-49f8-ab63-7a7b16292442',\n",
       " '4f2a395a-8c6b-4030-9e3c-06182c0c718f',\n",
       " '5e7e6712-8465-4e19-8841-b379467017b7',\n",
       " 'ef99dbc1-5e60-4057-af94-55dfc47e8588',\n",
       " '86e8882a-e046-47c2-bd98-36175b128920',\n",
       " '35e1134c-1da3-419e-ad6f-d4212fc11144',\n",
       " '77505023-e617-4e23-8095-d3791512127f',\n",
       " 'acdb85d2-a7a7-4816-ac3a-138f842b0b0d',\n",
       " '5630de76-b65f-460f-9c81-5ab91c3854c7',\n",
       " '6bd90a18-082c-46ed-9967-f81ef1bf7e35',\n",
       " '8470196e-3638-4706-896b-16cf5c4710a5',\n",
       " '9f3741e6-89c4-4c6e-9895-efd7d24a3e85',\n",
       " 'f6de05d1-3b4d-4b0a-bc72-9e140ba880e8',\n",
       " '3109a178-2eaa-4bdf-a7dc-e5dab98c818c',\n",
       " '1922f770-a99e-41ba-83b1-84ed5721516a',\n",
       " 'ebb4d2ae-36d1-4a06-9391-bcd8fb770be6',\n",
       " 'c966be5c-74d6-4dbb-ba61-a5a924191404',\n",
       " 'f0f729f1-d87f-43d4-9781-cb701bab2155',\n",
       " '8aa46371-aa9c-4777-b986-e8e6821ed411',\n",
       " '49424f90-3812-4602-9fca-34894cdc48db',\n",
       " '148a38de-391b-46a2-91e3-522f33996c17',\n",
       " '94e86e19-4020-4886-b3a8-2774dc5c304a',\n",
       " '3d0b2345-47dc-410a-903a-94217002a907',\n",
       " '43fc3957-d675-4dd6-9f9e-f52cdc75a7af',\n",
       " 'fbc4dbdc-1b54-43cf-a3cb-34797091c6fb',\n",
       " '7df11913-a091-4c01-a3f0-2fc3afe63907',\n",
       " 'c3db7ff5-c0fb-4f77-a420-ffb05cd5c59e',\n",
       " 'b68e50bf-e1e3-48ad-956a-c910820bb081',\n",
       " '65bee173-0eff-49e0-8927-30259e62294f',\n",
       " '80fc2f83-419b-4e68-b2eb-09eeea427a7d',\n",
       " '673ed222-de3b-492e-a367-1b359403cba0',\n",
       " 'd3f22ce3-c698-415f-8414-e922ca7b0920',\n",
       " '1d961d8c-1711-406c-977c-7e19d0b3d59a',\n",
       " '01daefc2-0ff3-440f-b162-398337e75f73',\n",
       " '31795726-5510-4eff-88f4-5bc0a842de7d',\n",
       " '561e690a-91cb-40ef-9cf2-f03cbf8fb7e8',\n",
       " '5efd2166-792a-4552-8dec-a57c64f74a7c',\n",
       " '42217dca-c7d8-46c4-adda-b15bed1f9677',\n",
       " '4b174117-18f5-4e2b-ae8e-cf228dfb5a20',\n",
       " 'f82dce50-2430-4315-adbd-692808fab1a0',\n",
       " 'f2cba994-69cc-4181-9f4c-9fe05ba26fe4',\n",
       " '4acdf5fa-a0b2-4177-96a2-9bf20a771f15',\n",
       " 'ac4c59bb-18a8-434a-950c-d618c7768dff',\n",
       " '01ab12af-bffd-43d0-9cbb-059010bb5e8a',\n",
       " '01aaa0a9-ebd7-4aa0-a475-10b99bffe2b9',\n",
       " '2b299097-8072-44d9-bb17-5a72986b9067',\n",
       " '1330b5ab-b6c4-41dd-8d92-42ab1db7431d',\n",
       " '87a246c3-b6c8-44f6-b9a5-76820b0b1aa9',\n",
       " '050e6dd6-7bef-4db2-a01e-77206c75f56d',\n",
       " '405204cd-e4c1-4117-b674-fc0d881b662f',\n",
       " '68c0e7b9-f4b5-41df-ada2-b30ee8bcc1ca',\n",
       " '1ef5f370-997e-4c8e-b056-601160f7d54b',\n",
       " '98be57c5-f67a-487a-a435-73e3032e5b94',\n",
       " 'e75c30ad-34fa-44e2-bc6a-35463b5a0b61',\n",
       " '88b797aa-a9e2-4afa-ac5b-9a44d4664990',\n",
       " 'a3745da0-0c90-4d08-a0d1-3cee971d349d',\n",
       " '63545e96-b149-49e8-a17e-7f48587ab010',\n",
       " '5b7118df-284f-4ca9-80b4-761727380bd9',\n",
       " '751fcd00-84d8-4195-ae69-3ba4defc4a87',\n",
       " 'c564a7e7-2075-4103-bc00-1fde1f626499',\n",
       " '69b41a91-77b1-481b-8a90-e07a440fdbf0',\n",
       " '34ee73db-4d4f-4220-ab7e-56a7278a1cad',\n",
       " '13b3eb69-0a24-4404-ac48-891ee90f17d8',\n",
       " '79b21ae6-aa36-4278-8de8-12b5ee5c069a',\n",
       " 'e5cebd58-5816-4004-b26a-86c2c12db750',\n",
       " 'be724b9a-fe0d-4322-9fbe-69c2a5abb7a8',\n",
       " '84e5e776-dc40-4586-b30e-eb95dd5fab9a',\n",
       " '7fa838cb-cd6c-4843-a14c-b46af5055aae',\n",
       " '6d7b54b6-1005-4ccd-8c1f-84cc1afbc456',\n",
       " '8c7b94e3-6d8c-43b1-a95b-d3c78ab5e8e9',\n",
       " '4ba67758-6592-49bb-b443-5c536bd5f169',\n",
       " '363b62b3-db73-4771-b3d5-253fd8560a07',\n",
       " '304e878a-3c45-4f39-a8e7-e1bc09436efd',\n",
       " 'fbb86f9f-bae3-4d7e-8dbc-297f0055c5ac',\n",
       " '4f996958-5530-4b9b-8d9c-2be40f497cb8',\n",
       " 'df4c5cc8-102d-46d8-9483-df75e3fc4da7',\n",
       " '68749b56-8407-4826-8862-e73c134662ba',\n",
       " '78981c6f-67ef-4cce-a249-3b424ca53163',\n",
       " 'dc2f1a62-67cc-4e07-baa9-92a2d056e537',\n",
       " 'b5c2bcba-ca4d-43f3-808a-fcff0a67ea75',\n",
       " 'db77315c-57db-40d4-b443-ab227790ac36',\n",
       " '73176496-7fe0-4895-9c6e-ca811647a135',\n",
       " 'd346e251-7660-45fa-9745-2a0df6c28a71',\n",
       " '68ebe0ca-ee52-4ab3-b5fd-74f1ce2d4d0d',\n",
       " '5485630f-6613-4f90-8a5c-10d2e155a5a0',\n",
       " '3d945882-6152-43c9-aa20-04c7292eddc0',\n",
       " '92fbd741-c75d-4aad-9eba-f53a97b924b7',\n",
       " '242f95be-830a-48ea-8867-6b0fb60574ba',\n",
       " 'cafacd1a-5386-4a17-9120-72168d91d402',\n",
       " '3661b994-d5b5-409f-ba92-c9d7434326cb',\n",
       " '8643c8c3-2ef5-4144-9981-4a74822e7535',\n",
       " 'faefc351-ab00-4511-9596-70c49ff3ee31',\n",
       " 'e0c46a6f-9a7c-4807-9b0f-4598c562ccd3',\n",
       " '56256e90-6504-4f5e-948c-0a0c5654af86',\n",
       " '6863c207-f337-4359-ae41-8e6d28d996e0',\n",
       " '0c7b14ba-007b-4307-9dd0-dec0b8997b13',\n",
       " '66550261-9b0e-4922-9099-4a1573f5308e',\n",
       " '140e2971-29c6-45d8-9878-a5809aeeb5ae',\n",
       " '7d212c07-edce-42f6-9afc-168d168f8b5c',\n",
       " '31121bd8-edc6-44b4-8933-23c408fed19e',\n",
       " '25339ebc-a09c-4634-a16f-ab34c7185afa',\n",
       " '2796e167-f2a2-4692-849b-fa7aa7ab0f2a',\n",
       " '37987900-b028-4d0d-adf3-dfe4a2533bd4',\n",
       " 'fbb34f49-e5e3-42ff-a14f-90496bd84bed',\n",
       " 'cc82817b-c314-4e4f-b850-3eea633b99b0',\n",
       " 'b8fdac38-a50a-4e8b-bcea-2a32750f9013',\n",
       " 'c0d281d1-4b07-468f-a94f-f7f56ffcd961',\n",
       " '2712a316-8947-4865-ad9b-42e55d4dbc24',\n",
       " '877d5a87-62a8-439b-90c7-27aae4027df2',\n",
       " '3e060a87-8390-4a21-8570-45546d819acb',\n",
       " '22ed8689-d428-4b43-ba90-081c19bcd592',\n",
       " '0e2cfc61-290a-47ba-ae83-0505c0ea294b',\n",
       " '2b3950c6-c56f-4e39-9689-7f4d17248df8',\n",
       " 'e95a6c6e-99d3-4f9e-9986-209e98c3596e',\n",
       " '9ceaebf4-30dd-49dc-bcef-a50529e92a98',\n",
       " '644bdea7-54d0-4db8-9309-9ab245fa32d6',\n",
       " '1d77c500-1cb3-43d7-a9b3-8315fdccba29',\n",
       " 'd8962e3c-0d43-4f16-bd6b-48655927f7f8',\n",
       " '1a951857-36f7-413f-80ec-d7bc699ccee1',\n",
       " '66d7bead-107f-424f-9b22-6bb7fb20228b',\n",
       " '9e38e378-5eb0-4c17-907a-bb77385c16b9',\n",
       " '7e543143-3b4e-43ea-93f8-ba6914c352bf',\n",
       " '9c15f755-1be4-4a6b-bf58-4dd425d518aa',\n",
       " 'f2ea04b8-727f-4909-a2c6-3a554667ebf6',\n",
       " 'e384dac0-caf7-4bf3-9bcc-07f7971ac9b8',\n",
       " 'd641a7f1-ee97-495c-b804-053294c0ad94',\n",
       " '272e94c0-8453-4c9e-9f46-4a82c1ace425',\n",
       " '6d5e1730-f0c6-432a-8eff-c4a378eb4b03',\n",
       " 'ebc2539a-451a-4881-8461-f1640abd0547',\n",
       " '1d5bc38b-cb40-4d46-b050-d3f4828c9221',\n",
       " '5c290d1b-456b-4149-8793-4bf46dc01e16',\n",
       " 'b711ba6b-5c3e-424e-9788-07fd004d9ac2',\n",
       " 'd4932475-e024-40f4-94e0-5ad4b1d63925',\n",
       " 'd4a378ea-400b-423e-947a-7ea1140899d3',\n",
       " 'fb40c332-9299-4460-85ac-c700623bbf2a',\n",
       " '9c6531c1-2f19-4679-8ba4-dc3ee5db7db1',\n",
       " '89c57d52-05eb-4655-bfbd-62e4c246194c',\n",
       " 'cda5e5f1-1ab7-4848-a1ec-8858b5aa4492',\n",
       " 'e6281420-b913-4545-99c8-0b0d8603609c',\n",
       " 'aeec4ad5-3b15-4dcf-beb5-8c6e26ac957f',\n",
       " '0646e76e-229f-44a2-b3cc-cb5c76062509',\n",
       " '13d7e620-f926-44a2-b8f0-379f6e8959f3',\n",
       " 'e6d7c055-fde9-49d9-a25e-7da2625392d6',\n",
       " '770ee98b-4e50-405d-b44b-779cf09e07b8',\n",
       " '2f866add-1304-46ed-ba3c-28179a5465a0',\n",
       " 'f51d670f-0bd9-4642-b3a1-8a1c61ccd596',\n",
       " '120dbc37-9983-484d-94e4-83e11aad7cbd',\n",
       " '8d87391d-76ee-4b72-bb66-c6cae1177f74',\n",
       " 'f9c8ad39-3046-45e3-9d5c-84bac63afe22',\n",
       " 'b2652d3d-d92e-4201-833f-fd72697b23e0',\n",
       " '30074e11-1add-46a7-abf9-0bf36b2dc161',\n",
       " 'ef86008d-a226-495d-ab24-de161723807d',\n",
       " 'caa30537-8af0-4d14-887a-1e0a604632f3',\n",
       " '18fab9fd-9dff-4145-b57b-937ac97dc37a',\n",
       " '09eb5052-2bc4-40d7-b2b7-3befaf97dd1d',\n",
       " '659d7219-9e24-4bd4-b5fc-fb79ef2286ab',\n",
       " 'd4f25772-f211-44f9-b918-3b066941a80f',\n",
       " '60b238fd-d7f0-45d9-8920-4ab81a01daa5',\n",
       " '0b17c7dd-9824-46d9-a302-874274385954',\n",
       " 'f51cceae-fd49-4637-926d-870be93f7cf1',\n",
       " '45a0613f-bd70-4714-be1e-dfbecc9d4dca',\n",
       " '6d868895-90ee-46b3-926c-c847aef71869',\n",
       " '4824eda6-42bb-46cf-926c-f3ad0ab5a252',\n",
       " 'a212e9ce-f3a6-4576-8197-a9187b1470d0',\n",
       " '71affe08-9dee-4b04-a62a-cb1b5d470d4f',\n",
       " 'a0f1ba81-5d53-400b-b9b4-1ed82e6eb18e',\n",
       " '59cded54-46dd-4794-b4dd-b50522c18e5c',\n",
       " 'e24c5982-9e75-444e-9d7c-d42604cdd605',\n",
       " '937b2a42-01ff-4b46-b57c-6cbf3eb89f1d',\n",
       " 'c361b31e-414e-4cc1-87ba-ecdab4816b95',\n",
       " '0ff89227-75e5-4473-9767-e229fac333be',\n",
       " '188d36e3-f422-433c-b5db-c46a1c091b2e',\n",
       " '1f90e2fe-7dd3-455b-b548-e748ce84af90',\n",
       " '45bbeaed-f358-4ff9-a073-9fcb898333a3',\n",
       " 'a61b26f2-9937-4919-9c92-337a044eabe4',\n",
       " '4c02efe4-8c8e-4961-bb21-5057be75c792',\n",
       " '304e16c9-0f12-417a-91a8-03b149688090',\n",
       " '81ea91c9-7d1a-4729-9ac5-414aa38b2e75',\n",
       " '31724aef-51a1-4a4f-b0ff-e81b67597c16',\n",
       " 'fb33635e-1e28-470e-adf9-fbff117fd23f',\n",
       " '267d5cc5-dcdc-44ee-b3cb-10baefbf70b0',\n",
       " 'ccbd4164-7606-483f-9465-94756b9ff616',\n",
       " 'b3248235-598c-4aa2-b522-270de4ee9b82',\n",
       " 'd81dbb12-770e-4a21-be77-281c5582e491',\n",
       " 'd145b0a7-d713-44f9-b771-aa267014c4f7',\n",
       " '64b52e97-1b24-48e9-b4a8-0fb30624b3fa',\n",
       " 'd312e13e-0b5d-42f4-af71-cc7adf7694ed',\n",
       " '73e31e6c-b92c-47a7-bd79-c97b19e5a202',\n",
       " '738c6ac3-bed9-4b51-a6a3-eddea86cba75',\n",
       " '31adbde6-b1d0-42c8-b56c-e2edab3f4916',\n",
       " 'a7759f0e-851d-4ba4-8e00-1dc2e0af0ad8',\n",
       " 'b42b96fa-4e4b-49bd-8903-192176c45723',\n",
       " 'd187a146-56ad-439b-801c-6b92e52a2a81',\n",
       " '275b9fe1-dee9-4559-84ae-e962c98a5739',\n",
       " 'f6448308-4adf-41a7-8651-a512baae2839',\n",
       " '7badde55-8272-4c95-b1ea-6136162e88a1',\n",
       " '7f41c592-a231-462c-8357-8f446a685935',\n",
       " 'e23ca6be-f403-469c-89dc-3a2f2b38b9f0',\n",
       " 'eee14d5d-4ce1-4d6c-b864-bc3050c71fd6',\n",
       " 'e063483b-caac-406d-87e0-322c0945c532',\n",
       " '0585edfb-59fe-4fb0-b775-2af37a13429c',\n",
       " '2971c54b-2b7d-41cb-b874-d32eaa0373ce',\n",
       " 'd3c15a3f-6c2e-43fc-9b35-04854fa78e0e',\n",
       " '47d7f2a1-e4dc-48e1-95be-4916e4adb452',\n",
       " 'bce0b48c-fe98-4cc0-92c2-f185d60b11e0',\n",
       " 'b2e03703-e368-4044-b525-a86e7be45147',\n",
       " '322325d0-7d41-4d6e-ba95-7e757893c0e8',\n",
       " '3a00a0ec-91a3-44b7-ac23-d8fd8fe6536e',\n",
       " '80d70c9f-a5cc-4c7d-8258-50f99341c220',\n",
       " '55d4e0c2-efd9-47da-bb1f-603d150e506e',\n",
       " '6e172505-f5c7-420a-a9eb-b9bb032f86b2',\n",
       " '6f477022-7bf8-43cf-8071-42cc750af8de',\n",
       " 'f81fbe79-b8f7-417a-87ee-dee6169184b3',\n",
       " '58da3778-fccc-4319-92e8-b362e41e9a69',\n",
       " 'be8fc135-99c1-4ac6-84b7-299840c17ea3',\n",
       " 'a3d989cc-bcb7-41ab-bdce-5e0120312f9b',\n",
       " '15680bda-b4a2-432f-b3de-484a81754232',\n",
       " 'c18d7254-f17a-4d0b-bd72-fe8d4515a410',\n",
       " '1d4a9187-b4de-4da9-b5c5-71dafcf1c0ca',\n",
       " '4100dee0-8d90-4aa3-be52-21c8e6ee6985',\n",
       " '9f786310-bb3f-4395-ad2b-fc58a28691ac',\n",
       " 'c068fd98-2ebb-43a3-a70d-ebc9127e4851',\n",
       " 'b41375d5-d32c-4cdf-8dba-09015703c571',\n",
       " '0a5ecd89-4033-4d0d-87c3-9f5f88677502',\n",
       " 'be489d27-60d5-4b98-9b84-d2f0a8cf44ce',\n",
       " 'fde14a97-a0ae-4a04-a6bc-6afdc123c212',\n",
       " 'a94e2d0a-b9d4-4e98-9e73-47c10b1427a6',\n",
       " 'c50d5c60-88cc-44fa-9dc1-832f86cc220c',\n",
       " 'e1fe460d-d696-470d-8fd2-aed9566d4097',\n",
       " '15bcf3fe-e3f6-4d00-888a-f46f6b90d93b',\n",
       " '600a10b4-ddd4-43e0-b1bc-ea4868105cf5',\n",
       " '046b4451-ff0d-4afe-aba9-a1a1ac425d02',\n",
       " 'e5f35291-c9b4-44db-a272-34263b48cd56',\n",
       " '8791dca9-2af1-4750-9c55-b4c67ffbc51a',\n",
       " '52132959-d9c8-477f-83d6-73bcd98c3190',\n",
       " 'dea2133a-dbab-4e53-a616-209e69edc7f7',\n",
       " '814e4dd8-5766-4c68-b4d8-b54e7d69cfad',\n",
       " '21b1a668-be4c-46e6-9b8c-0896001c598f',\n",
       " '7a93941a-a068-4d96-bf72-a4f26cb4a9a0',\n",
       " '892b45cd-0c19-485d-8954-da74be1ad5e5',\n",
       " '1f737652-2810-4aa7-868a-4fd975845b6c',\n",
       " '8fecbf44-4451-4dd4-8eb6-435c3c73729f',\n",
       " '83c728c4-3690-4239-801e-81ef9d122b51',\n",
       " 'ff50e7de-4a83-451b-a14e-7d5ce6e05350',\n",
       " 'bb35cacc-7d3e-4ef3-b312-c79897267c7a',\n",
       " 'acc4f43e-338c-4a12-8cb6-42505eb6ad54',\n",
       " '01383241-7016-48b7-b331-d076746b128a',\n",
       " 'fb90056b-ade3-4dc2-8cdc-c696657ed88c',\n",
       " '0f97d4ba-277f-4f5c-aa13-8847c74087aa',\n",
       " '87168eb4-25e6-4053-a2e7-b9df23c74781',\n",
       " '2293a8ec-cc7d-45e7-ad83-b00de75ce190',\n",
       " '2d752a69-72bf-484e-9b4a-d8aec22dbb67',\n",
       " '043bd599-b630-4bed-a3cf-84de1527e453',\n",
       " '0e6fc3ff-eeea-4c3a-9f93-c7504f8e569d',\n",
       " 'ac915fc1-20b5-40e5-891f-4ff951e7b8fd',\n",
       " '73c10beb-4b1c-4302-8b7f-3af02e6499d8',\n",
       " 'a43569e7-af6d-4e67-a70e-472e6778fa96',\n",
       " '68329a25-237c-4a26-ad90-9e83ce0175f0',\n",
       " '78099dee-d916-42f3-9b1d-bddec0bd8ee8',\n",
       " 'da70e0b2-0952-4d4e-be9b-96f797bd5bc8',\n",
       " 'c2fc20b2-790c-4be7-9cef-dca947faa67a',\n",
       " '09897ad3-22ab-41ca-98e0-84ccac3f672e',\n",
       " 'f0c49255-0668-4e86-86fa-4fe3fa2d6e34',\n",
       " '349a5dfe-16e1-4ccc-84d1-105d26e4d95d',\n",
       " '70221bc4-cfe2-47f7-944d-834c4742d481',\n",
       " '3b1d5d6b-74fb-4934-8343-937936c34a71',\n",
       " 'ace90af0-4fb9-4ddb-be85-11f6b78771dc',\n",
       " '614d3d73-1095-4856-8bc9-e5fd358e680c',\n",
       " 'e711d4fd-8adc-40c0-8f39-486b2585aa61',\n",
       " '6883a79a-b357-44cd-aea4-e471e913a35d',\n",
       " 'ce6f053b-1b72-4bc8-9358-65642b0d5ecd',\n",
       " 'c9f0bd00-11ae-4781-99aa-c37b87da0835',\n",
       " '4f62cf46-2a59-44b5-8aa3-1d76e04ac863',\n",
       " '64891f6c-31bd-4f58-bb44-eab565ffb399',\n",
       " '5731b029-71a1-4e7d-a78c-7a2539233f33',\n",
       " 'abcf0af9-39f9-4644-9643-1387470a371a',\n",
       " '7852f841-ac8f-4b75-a52e-0775d6949fba',\n",
       " 'b063ce7a-b871-441a-9262-9d8214876dcf',\n",
       " '8b7f8145-7bc3-48ab-8939-b676aaf87714',\n",
       " 'c905ea7d-2028-4a84-b18a-3e787b3581ab',\n",
       " '327ae4cb-90e0-4287-b6a9-1cc423d7f45b',\n",
       " '404d4cb1-cacf-4434-9bfd-2347aab64aed',\n",
       " '22038dee-0311-4474-b6b7-41e62bea3033',\n",
       " '3c3f5341-50d9-4b6f-862c-8102ec28aea8',\n",
       " 'a727c49d-80d4-45a7-8633-f4dd71c9af85',\n",
       " 'f20f7c4b-f4ea-4c04-803f-9f552bc991d9',\n",
       " '3e0deea5-0ce1-4757-935a-1b12e7c36092',\n",
       " 'ca271ea4-96d9-4a87-8961-9d0d1acf9c1c',\n",
       " '31f4823d-5a54-46fd-9679-c39f19f077be',\n",
       " '693a8ee8-d913-4fa0-b71e-639244efb51b',\n",
       " 'f71bb0ae-dc08-4740-8bda-e7a78f577435',\n",
       " 'f790ee05-5551-48ee-9e9a-2c868162c0a5',\n",
       " '2016624f-b334-4464-ace8-7bb00f844725',\n",
       " '6683e01c-9cbf-44b5-b0e7-671ac62744ce',\n",
       " '5a4102cd-dd93-4c40-a5fb-4d6f59c6c52a',\n",
       " '8ce8b83b-1ffa-4c98-a5d8-f07e687c64f1',\n",
       " '8c3b141b-7bea-4d7a-b9fc-8b723ed44ba1',\n",
       " 'd3eb89be-abbe-44a6-b600-e8517d57dcdd',\n",
       " 'ce420f17-9066-4885-875b-d68420cd1615',\n",
       " '42560a18-9eef-48a4-a275-1bf39898a232',\n",
       " 'a873aeb0-88b4-4d77-9f45-da22b35dcbf4',\n",
       " 'd7b80af0-9b54-41d0-a03e-f741a57d5433',\n",
       " '3c371e5b-448a-471c-ba5a-26b686eb4b0d',\n",
       " 'c8c98d9c-71f4-4fb0-8688-58c213aa4486',\n",
       " '00b183d2-ca3f-46bc-9e8b-9300b3dab180',\n",
       " 'a67a3cd9-7694-4a65-9b42-08f794c914c7',\n",
       " '1138dac8-3e16-41f9-8adb-7c9ee49dfe09',\n",
       " '1ba1fbc2-cb19-411d-9695-d300c26b82c4',\n",
       " '29250ca0-33ef-4a51-b822-0d48cc7224ba',\n",
       " '45f8e258-8357-49b5-a6e7-9733939934a3',\n",
       " 'f76f9a24-92f5-4137-8c4d-1cb6a5dbf2eb',\n",
       " '6b23b81a-44b6-42c2-8c91-e4fcbaf2f747',\n",
       " 'a572b770-4459-4085-b806-816e58696f09',\n",
       " 'a26c2856-b21b-47a5-8e68-a8e59be045d8',\n",
       " '1cb92db9-fe68-47c1-8937-aeb3e092f4ec',\n",
       " 'e9356231-4a40-48a1-bd88-37dc93901d7e',\n",
       " '73c318bb-c6c6-48b3-b381-f392e9cc975f',\n",
       " '318fa656-07c5-4e40-8180-13ff0dc37d61',\n",
       " '20a4c7d9-245b-43cd-ac62-d6784b148f1b',\n",
       " '6bbb4514-11df-45bd-899c-5241d2ead6fa',\n",
       " '16176cb4-01c6-480d-98f7-7d24e2215ef8',\n",
       " 'b5447d73-2265-47d6-bd1b-d252b63b392f',\n",
       " 'c3d611de-762f-431d-a953-d5132eeac106',\n",
       " 'd6623a87-86df-4d90-950f-01aa8dd408d2',\n",
       " 'dd512b93-45b2-424f-8fd1-978c9a2455e7',\n",
       " 'd89aa9b4-b238-438f-b4fe-079ff4e96e5f',\n",
       " 'de81253d-ab59-49ed-95f1-bda35083ef27',\n",
       " '73b130be-b335-4950-854a-93ae3f3dbf04',\n",
       " '0988b72f-6665-4d80-9552-a5dd480e39de',\n",
       " 'a618310e-69b3-47d1-8b1b-598c4e5aaa6b',\n",
       " 'f29b4e32-ca75-4edf-b708-b3d35b8f07a7',\n",
       " '57140ac4-ac04-4741-acad-c5833afda80b',\n",
       " '92ef0f4a-1351-4b24-bb6d-f0b600e2f7c9',\n",
       " 'a2008257-ef0d-46e5-a7fa-544595c7f497',\n",
       " 'fe8b610a-dfd4-483a-a53c-04c253b0ce35',\n",
       " 'fdb58fa1-1dd6-4b7a-9fba-fa6ed2e2c09d',\n",
       " 'b9b0190b-cba8-432a-8c99-87ff3f38b7c5',\n",
       " '696053a7-3ac3-4741-b9a7-cda9af006d6d',\n",
       " '7ab274df-a894-4e01-8742-46d26b271adb',\n",
       " 'b5c0b708-80fa-4be8-a125-4a2cbb37a74d',\n",
       " 'd3bd59aa-5d26-408b-80f9-387e3a6b64b4',\n",
       " '725df883-4d91-47ef-9b8c-8310c2ac7f8f',\n",
       " '06af87ce-89e4-435b-a20b-5e978b667a87',\n",
       " 'dd11b7e6-db4b-4e52-a605-d0a85089b277',\n",
       " '0c07ba19-f191-4186-a701-88224184ad4f',\n",
       " '018cfe52-bf92-456a-880e-05286c48af36',\n",
       " '2856fc8d-e298-4e9c-b447-52545832841c',\n",
       " 'dead19a0-171b-400f-a3f2-8f9b9381ee63',\n",
       " '57fed45e-f23b-4482-9d0f-0f255f809fd0',\n",
       " 'fd03b877-9722-470b-9ea6-51b3f8a2d36c',\n",
       " 'f3df7877-6d36-48e8-94b4-0e8ac474bff5',\n",
       " 'fb58c98d-b604-427c-b6eb-5eca7f720c92',\n",
       " 'a01ecfc6-c496-4269-b8b7-b38518bc1c06',\n",
       " 'fd8e60fd-006a-4aa3-bd5c-ae12ed92abf5',\n",
       " '7fc1bf24-0d5f-4737-98f5-aba2ab8c92dd',\n",
       " 'd4123df6-9d30-4449-aca8-9298f3e220fd',\n",
       " '84842157-230b-4ff9-bf46-87e84b82c36e',\n",
       " 'ca4431b6-e080-4722-97ec-1359547afc3d',\n",
       " '08c633fd-3197-4de0-be14-35dae2474595',\n",
       " 'ac4ff9f2-4b2e-4a0e-9fb0-998ef14ddc69',\n",
       " '6585926f-8328-4817-8885-096fe745f8b5',\n",
       " '33c1fe4c-b0d8-4495-aa97-083faed15a96',\n",
       " '0f7a14cc-d849-48eb-94ab-77a07f96e130',\n",
       " '5a2de286-c396-432a-b515-739ffa29fb93',\n",
       " '27dc41ca-8fb8-4ed1-a943-1dd8dfb20b9f',\n",
       " '980e715e-9ef3-4dfc-ba89-ee4be624e3c0',\n",
       " 'a127b146-67c2-4ae3-9254-721ec40d7675',\n",
       " 'afb8bf21-75dc-44e3-8ebb-c838cbb12152',\n",
       " '7130f91b-3ecf-47d2-b7a6-71c6f91a7770',\n",
       " '0793362e-43d0-40f9-8d8d-094c0613617f',\n",
       " '27fe9c66-c074-407c-bdc2-807ac2fccc2d',\n",
       " '2e7ab384-e72d-49a6-a9f3-cd19d5c006db',\n",
       " '534c428d-6bed-4c4b-8d3c-b8f791e9a33b',\n",
       " '4d57ec1d-6946-43b0-b360-30284b3b456d',\n",
       " 'd9c5cc2f-baa5-4e08-997a-54ab9b93eaa9',\n",
       " 'f3727b5b-f2d9-4c17-82a9-b7e16e474485',\n",
       " '7563a7d8-3658-4d6e-81f8-4c2d3a24af07',\n",
       " 'cb4d8bcf-32db-44f1-9a96-f24cdb14607f',\n",
       " '64d0cfa2-1366-4192-99ef-45d4651e534e',\n",
       " 'f0120fee-bd3b-4ea7-954b-b1eb1581d5bb',\n",
       " '773ce36d-b2a7-4815-9c9b-41d15d59b1f9',\n",
       " 'a6ee5ada-5883-4cb0-9175-c5330acd0833',\n",
       " '081cce7c-2684-4c77-8101-b3cf607fc9fc',\n",
       " '56ae4087-8a23-431d-ae09-04d2e0f3579d',\n",
       " '26dcb17a-fa15-40f8-808f-63e052d864b7',\n",
       " 'bc682e9a-9c01-46c8-aba1-90dc18a8dcc3',\n",
       " 'f1b43184-1588-457c-b3ff-a26cd4030ba9',\n",
       " '7a25be4f-9baa-4053-aafe-71d6cac14260',\n",
       " 'f737a74d-b2fd-4ae8-9a1a-cb967062445e',\n",
       " '455edb07-add9-44e7-bdb5-f2781a3f9fd1',\n",
       " '9f9aad4b-d38d-4c10-89ac-61de89e6cfd4',\n",
       " '2d1d03e6-6078-41ab-8396-c50190c3312f',\n",
       " '75c74749-a2fb-4ba4-914b-4745c1f5328f',\n",
       " '593d7426-db28-4a51-81c1-578c936ba05b',\n",
       " '377ddafb-12d4-47be-be48-4288f484e314',\n",
       " '548c3ffa-b70e-40cb-a5c6-5a545320db1f',\n",
       " '3926d437-62b9-47c2-b138-a6603fd0718b',\n",
       " '079e7e26-087a-45ae-8054-b918c2cfc162',\n",
       " '7ccef7d0-6318-4028-ad8b-4b8ca6bfa6bb',\n",
       " 'e1e85c91-f596-4512-9fec-4a688f2ac160',\n",
       " 'd172dc3e-5a84-4fa8-aac5-4ca00ca71646',\n",
       " 'f38edadd-25dd-4711-9f76-7748dcc2cc61',\n",
       " '50df5245-b155-469d-a3a5-0c4800bbc0ad',\n",
       " '8a980588-53ce-4da6-a27f-84d574ae2989',\n",
       " '18d9f97f-215d-49df-8d26-b71a5a10ee9e',\n",
       " 'db5ff2ca-0bb7-40c9-9c20-3c4774568781',\n",
       " '714e6bf6-ab68-4148-8024-5de67efedf4b',\n",
       " '8c7e649e-58f6-41ba-98d6-621314d7fa93',\n",
       " '6598faf2-91f2-4740-a0a6-336b207ff7f4',\n",
       " 'aa0fdb24-eb3f-41c5-a92c-f5c5b57b9a1b',\n",
       " 'e47a2f9d-22ff-4091-862d-333c8f9259fa',\n",
       " 'b0abcc61-45ce-4143-a642-3db01d729a18',\n",
       " '9f085904-a4b2-4e4e-8510-af59d7fe7023',\n",
       " '91109892-30f7-402b-a4fd-48aeec0cc463',\n",
       " 'b15c19a8-98da-4c4a-82a8-341dcef854a9',\n",
       " 'eca1e33c-d22c-4df2-b38e-2742554a10dd',\n",
       " '656c2b3e-fd67-437f-8225-15f47c08bea3',\n",
       " 'af93bf4f-3925-4968-b820-3ca82374f6df',\n",
       " '0198cc29-ce7a-44c2-a656-80ebbb9a397f']"
      ]
     },
     "execution_count": 21,
     "metadata": {},
     "output_type": "execute_result"
    }
   ],
   "source": [
    "from langchain_openai import OpenAIEmbeddings\n",
    "from langchain_weaviate.vectorstores import WeaviateVectorStore\n",
    "from langchain_text_splitters import RecursiveCharacterTextSplitter\n",
    "\n",
    "embeddings = OpenAIEmbeddings(model=\"text-embedding-3-large\")\n",
    "\n",
    "vector_store = WeaviateVectorStore(\n",
    "    client=client, index_name=collection_name, embedding=embeddings, text_key=\"text\"\n",
    ")\n",
    "\n",
    "vector_store.add_documents(split_docs)"
   ]
  },
  {
   "cell_type": "markdown",
   "metadata": {},
   "source": [
    "### Step 2: Perform the search\n",
    "\n",
    "We can now perform a similarity search. This will return the most similar documents to the query text, based on the embeddings stored in Weaviate and an equivalent embedding generated from the query text."
   ]
  },
  {
   "cell_type": "code",
   "execution_count": null,
   "metadata": {},
   "outputs": [],
   "source": [
    "from utils.weaviate_vectordb import WeaviateSearch\n",
    "\n",
    "query = \"What is the little prince about?\"\n",
    "searcher = WeaviateSearch(vector_store)\n",
    "docs = searcher.similarity_search(query, k=1)\n",
    "\n",
    "for i, doc in enumerate(docs):\n",
    "    print(f\"\\nDocument {i+1}:\")\n",
    "    print(doc.page_content)"
   ]
  },
  {
   "cell_type": "markdown",
   "metadata": {},
   "source": [
    "You can also add filters, which will either include or exclude results based on the filter conditions. (See [more filter examples](https://weaviate.io/developers/weaviate/search/filters).)\n",
    "\n",
    "It is also possible to provide `k`, which is the upper limit of the number of results to return."
   ]
  },
  {
   "cell_type": "code",
   "execution_count": null,
   "metadata": {},
   "outputs": [],
   "source": [
    "from weaviate.classes.query import Filter\n",
    "\n",
    "filter_query = Filter.by_property(\"text\").equal(\"In the book, a pilot is\")\n",
    "\n",
    "searcher.similarity_search(\n",
    "    query=query,\n",
    "    filter_query=filter_query,\n",
    "    k=1,\n",
    ")"
   ]
  },
  {
   "cell_type": "markdown",
   "metadata": {},
   "source": [
    "### Quantify Result Similarity\n",
    "\n",
    "When performing similarity searches, you might want to know not just which documents are similar, but how similar they are. Weaviate provides this information through a relevance score.\n",
    "> 💡 Tip: The relevance score helps you understand the relative similarity between search results."
   ]
  },
  {
   "cell_type": "code",
   "execution_count": null,
   "metadata": {},
   "outputs": [],
   "source": [
    "docs = searcher.similarity_search_with_score(query, k=5)\n",
    "\n",
    "for doc in docs:\n",
    "    print(f\"{doc[1]:.3f}\", \":\", doc[0].page_content)"
   ]
  },
  {
   "cell_type": "markdown",
   "metadata": {},
   "source": [
    "## Search mechanism"
   ]
  },
  {
   "cell_type": "markdown",
   "metadata": {},
   "source": [
    "`similarity_search` uses Weaviate's [hybrid search](https://weaviate.io/developers/weaviate/api/graphql/search-operators#hybrid).\n",
    "\n",
    "A hybrid search combines a vector and a keyword search, with `alpha` as the weight of the vector search. The `similarity_search` function allows you to pass additional arguments as kwargs. See this [reference doc](https://weaviate.io/developers/weaviate/api/graphql/search-operators#hybrid) for the available arguments.\n",
    "\n",
    "So, you can perform a pure keyword search by adding `alpha=0` as shown below:"
   ]
  },
  {
   "cell_type": "code",
   "execution_count": null,
   "metadata": {},
   "outputs": [],
   "source": [
    "docs = searcher.similarity_search(query, alpha=0)\n",
    "docs[0]"
   ]
  },
  {
   "cell_type": "markdown",
   "metadata": {},
   "source": [
    "## Persistence"
   ]
  },
  {
   "cell_type": "markdown",
   "metadata": {},
   "source": [
    "Any data added through `langchain-weaviate` will persist in Weaviate according to its configuration. \n",
    "\n",
    "WCS instances, for example, are configured to persist data indefinitely, and Docker instances can be set up to persist data in a volume. Read more about [Weaviate's persistence](https://weaviate.io/developers/weaviate/configuration/persistence)."
   ]
  },
  {
   "cell_type": "markdown",
   "metadata": {},
   "source": [
    "## Multi-tenancy"
   ]
  },
  {
   "cell_type": "markdown",
   "metadata": {},
   "source": [
    "[Multi-tenancy](https://weaviate.io/developers/weaviate/concepts/data#multi-tenancy) allows you to have a high number of isolated collections of data, with the same collection configuration, in a single Weaviate instance. This is great for multi-user environments such as building a SaaS app, where each end user will have their own isolated data collection.\n",
    "\n",
    "To use multi-tenancy, the vector store need to be aware of the `tenant` parameter. \n",
    "\n",
    "So when adding any data, provide the `tenant` parameter as shown below."
   ]
  },
  {
   "cell_type": "code",
   "execution_count": null,
   "metadata": {},
   "outputs": [],
   "source": [
    "# 2. Create a vector store with a specific tenant\n",
    "vector_store_with_tenant = WeaviateVectorStore.from_documents(\n",
    "    docs, embeddings, client=client, tenant=\"tenant1\"  # specify the tenant name\n",
    ")"
   ]
  },
  {
   "cell_type": "code",
   "execution_count": null,
   "metadata": {},
   "outputs": [],
   "source": [
    "results = vector_store_with_tenant.similarity_search(\n",
    "    query, tenant=\"tenant1\"  # use the same tenant name\n",
    ")\n",
    "\n",
    "for doc in results:\n",
    "    print(doc.page_content)"
   ]
  },
  {
   "cell_type": "code",
   "execution_count": null,
   "metadata": {},
   "outputs": [],
   "source": [
    "vector_store_with_tenant = WeaviateVectorStore.from_documents(\n",
    "    docs, embeddings, client=client, tenant=\"tenant1\", mt=True\n",
    ")"
   ]
  },
  {
   "cell_type": "markdown",
   "metadata": {},
   "source": [
    "And when performing queries, provide the `tenant` parameter also."
   ]
  },
  {
   "cell_type": "code",
   "execution_count": null,
   "metadata": {},
   "outputs": [],
   "source": [
    "vector_store_with_tenant.similarity_search(query, tenant=\"tenant1\")"
   ]
  },
  {
   "cell_type": "markdown",
   "metadata": {},
   "source": [
    "## Retriever options\n",
    "\n",
    "Weaviate can also be used as a retriever\n",
    "\n",
    "### Maximal marginal relevance search (MMR)\n",
    "\n",
    "In addition to using similaritysearch  in the retriever object, you can also use `mmr`."
   ]
  },
  {
   "cell_type": "code",
   "execution_count": null,
   "metadata": {},
   "outputs": [],
   "source": [
    "retriever = vector_store.as_retriever(search_type=\"mmr\")\n",
    "retriever.invoke(query)[0]"
   ]
  },
  {
   "cell_type": "markdown",
   "metadata": {},
   "source": [
    "## Use with LangChain"
   ]
  },
  {
   "cell_type": "markdown",
   "metadata": {},
   "source": [
    "A known limitation of large language models (LLMs) is that their training data can be outdated, or not include the specific domain knowledge that you require.\n",
    "\n",
    "Take a look at the example below:"
   ]
  },
  {
   "cell_type": "code",
   "execution_count": null,
   "metadata": {},
   "outputs": [],
   "source": [
    "from langchain_openai import ChatOpenAI\n",
    "\n",
    "llm = ChatOpenAI(model=\"gpt-4o-mini\", temperature=0)\n",
    "result = llm.invoke(query)\n",
    "print(result.content)"
   ]
  },
  {
   "cell_type": "markdown",
   "metadata": {},
   "source": [
    "Vector stores complement LLMs by providing a way to store and retrieve relevant information. This allow you to combine the strengths of LLMs and vector stores, by using LLM's reasoning and linguistic capabilities with vector stores' ability to retrieve relevant information.\n",
    "\n",
    "Two well-known applications for combining LLMs and vector stores are:\n",
    "- Question answering\n",
    "- Retrieval-augmented generation (RAG)"
   ]
  },
  {
   "cell_type": "markdown",
   "metadata": {},
   "source": [
    "### Question Answering with Sources\n",
    "\n",
    "Question answering in langchain can be enhanced by the use of vector stores. Let's see how this can be done.\n",
    "\n",
    "This section uses the `RetrievalQAWithSourcesChain`, which does the lookup of the documents from an Index. "
   ]
  },
  {
   "cell_type": "markdown",
   "metadata": {},
   "source": [
    "We can construct the chain, with the retriever specified:"
   ]
  },
  {
   "cell_type": "code",
   "execution_count": 33,
   "metadata": {},
   "outputs": [],
   "source": [
    "searcher = WeaviateSearch(vector_store)\n",
    "\n",
    "chain = searcher.create_qa_chain(\n",
    "    llm=llm, retriever=vector_store.as_retriever(), chain_type=\"stuff\"\n",
    ")"
   ]
  },
  {
   "cell_type": "code",
   "execution_count": null,
   "metadata": {},
   "outputs": [],
   "source": [
    "chain.invoke(\n",
    "    {\"question\": query},\n",
    "    return_only_outputs=True,\n",
    ")"
   ]
  },
  {
   "cell_type": "markdown",
   "metadata": {},
   "source": [
    "### Retrieval-Augmented Generation\n",
    "\n",
    "Another very popular application of combining LLMs and vector stores is retrieval-augmented generation (RAG). This is a technique that uses a retriever to find relevant information from a vector store, and then uses an LLM to provide an output based on the retrieved data and a prompt.\n",
    "\n",
    "We begin with a similar setup:"
   ]
  },
  {
   "cell_type": "markdown",
   "metadata": {},
   "source": [
    "We need to construct a template for the RAG model so that the retrieved information will be populated in the template."
   ]
  },
  {
   "cell_type": "code",
   "execution_count": null,
   "metadata": {},
   "outputs": [],
   "source": [
    "from langchain_core.prompts import ChatPromptTemplate\n",
    "\n",
    "template = \"\"\"You are an assistant for question-answering tasks. Use the following pieces of retrieved context to answer the question. If you don't know the answer, just say that you don't know. Use three sentences maximum and keep the answer concise.\n",
    "Question: {question}\n",
    "Context: {context}\n",
    "Answer:\n",
    "\"\"\"\n",
    "prompt = ChatPromptTemplate.from_template(template)\n",
    "\n",
    "print(prompt)"
   ]
  },
  {
   "cell_type": "code",
   "execution_count": null,
   "metadata": {},
   "outputs": [],
   "source": [
    "from langchain_core.output_parsers import StrOutputParser\n",
    "from langchain_core.runnables import RunnablePassthrough\n",
    "from langchain_openai import ChatOpenAI\n",
    "\n",
    "llm = ChatOpenAI(model=\"gpt-4o-mini\", temperature=0)\n",
    "\n",
    "rag_chain = (\n",
    "    {\"context\": retriever, \"question\": RunnablePassthrough()}\n",
    "    | prompt\n",
    "    | llm\n",
    "    | StrOutputParser()\n",
    ")\n",
    "\n",
    "rag_chain.invoke(query)"
   ]
  }
 ],
 "metadata": {
  "kernelspec": {
   "display_name": "langchain-opentutorial-BXw0bE1H-py3.11",
   "language": "python",
   "name": "python3"
  },
  "language_info": {
   "codemirror_mode": {
    "name": "ipython",
    "version": 3
   },
   "file_extension": ".py",
   "mimetype": "text/x-python",
   "name": "python",
   "nbconvert_exporter": "python",
   "pygments_lexer": "ipython3",
   "version": "3.11.10"
  }
 },
 "nbformat": 4,
 "nbformat_minor": 2
}
