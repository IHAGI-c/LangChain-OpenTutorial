{
 "cells": [
  {
   "cell_type": "markdown",
   "metadata": {},
   "source": [
    "# Weaviate\n",
    "\n",
    "- Author: [Haseom Shin](https://github.com/IHAGI-c)\n",
    "- Design: []()\n",
    "- Peer Review: []()\n",
    "- This is a part of [LangChain Open Tutorial](https://github.com/LangChain-OpenTutorial/LangChain-OpenTutorial)\n",
    "\n",
    "[![Open in Colab](https://colab.research.google.com/assets/colab-badge.svg)](https://colab.research.google.com/github/LangChain-OpenTutorial/LangChain-OpenTutorial/blob/main/13-LangChain-Expression-Language/11-Fallbacks.ipynb) [![Open in GitHub](https://img.shields.io/badge/Open%20in%20GitHub-181717?style=flat-square&logo=github&logoColor=white)](https://github.com/LangChain-OpenTutorial/LangChain-OpenTutorial/blob/main/13-LangChain-Expression-Language/11-Fallbacks.ipynb)\n",
    "\n",
    "## Overview\n",
    "\n",
    "This comprehensive tutorial explores Weaviate, a powerful open-source vector database that enables efficient similarity search and semantic operations. Through hands-on examples, you'll learn:\n",
    "\n",
    "- How to set up and configure Weaviate for production use\n",
    "- Essential operations including document indexing, querying, and deletion\n",
    "- Advanced features such as hybrid search, multi-tenancy, and batch processing\n",
    "- Integration with LangChain for sophisticated applications like RAG and QA systems\n",
    "- Best practices for managing and scaling your vector database\n",
    "\n",
    "Whether you're building a semantic search engine, implementing RAG systems, or developing AI-powered applications, this tutorial provides the foundational knowledge and practical examples you need to leverage Weaviate effectively.\n",
    "\n",
    "> [Weaviate](https://weaviate.io/) is an open-source vector database. It allows you to store data objects and vector embeddings from your favorite ML-models, and scale seamlessly into billions of data objects.\n",
    "\n",
    "To use this integration, you need to have a running Weaviate database instance.\n",
    "\n",
    "### Table of Contents\n",
    "\n",
    "- [Overview](#overview)\n",
    "- [Environment Setup](#environment-setup)\n",
    "- [Credentials](#credentials)\n",
    "  - [Setting up Weaviate Cloud Services](#setting-up-weaviate-cloud-services)\n",
    "- [What is Weaviate?](#what-is-weaviate)\n",
    "- [Why Use Weaviate?](#why-use-weaviate)\n",
    "- [Initialization](#initialization)\n",
    "  - [Creating Collections in Weaviate](#creating-collections-in-weaviate)\n",
    "  - [Delete Collection](#delete-collection)\n",
    "  - [List Collections](#list-collections)\n",
    "  - [Data Preprocessing](#data-preprocessing)\n",
    "  - [Document Preprocessing Function](#document-preprocessing-function)\n",
    "- [Manage vector store](#manage-vector-store)\n",
    "  - [Add items to vector store](#add-items-to-vector-store)\n",
    "  - [Delete items from vector store](#delete-items-from-vector-store)\n",
    "- [Finding Objects by Similarity](#finding-objects-by-similarity)\n",
    "  - [Step 1: Preparing Your Data](#step-1-preparing-your-data)\n",
    "  - [Step 2: Perform the search](#step-2-perform-the-search)\n",
    "  - [Quantify Result Similarity](#quantify-result-similarity)\n",
    "- [Search mechanism](#search-mechanism)\n",
    "- [Persistence](#persistence)\n",
    "- [Multi-tenancy](#multi-tenancy)\n",
    "- [Retriever options](#retriever-options)\n",
    "- [Use with LangChain](#use-with-langchain)\n",
    "  - [Question Answering with Sources](#question-answering-with-sources)\n",
    "  - [Retrieval-Augmented Generation](#retrieval-augmented-generation)\n",
    "\n",
    "\n",
    "### References\n",
    "- [Langchain-Weaviate](https://python.langchain.com/docs/integrations/providers/weaviate/)\n",
    "- [Weaviate Documentation](https://weaviate.io/developers/weaviate)\n",
    "- [Weaviate Introduction](https://weaviate.io/developers/weaviate/introduction)\n",
    "---"
   ]
  },
  {
   "cell_type": "markdown",
   "metadata": {},
   "source": [
    "## Environment Setup\n",
    "\n",
    "Set up the environment. You may refer to [Environment Setup](https://wikidocs.net/257836) for more details.\n",
    "\n",
    "**[Note]**\n",
    "- `langchain-opentutorial` is a package that provides a set of easy-to-use environment setup, useful functions and utilities for tutorials. \n",
    "- You can checkout the [`langchain-opentutorial`](https://github.com/LangChain-OpenTutorial/langchain-opentutorial-pypi) for more details."
   ]
  },
  {
   "cell_type": "code",
   "execution_count": 1,
   "metadata": {},
   "outputs": [],
   "source": [
    "%%capture --no-stderr\n",
    "%pip install langchain-opentutorial"
   ]
  },
  {
   "cell_type": "code",
   "execution_count": 2,
   "metadata": {},
   "outputs": [
    {
     "name": "stderr",
     "output_type": "stream",
     "text": [
      "\n",
      "\u001b[1m[\u001b[0m\u001b[34;49mnotice\u001b[0m\u001b[1;39;49m]\u001b[0m\u001b[39;49m A new release of pip is available: \u001b[0m\u001b[31;49m24.2\u001b[0m\u001b[39;49m -> \u001b[0m\u001b[32;49m25.0\u001b[0m\n",
      "\u001b[1m[\u001b[0m\u001b[34;49mnotice\u001b[0m\u001b[1;39;49m]\u001b[0m\u001b[39;49m To update, run: \u001b[0m\u001b[32;49mpip install --upgrade pip\u001b[0m\n"
     ]
    }
   ],
   "source": [
    "# Install required packages\n",
    "from langchain_opentutorial import package\n",
    "\n",
    "package.install(\n",
    "    [\n",
    "        \"openai\",\n",
    "        \"langsmith\",\n",
    "        \"langchain\",\n",
    "        \"tiktoken\",\n",
    "        \"langchain-weaviate\",\n",
    "        \"langchain-openai\",\n",
    "    ],\n",
    "    verbose=False,\n",
    "    upgrade=False,\n",
    ")"
   ]
  },
  {
   "cell_type": "code",
   "execution_count": 3,
   "metadata": {},
   "outputs": [
    {
     "name": "stdout",
     "output_type": "stream",
     "text": [
      "Environment variables have been set successfully.\n"
     ]
    }
   ],
   "source": [
    "# Set environment variables\n",
    "from langchain_opentutorial import set_env\n",
    "\n",
    "set_env(\n",
    "    {\n",
    "        \"OPENAI_API_KEY\": \"\",\n",
    "        \"WEAVIATE_API_KEY\": \"\",\n",
    "        \"WEAVIATE_URL\": \"\",\n",
    "        \"LANGCHAIN_API_KEY\": \"\",\n",
    "        \"LANGCHAIN_TRACING_V2\": \"true\",\n",
    "        \"LANGCHAIN_ENDPOINT\": \"https://api.smith.langchain.com\",\n",
    "        \"LANGCHAIN_PROJECT\": \"Weaviate\",\n",
    "    }\n",
    ")"
   ]
  },
  {
   "cell_type": "markdown",
   "metadata": {},
   "source": [
    "You can alternatively set `OPENAI_API_KEY` in `.env` file and load it. \n",
    "\n",
    "[Note] This is not necessary if you've already set `OPENAI_API_KEY` in previous steps."
   ]
  },
  {
   "cell_type": "code",
   "execution_count": 4,
   "metadata": {},
   "outputs": [
    {
     "data": {
      "text/plain": [
       "True"
      ]
     },
     "execution_count": 4,
     "metadata": {},
     "output_type": "execute_result"
    }
   ],
   "source": [
    "from dotenv import load_dotenv\n",
    "\n",
    "load_dotenv(override=True)"
   ]
  },
  {
   "cell_type": "markdown",
   "metadata": {},
   "source": [
    "## Credentials\n",
    "\n",
    "There are three main ways to connect to Weaviate:\n",
    "\n",
    "1. **Local Connection**: Connect to a Weaviate instance running locally through Docker\n",
    "2. **Weaviate Cloud(WCD)**: Use Weaviate's managed cloud service\n",
    "3. **Custom Deployment**: Deploy Weaviate on Kubernetes or other custom configurations\n",
    "\n",
    "For this notebook, we'll use Weaviate Cloud (WCD) as it provides the easiest way to get started without any local setup.\n",
    "\n",
    "### Setting up Weaviate Cloud Services\n",
    "\n",
    "1. First, sign up for a free account at [Weaviate Cloud Console](https://console.weaviate.cloud)\n",
    "2. Create a new cluster\n",
    "3. Get your API key\n",
    "4. Set API key\n",
    "5. Connect to your WCD cluster\n",
    "\n",
    "#### 1. Weaviate Signup\n",
    "![Weaviate Cloud Console](./assets/10-weaviate-credentials-01.png)\n",
    "\n",
    "#### 2. Create Cluster\n",
    "![Weaviate Cloud Console](./assets/10-weaviate-credentials-02.png)\n",
    "![Weaviate Cloud Console](./assets/10-weaviate-credentials-03.png)\n",
    "\n",
    "#### 3. Get API Key\n",
    "**If you using gRPC, please copy the gRPC URL**\n",
    "\n",
    "![Weaviate Cloud Console](./assets/10-weaviate-credentials-04.png)\n",
    "\n",
    "#### 4. Set API Key\n",
    "```\n",
    "WEAVIATE_API_KEY=\"YOUR_WEAVIATE_API_KEY\"\n",
    "WEAVIATE_URL=\"YOUR_WEAVIATE_CLUSTER_URL\"\n",
    "```\n",
    "\n",
    "#### 5. Connect to your WCD cluster"
   ]
  },
  {
   "cell_type": "code",
   "execution_count": 5,
   "metadata": {},
   "outputs": [
    {
     "name": "stdout",
     "output_type": "stream",
     "text": [
      "True\n"
     ]
    }
   ],
   "source": [
    "import os\n",
    "from langchain_openai import OpenAIEmbeddings\n",
    "from utils.weaviate_vectordb import WeaviateDB\n",
    "\n",
    "weaviate_url = os.environ.get(\"WEAVIATE_URL\")\n",
    "weaviate_api_key = os.environ.get(\"WEAVIATE_API_KEY\")\n",
    "openai_api_key = os.environ.get(\"OPENAI_API_KEY\")\n",
    "\n",
    "embeddings = OpenAIEmbeddings(model=\"text-embedding-3-large\")\n",
    "weaviate_db = WeaviateDB(url=weaviate_url, api_key=weaviate_api_key, openai_api_key=openai_api_key, embeddings=embeddings)\n",
    "client = weaviate_db.connect()\n",
    "\n",
    "print(client.is_ready())"
   ]
  },
  {
   "cell_type": "markdown",
   "metadata": {},
   "source": [
    "## What is Weaviate?\n",
    "\n",
    "Weaviate is a powerful open-source vector database that revolutionizes how we store and search data. It combines traditional database capabilities with advanced machine learning features, allowing you to:\n",
    "\n",
    "- Weaviate is an open source [vector database](https://weaviate.io/blog/what-is-a-vector-database).\n",
    "- Weaviate allows you to store and retrieve data objects based on their semantic properties by indexing them with [vectors](./concepts/vector-index.md).\n",
    "- Weaviate can be used stand-alone (aka _bring your vectors_) or with a variety of [modules](./modules/index.md) that can do the vectorization for you and extend the core capabilities.\n",
    "- Weaviate has a [GraphQL-API](./api/graphql/index.md) to access your data easily.\n",
    "- Weaviate is fast (check our [open source benchmarks](./benchmarks/index.md)).\n",
    "\n",
    "> 💡 **Key Feature**: Weaviate achieves millisecond-level query performance, making it suitable for production environments.\n",
    "\n",
    "## Why Use Weaviate?\n",
    "\n",
    "Weaviate stands out for several reasons:\n",
    "\n",
    "1. **Versatility**: Supports multiple media types (text, images, etc.)\n",
    "2. **Advanced Features**:\n",
    "   - Semantic Search\n",
    "   - Question-Answer Extraction\n",
    "   - Classification\n",
    "   - Custom ML Model Integration\n",
    "3. **Production-Ready**: Built in Go for high performance and scalability\n",
    "4. **Developer-Friendly**: Multiple access methods through GraphQL, REST, and various client libraries\n"
   ]
  },
  {
   "cell_type": "markdown",
   "metadata": {},
   "source": [
    "## Initialization\n",
    "Before initializing our vector store, let's connect to a Weaviate collection. If one named index_name doesn't exist, it will be created."
   ]
  },
  {
   "cell_type": "markdown",
   "metadata": {},
   "source": [
    "### Creating Collections in Weaviate\n",
    "\n",
    "The `create_collection` function establishes a new collection in Weaviate, configuring it with specified properties and vector settings. This foundational operation requires six key parameters:\n",
    "\n",
    "**Required Parameters:**\n",
    "- `client`: Weaviate client instance for database connection\n",
    "- `collection_name`: Unique identifier for your collection\n",
    "- `description`: Detailed description of the collection's purpose\n",
    "- `properties`: List of property definitions for data schema\n",
    "- `vectorizer`: Configuration for vector embedding generation\n",
    "- `metric`: Distance metric for similarity calculations\n",
    "\n",
    "**Advanced Configuration Options:**\n",
    "- For custom distance metrics: Utilize the `VectorDistances` class\n",
    "- For alternative vectorization: Leverage the `Configure.Vectorizer` class\n",
    "\n",
    "**Example Usage:**\n",
    "```python\n",
    "properties = [\n",
    "    Property(name=\"text\", data_type=DataType.TEXT),\n",
    "    Property(name=\"title\", data_type=DataType.TEXT)\n",
    "]\n",
    "vectorizer = Configure.Vectorizer.text2vec_openai()\n",
    "create_collection(client, \"Documents\", \"Document storage\", properties, vectorizer)\n",
    "```\n",
    "\n",
    "> **Note:** Choose your distance metric and vectorizer carefully as they significantly impact search performance and accuracy."
   ]
  },
  {
   "cell_type": "markdown",
   "metadata": {},
   "source": [
    "Now let's use the `create_collection` function to create the collection we'll use in this tutorial."
   ]
  },
  {
   "cell_type": "code",
   "execution_count": 11,
   "metadata": {},
   "outputs": [
    {
     "name": "stdout",
     "output_type": "stream",
     "text": [
      "Collection 'BookChunk' created successfully.\n"
     ]
    }
   ],
   "source": [
    "from weaviate.classes.config import Property, DataType, Configure\n",
    "\n",
    "collection_name = \"BookChunk\"  # change if desired\n",
    "description = \"A chunk of a book's content\"\n",
    "vectorizer = Configure.Vectorizer.text2vec_openai(\n",
    "    model=\"text-embedding-3-large\"\n",
    ")  # You can select other vectorizer\n",
    "metric = \"dot\"  # You can select other distance metric\n",
    "properties = [\n",
    "    Property(\n",
    "        name=\"text\", data_type=DataType.TEXT, description=\"The content of the text\"\n",
    "    ),\n",
    "    Property(\n",
    "        name=\"order\",\n",
    "        data_type=DataType.INT,\n",
    "        description=\"The order of the chunk in the book\",\n",
    "    ),\n",
    "    Property(\n",
    "        name=\"title\", data_type=DataType.TEXT, description=\"The title of the book\"\n",
    "    ),\n",
    "    Property(\n",
    "        name=\"author\", data_type=DataType.TEXT, description=\"The author of the book\"\n",
    "    ),\n",
    "    Property(\n",
    "        name=\"source\", data_type=DataType.TEXT, description=\"The source of the book\"\n",
    "    ),\n",
    "]\n",
    "\n",
    "weaviate_db.create_collection(\n",
    "    client, collection_name, description, properties, vectorizer, metric\n",
    ")"
   ]
  },
  {
   "cell_type": "markdown",
   "metadata": {},
   "source": [
    "### Delete Collection\n",
    "\n",
    "Managing collections in Weaviate includes the ability to remove them when they're no longer needed. The `delete_collection` function provides a straightforward way to remove collections from your Weaviate instance.\n",
    "\n",
    "**Function Signature:**\n",
    "- `client`: Weaviate client instance for database connection\n",
    "- `collection_name`: Name of the collection to be deleted\n",
    "\n",
    "**Advanced Operations:**\n",
    "For batch operations or managing multiple collections, you can use the `delete_all_collections()` function, which removes all collections from your Weaviate instance.\n",
    "\n",
    "> **Important:** Collection deletion is permanent and cannot be undone. Always ensure you have appropriate backups before deleting collections in production environments."
   ]
  },
  {
   "cell_type": "code",
   "execution_count": 10,
   "metadata": {},
   "outputs": [
    {
     "name": "stdout",
     "output_type": "stream",
     "text": [
      "Deleted index: BookChunk\n"
     ]
    }
   ],
   "source": [
    "# weaviate_db.delete_all_collections(client)    # if you want to delete all collections, uncomment this line\n",
    "weaviate_db.delete_collection(client, collection_name)"
   ]
  },
  {
   "cell_type": "markdown",
   "metadata": {},
   "source": [
    "### List Collections\n",
    "\n",
    "Lists all collections in Weaviate, providing a comprehensive view of your database schema and configurations. The `list_collections` function helps you inspect and manage your Weaviate instance's structure.\n",
    "\n",
    "**Key Information Returned:**\n",
    "- Collection names\n",
    "- Collection descriptions\n",
    "- Property configurations\n",
    "- Data types for each property\n",
    "\n",
    "> **Note:** This operation is particularly useful for database maintenance, debugging, and documentation purposes.\n"
   ]
  },
  {
   "cell_type": "code",
   "execution_count": 12,
   "metadata": {},
   "outputs": [
    {
     "name": "stdout",
     "output_type": "stream",
     "text": [
      "Collections (indexes) in the Weaviate schema:\n",
      "- Collection name: My_collection\n",
      "  Description: This property was generated by Weaviate's auto-schema feature on Tue Feb  4 11:48:44 2025\n",
      "  Properties:\n",
      "    - Name: unique_key, Type: DataType.TEXT\n",
      "    - Name: text, Type: DataType.TEXT\n",
      "    - Name: metadata, Type: DataType.OBJECT\n",
      "\n",
      "- Collection name: LangChain_178c8b97ed6b47e08524f99a42507d9b\n",
      "  Description: No description available\n",
      "  Properties:\n",
      "    - Name: text, Type: DataType.TEXT\n",
      "    - Name: order, Type: DataType.NUMBER\n",
      "    - Name: source, Type: DataType.TEXT\n",
      "    - Name: author, Type: DataType.TEXT\n",
      "    - Name: title, Type: DataType.TEXT\n",
      "\n",
      "- Collection name: AI_Collection\n",
      "  Description: This property was generated by Weaviate's auto-schema feature on Tue Feb  4 12:29:21 2025\n",
      "  Properties:\n",
      "    - Name: text, Type: DataType.TEXT\n",
      "    - Name: metadata, Type: DataType.OBJECT\n",
      "    - Name: unique_key, Type: DataType.TEXT\n",
      "\n",
      "- Collection name: LangChain_53e31c7099854e06a3718b74d8bd974a\n",
      "  Description: No description available\n",
      "  Properties:\n",
      "    - Name: text, Type: DataType.TEXT\n",
      "    - Name: order, Type: DataType.NUMBER\n",
      "    - Name: source, Type: DataType.TEXT\n",
      "    - Name: author, Type: DataType.TEXT\n",
      "    - Name: title, Type: DataType.TEXT\n",
      "\n",
      "- Collection name: BookChunk\n",
      "  Description: A chunk of a book's content\n",
      "  Properties:\n",
      "    - Name: text, Type: DataType.TEXT\n",
      "    - Name: order, Type: DataType.INT\n",
      "    - Name: title, Type: DataType.TEXT\n",
      "    - Name: author, Type: DataType.TEXT\n",
      "    - Name: source, Type: DataType.TEXT\n",
      "\n"
     ]
    }
   ],
   "source": [
    "weaviate_db.list_collections(client)"
   ]
  },
  {
   "cell_type": "code",
   "execution_count": 13,
   "metadata": {},
   "outputs": [
    {
     "name": "stdout",
     "output_type": "stream",
     "text": [
      "<weaviate.Collection config={\n",
      "  \"name\": \"BookChunk\",\n",
      "  \"description\": \"A chunk of a book's content\",\n",
      "  \"generative_config\": null,\n",
      "  \"inverted_index_config\": {\n",
      "    \"bm25\": {\n",
      "      \"b\": 0.75,\n",
      "      \"k1\": 1.2\n",
      "    },\n",
      "    \"cleanup_interval_seconds\": 60,\n",
      "    \"index_null_state\": false,\n",
      "    \"index_property_length\": false,\n",
      "    \"index_timestamps\": false,\n",
      "    \"stopwords\": {\n",
      "      \"preset\": \"en\",\n",
      "      \"additions\": null,\n",
      "      \"removals\": null\n",
      "    }\n",
      "  },\n",
      "  \"multi_tenancy_config\": {\n",
      "    \"enabled\": false,\n",
      "    \"auto_tenant_creation\": false,\n",
      "    \"auto_tenant_activation\": false\n",
      "  },\n",
      "  \"properties\": [\n",
      "    {\n",
      "      \"name\": \"text\",\n",
      "      \"description\": \"The content of the text\",\n",
      "      \"data_type\": \"text\",\n",
      "      \"index_filterable\": true,\n",
      "      \"index_range_filters\": false,\n",
      "      \"index_searchable\": true,\n",
      "      \"nested_properties\": null,\n",
      "      \"tokenization\": \"word\",\n",
      "      \"vectorizer_config\": {\n",
      "        \"skip\": false,\n",
      "        \"vectorize_property_name\": true\n",
      "      },\n",
      "      \"vectorizer\": \"text2vec-openai\"\n",
      "    },\n",
      "    {\n",
      "      \"name\": \"order\",\n",
      "      \"description\": \"The order of the chunk in the book\",\n",
      "      \"data_type\": \"int\",\n",
      "      \"index_filterable\": true,\n",
      "      \"index_range_filters\": false,\n",
      "      \"index_searchable\": false,\n",
      "      \"nested_properties\": null,\n",
      "      \"tokenization\": null,\n",
      "      \"vectorizer_config\": {\n",
      "        \"skip\": false,\n",
      "        \"vectorize_property_name\": true\n",
      "      },\n",
      "      \"vectorizer\": \"text2vec-openai\"\n",
      "    },\n",
      "    {\n",
      "      \"name\": \"title\",\n",
      "      \"description\": \"The title of the book\",\n",
      "      \"data_type\": \"text\",\n",
      "      \"index_filterable\": true,\n",
      "      \"index_range_filters\": false,\n",
      "      \"index_searchable\": true,\n",
      "      \"nested_properties\": null,\n",
      "      \"tokenization\": \"word\",\n",
      "      \"vectorizer_config\": {\n",
      "        \"skip\": false,\n",
      "        \"vectorize_property_name\": true\n",
      "      },\n",
      "      \"vectorizer\": \"text2vec-openai\"\n",
      "    },\n",
      "    {\n",
      "      \"name\": \"author\",\n",
      "      \"description\": \"The author of the book\",\n",
      "      \"data_type\": \"text\",\n",
      "      \"index_filterable\": true,\n",
      "      \"index_range_filters\": false,\n",
      "      \"index_searchable\": true,\n",
      "      \"nested_properties\": null,\n",
      "      \"tokenization\": \"word\",\n",
      "      \"vectorizer_config\": {\n",
      "        \"skip\": false,\n",
      "        \"vectorize_property_name\": true\n",
      "      },\n",
      "      \"vectorizer\": \"text2vec-openai\"\n",
      "    },\n",
      "    {\n",
      "      \"name\": \"source\",\n",
      "      \"description\": \"The source of the book\",\n",
      "      \"data_type\": \"text\",\n",
      "      \"index_filterable\": true,\n",
      "      \"index_range_filters\": false,\n",
      "      \"index_searchable\": true,\n",
      "      \"nested_properties\": null,\n",
      "      \"tokenization\": \"word\",\n",
      "      \"vectorizer_config\": {\n",
      "        \"skip\": false,\n",
      "        \"vectorize_property_name\": true\n",
      "      },\n",
      "      \"vectorizer\": \"text2vec-openai\"\n",
      "    }\n",
      "  ],\n",
      "  \"references\": [],\n",
      "  \"replication_config\": {\n",
      "    \"factor\": 1,\n",
      "    \"async_enabled\": false,\n",
      "    \"deletion_strategy\": \"NoAutomatedResolution\"\n",
      "  },\n",
      "  \"reranker_config\": null,\n",
      "  \"sharding_config\": {\n",
      "    \"virtual_per_physical\": 128,\n",
      "    \"desired_count\": 1,\n",
      "    \"actual_count\": 1,\n",
      "    \"desired_virtual_count\": 128,\n",
      "    \"actual_virtual_count\": 128,\n",
      "    \"key\": \"_id\",\n",
      "    \"strategy\": \"hash\",\n",
      "    \"function\": \"murmur3\"\n",
      "  },\n",
      "  \"vector_index_config\": {\n",
      "    \"quantizer\": null,\n",
      "    \"cleanup_interval_seconds\": 300,\n",
      "    \"distance_metric\": \"dot\",\n",
      "    \"dynamic_ef_min\": 100,\n",
      "    \"dynamic_ef_max\": 500,\n",
      "    \"dynamic_ef_factor\": 8,\n",
      "    \"ef\": -1,\n",
      "    \"ef_construction\": 128,\n",
      "    \"filter_strategy\": \"sweeping\",\n",
      "    \"flat_search_cutoff\": 40000,\n",
      "    \"max_connections\": 32,\n",
      "    \"skip\": false,\n",
      "    \"vector_cache_max_objects\": 1000000000000\n",
      "  },\n",
      "  \"vector_index_type\": \"hnsw\",\n",
      "  \"vectorizer_config\": {\n",
      "    \"vectorizer\": \"text2vec-openai\",\n",
      "    \"model\": {\n",
      "      \"baseURL\": \"https://api.openai.com\",\n",
      "      \"model\": \"text-embedding-3-large\"\n",
      "    },\n",
      "    \"vectorize_collection_name\": true\n",
      "  },\n",
      "  \"vectorizer\": \"text2vec-openai\",\n",
      "  \"vector_config\": null\n",
      "}>\n"
     ]
    }
   ],
   "source": [
    "print(weaviate_db.lookup_collection(collection_name))"
   ]
  },
  {
   "cell_type": "markdown",
   "metadata": {},
   "source": [
    "### Data Preprocessing\n",
    "\n",
    "Before storing documents in Weaviate, it's essential to preprocess them into manageable chunks. This section demonstrates how to effectively prepare your documents using the `RecursiveCharacterTextSplitter` for optimal vector storage and retrieval.\n",
    "\n",
    "**Key Preprocessing Steps:**\n",
    "- Text chunking for better semantic representation\n",
    "- Metadata assignment for enhanced searchability\n",
    "- Document structure optimization\n",
    "- Batch preparation for efficient storage\n",
    "\n",
    "> **Note:** While this example uses `RecursiveCharacterTextSplitter`, choose your text splitter based on your specific content type and requirements. The chunk size and overlap parameters significantly impact search quality and performance."
   ]
  },
  {
   "cell_type": "code",
   "execution_count": 14,
   "metadata": {},
   "outputs": [],
   "source": [
    "# This is a long document we can split up.\n",
    "with open(\"./data/the_little_prince.txt\") as f:\n",
    "    raw_text = f.read()"
   ]
  },
  {
   "cell_type": "code",
   "execution_count": 15,
   "metadata": {},
   "outputs": [
    {
     "name": "stdout",
     "output_type": "stream",
     "text": [
      "[Document(metadata={}, page_content='The Little Prince\\nWritten By Antoine de Saiot-Exupery (1900〜1944)'), Document(metadata={}, page_content='[ Antoine de Saiot-Exupery ]'), Document(metadata={}, page_content='Over the past century, the thrill of flying has inspired some to perform remarkable feats of daring. For others, their desire to soar into the skies led to dramatic leaps in technology. For Antoine de Saint-Exupéry, his love of aviation inspired stories, which have touched the hearts of millions'), Document(metadata={}, page_content='have touched the hearts of millions around the world.'), Document(metadata={}, page_content='Born in 1900 in Lyons, France, young Antoine was filled with a passion for adventure. When he failed an entrance exam for the Naval Academy, his interest in aviation took hold. He joined the French Army Air Force in 1921 where he first learned to fly a plane. Five years later, he would leave the'), Document(metadata={}, page_content='Five years later, he would leave the military in order to begin flying air mail between remote settlements in the Sahara desert.'), Document(metadata={}, page_content=\"For Saint-Exupéry, it was a grand adventure - one with dangers lurking at every corner. Flying his open cockpit biplane, Saint-Exupéry had to fight the desert's swirling sandstorms. Worse, still, he ran the risk of being shot at by unfriendly tribesmen below. Saint-Exupéry couldn't have been more\"), Document(metadata={}, page_content=\"Saint-Exupéry couldn't have been more thrilled. Soaring across the Sahara inspired him to spend his nights writing about his love affair with flying.\"), Document(metadata={}, page_content='When World War II broke out, Saint-Exupéry rejoined the French Air Force. After Nazi troops overtook France in 1940, Saint-Exupéry fled to the United States. He had hoped to join the U. S. war effort as a fighter pilot, but was dismissed because of his age. To console himself, he drew upon his'), Document(metadata={}, page_content='To console himself, he drew upon his experiences over the Saharan desert to write and illustrate what would become his most famous book, The Little Prince (1943). Mystical and enchanting, this small book has fascinated both children and adults for decades. In the book, a pilot is stranded in the')]\n"
     ]
    }
   ],
   "source": [
    "from langchain_text_splitters import RecursiveCharacterTextSplitter\n",
    "\n",
    "text_splitter = RecursiveCharacterTextSplitter(\n",
    "    # Set a really small chunk size, just to show.\n",
    "    chunk_size=300,\n",
    "    chunk_overlap=40,\n",
    "    length_function=len,\n",
    "    is_separator_regex=False,\n",
    ")\n",
    "\n",
    "split_docs = text_splitter.create_documents([raw_text])\n",
    "\n",
    "print(split_docs[:10])"
   ]
  },
  {
   "cell_type": "markdown",
   "metadata": {},
   "source": [
    "### Document Preprocessing Function\n",
    "\n",
    "The `preprocess_documents` function transforms pre-split documents into a format suitable for Weaviate storage. This utility function handles both document content and metadata, ensuring proper organization of your data.\n",
    "\n",
    "**Function Parameters:**\n",
    "- `split_docs`: List of LangChain Document objects containing page content and metadata\n",
    "- `metadata`: Optional dictionary of additional metadata to include with each chunk\n",
    "\n",
    "**Processing Steps:**\n",
    "- Iterates through Document objects\n",
    "- Assigns sequential order numbers\n",
    "- Combines document metadata with additional metadata\n",
    "- Formats data for Weaviate ingestion\n",
    "\n",
    "> **Best Practice:** When preprocessing documents, always maintain consistent metadata structure across your collection. This ensures efficient querying and filtering capabilities later."
   ]
  },
  {
   "cell_type": "code",
   "execution_count": 16,
   "metadata": {},
   "outputs": [
    {
     "data": {
      "text/plain": [
       "[{'text': 'The Little Prince\\nWritten By Antoine de Saiot-Exupery (1900〜1944)',\n",
       "  'order': 1,\n",
       "  'title': 'The Little Prince',\n",
       "  'author': 'Antoine de Saint-Exupéry',\n",
       "  'source': 'Original Text'},\n",
       " {'text': '[ Antoine de Saiot-Exupery ]',\n",
       "  'order': 2,\n",
       "  'title': 'The Little Prince',\n",
       "  'author': 'Antoine de Saint-Exupéry',\n",
       "  'source': 'Original Text'},\n",
       " {'text': 'Over the past century, the thrill of flying has inspired some to perform remarkable feats of daring. For others, their desire to soar into the skies led to dramatic leaps in technology. For Antoine de Saint-Exupéry, his love of aviation inspired stories, which have touched the hearts of millions',\n",
       "  'order': 3,\n",
       "  'title': 'The Little Prince',\n",
       "  'author': 'Antoine de Saint-Exupéry',\n",
       "  'source': 'Original Text'},\n",
       " {'text': 'have touched the hearts of millions around the world.',\n",
       "  'order': 4,\n",
       "  'title': 'The Little Prince',\n",
       "  'author': 'Antoine de Saint-Exupéry',\n",
       "  'source': 'Original Text'},\n",
       " {'text': 'Born in 1900 in Lyons, France, young Antoine was filled with a passion for adventure. When he failed an entrance exam for the Naval Academy, his interest in aviation took hold. He joined the French Army Air Force in 1921 where he first learned to fly a plane. Five years later, he would leave the',\n",
       "  'order': 5,\n",
       "  'title': 'The Little Prince',\n",
       "  'author': 'Antoine de Saint-Exupéry',\n",
       "  'source': 'Original Text'},\n",
       " {'text': 'Five years later, he would leave the military in order to begin flying air mail between remote settlements in the Sahara desert.',\n",
       "  'order': 6,\n",
       "  'title': 'The Little Prince',\n",
       "  'author': 'Antoine de Saint-Exupéry',\n",
       "  'source': 'Original Text'},\n",
       " {'text': \"For Saint-Exupéry, it was a grand adventure - one with dangers lurking at every corner. Flying his open cockpit biplane, Saint-Exupéry had to fight the desert's swirling sandstorms. Worse, still, he ran the risk of being shot at by unfriendly tribesmen below. Saint-Exupéry couldn't have been more\",\n",
       "  'order': 7,\n",
       "  'title': 'The Little Prince',\n",
       "  'author': 'Antoine de Saint-Exupéry',\n",
       "  'source': 'Original Text'},\n",
       " {'text': \"Saint-Exupéry couldn't have been more thrilled. Soaring across the Sahara inspired him to spend his nights writing about his love affair with flying.\",\n",
       "  'order': 8,\n",
       "  'title': 'The Little Prince',\n",
       "  'author': 'Antoine de Saint-Exupéry',\n",
       "  'source': 'Original Text'},\n",
       " {'text': 'When World War II broke out, Saint-Exupéry rejoined the French Air Force. After Nazi troops overtook France in 1940, Saint-Exupéry fled to the United States. He had hoped to join the U. S. war effort as a fighter pilot, but was dismissed because of his age. To console himself, he drew upon his',\n",
       "  'order': 9,\n",
       "  'title': 'The Little Prince',\n",
       "  'author': 'Antoine de Saint-Exupéry',\n",
       "  'source': 'Original Text'},\n",
       " {'text': 'To console himself, he drew upon his experiences over the Saharan desert to write and illustrate what would become his most famous book, The Little Prince (1943). Mystical and enchanting, this small book has fascinated both children and adults for decades. In the book, a pilot is stranded in the',\n",
       "  'order': 10,\n",
       "  'title': 'The Little Prince',\n",
       "  'author': 'Antoine de Saint-Exupéry',\n",
       "  'source': 'Original Text'}]"
      ]
     },
     "execution_count": 16,
     "metadata": {},
     "output_type": "execute_result"
    }
   ],
   "source": [
    "from typing import List, Dict\n",
    "from langchain_core.documents import Document\n",
    "\n",
    "\n",
    "def preprocess_documents(\n",
    "    split_docs: List[Document], metadata: Dict[str, str] = None\n",
    ") -> List[Dict[str, Dict[str, object]]]:\n",
    "    \"\"\"\n",
    "    Processes a list of pre-split documents into a format suitable for storing in Weaviate.\n",
    "\n",
    "    :param split_docs: List of LangChain Document objects (each containing page_content and metadata).\n",
    "    :param metadata: Additional metadata to include in each chunk (e.g., title, source).\n",
    "    :return: A list of dictionaries, each representing a chunk in the format:\n",
    "             {'properties': {'text': ..., 'order': ..., ...metadata}}\n",
    "    \"\"\"\n",
    "    processed_chunks = []\n",
    "    texts = []\n",
    "    metadatas = []\n",
    "    # Iterate over Document objects\n",
    "    for idx, doc in enumerate(split_docs, start=1):\n",
    "        # Extract text from page_content and include metadata\n",
    "        chunk_data = {\"text\": doc.page_content, \"order\": idx}\n",
    "        # Combine with metadata from Document and additional metadata if provided\n",
    "        if metadata:\n",
    "            chunk_data.update(metadata)\n",
    "        if doc.metadata:\n",
    "            chunk_data.update(doc.metadata)\n",
    "\n",
    "        # Format for Weaviate\n",
    "        processed_chunks.append(chunk_data)\n",
    "        texts.append(doc.page_content)\n",
    "        metadatas.append(metadata)\n",
    "\n",
    "    return processed_chunks, texts, metadatas\n",
    "\n",
    "\n",
    "metadata = {\n",
    "    \"title\": \"The Little Prince\",\n",
    "    \"author\": \"Antoine de Saint-Exupéry\",\n",
    "    \"source\": \"Original Text\",\n",
    "}\n",
    "\n",
    "processed_chunks, texts, metadatas = preprocess_documents(split_docs, metadata=metadata)\n",
    "\n",
    "processed_chunks[:10]"
   ]
  },
  {
   "cell_type": "markdown",
   "metadata": {},
   "source": [
    "## Manage vector store\n",
    "Once you have created your vector store, we can interact with it by adding and deleting different items."
   ]
  },
  {
   "cell_type": "markdown",
   "metadata": {},
   "source": [
    "### Add Items to Vector Store\n",
    "\n",
    "Weaviate provides flexible methods for adding documents to your vector store. This section explores two efficient approaches: standard insertion and parallel batch processing, each optimized for different use cases.\n",
    "\n",
    "#### Standard Insertion\n",
    "Best for smaller datasets or when processing order is important:\n",
    "- Sequential document processing\n",
    "- Automatic UUID generation\n",
    "- Built-in duplicate handling\n",
    "- Real-time progress tracking\n",
    "\n",
    "#### Parallel Batch Processing\n",
    "Optimized for large-scale document ingestion:\n",
    "- Multi-threaded processing\n",
    "- Configurable batch sizes\n",
    "- Concurrent execution\n",
    "- Enhanced throughput\n",
    "\n",
    "**Configuration Options:**\n",
    "- `batch_size`: Control memory usage and processing chunks\n",
    "- `max_workers`: Adjust concurrent processing threads\n",
    "- `unique_key`: Define document identification field\n",
    "- `show_progress`: Monitor ingestion progress\n",
    "\n",
    "**Performance Tips:**\n",
    "- For datasets < 1000 documents: Use standard insertion\n",
    "- For datasets > 1000 documents: Consider parallel processing\n",
    "- Monitor memory usage when increasing batch size\n",
    "- Adjust worker count based on available CPU cores\n",
    "\n",
    "> **Best Practice:** Choose your ingestion method based on dataset size and system resources. Start with conservative batch sizes and gradually optimize based on performance metrics."
   ]
  },
  {
   "cell_type": "code",
   "execution_count": 17,
   "metadata": {},
   "outputs": [],
   "source": [
    "from weaviate.util import generate_uuid5\n",
    "\n",
    "def generate_ids(collection_name: str, unique_values: List[str]):\n",
    "  ids = []\n",
    "\n",
    "  for unique_value in unique_values:\n",
    "    ids.append(generate_uuid5(collection_name, unique_value))\n",
    "  return ids\n",
    "\n",
    "ids = generate_ids(collection_name, [str(processed_chunk[\"order\"]) for processed_chunk in processed_chunks])"
   ]
  },
  {
   "cell_type": "code",
   "execution_count": 15,
   "metadata": {},
   "outputs": [
    {
     "name": "stdout",
     "output_type": "stream",
     "text": [
      "Processed batch 1/5\n",
      "Processed batch 2/5\n",
      "Processed batch 3/5\n",
      "Processed batch 4/5\n",
      "Processed batch 5/5\n",
      "\n",
      "Processing complete\n",
      "Number of successfully processed documents: 458\n",
      "Total elapsed time: 191.42 seconds\n"
     ]
    }
   ],
   "source": [
    "import time\n",
    "\n",
    "start_time = time.time()\n",
    "# Example usage\n",
    "results = weaviate_db.upsert(\n",
    "    texts=texts,\n",
    "    metadatas=metadatas,\n",
    "    ids=ids,\n",
    "    collection_name=collection_name,\n",
    "    batch_size=100,\n",
    "    show_progress=True,\n",
    ")\n",
    "\n",
    "end_time = time.time()\n",
    "print(f\"\\nProcessing complete\")\n",
    "print(f\"Number of successfully processed documents: {len(results)}\")\n",
    "print(f\"Total elapsed time: {end_time - start_time:.2f} seconds\")"
   ]
  },
  {
   "cell_type": "code",
   "execution_count": 18,
   "metadata": {},
   "outputs": [
    {
     "name": "stdout",
     "output_type": "stream",
     "text": [
      "\n",
      "Processing complete\n",
      "Number of successfully processed documents: 458\n",
      "Total elapsed time: 7.36 seconds\n"
     ]
    }
   ],
   "source": [
    "import time\n",
    "\n",
    "start_time = time.time()\n",
    "\n",
    "results = weaviate_db.upsert_parallel(\n",
    "    texts=texts,\n",
    "    metadatas=metadatas,\n",
    "    ids=ids,\n",
    "    collection_name=collection_name,\n",
    "    text_key=\"text\",\n",
    ")\n",
    "\n",
    "end_time = time.time()\n",
    "print(f\"\\nProcessing complete\")\n",
    "print(f\"Number of successfully processed documents: {len(results)}\")\n",
    "print(f\"Total elapsed time: {end_time - start_time:.2f} seconds\")"
   ]
  },
  {
   "cell_type": "markdown",
   "metadata": {},
   "source": [
    "### Search items from Weaviate\n",
    "\n",
    "You can search items from `weaviate` by filter"
   ]
  },
  {
   "cell_type": "code",
   "execution_count": 19,
   "metadata": {},
   "outputs": [
    {
     "data": {
      "text/plain": [
       "[Document(metadata={'title': 'The Little Prince', 'author': 'Antoine de Saint-Exupéry', 'source': 'Original Text', 'order': 9, 'uuid': 'c78af9d2-00b1-5637-9904-f925cb8e2107'}, page_content='To console himself, he drew upon his experiences over the Saharan desert to write and illustrate what would become his most famous book, The Little Prince (1943). Mystical and enchanting, this small book has fascinated both children and adults for decades. In the book, a pilot is stranded in the'),\n",
       " Document(metadata={'title': 'The Little Prince', 'order': 10, 'source': 'Original Text', 'author': 'Antoine de Saint-Exupéry', 'uuid': '00d8fa75-c17d-5d21-8820-0175c0d461d1'}, page_content='In the book, a pilot is stranded in the midst of the Sahara where he meets a tiny prince from another world traveling the universe in order to understand life. In the book, the little prince discovers the true meaning of life. At the end of his conversation with the Little Prince, the aviator')]"
      ]
     },
     "execution_count": 19,
     "metadata": {},
     "output_type": "execute_result"
    }
   ],
   "source": [
    "weaviate_db.search(\n",
    "    query=\"What is the little prince about?\",\n",
    "    filters={\"author\": \"Antoine de Saint-Exupéry\"},\n",
    "    k=2,\n",
    "    collection_name=collection_name,\n",
    "    show_progress=True,\n",
    ")"
   ]
  },
  {
   "cell_type": "markdown",
   "metadata": {},
   "source": [
    "### Delete items from Weaviate\n",
    "\n",
    "You can delete items from `weaviate` by filter\n",
    "\n",
    "First, let's search for documents that contain the text `Hum! Hum!` in the `text` property."
   ]
  },
  {
   "cell_type": "code",
   "execution_count": 20,
   "metadata": {},
   "outputs": [
    {
     "data": {
      "text/plain": [
       "[Document(metadata={'title': 'The Little Prince', 'order': 199, 'source': 'Original Text', 'author': 'Antoine de Saint-Exupéry', 'uuid': 'bef162c8-9707-5016-b1b4-3fe66a35f32b'}, page_content='\"Hum! Hum!\" replied the king; and before saying anything else he consulted a bulky almanac. \"Hum! Hum! That will be about-- about-- that will be this evening about twenty minutes to eight. And you will see how well I am obeyed.\"'),\n",
       " Document(metadata={'title': 'The Little Prince', 'order': 185, 'source': 'Original Text', 'author': 'Antoine de Saint-Exupéry', 'uuid': 'dd0f094c-35e4-5fbd-b24c-8a638b06cb77'}, page_content='\"Hum! Hum!\" replied the king. \"Then I-- I order you sometimes to yawn and sometimes to--\"\\nHe sputtered a little, and seemed vexed.')]"
      ]
     },
     "execution_count": 20,
     "metadata": {},
     "output_type": "execute_result"
    }
   ],
   "source": [
    "weaviate_db.keyword_search(\n",
    "    query=\"Hum! Hum!\",\n",
    "    filters={\"author\": \"Antoine de Saint-Exupéry\"},\n",
    "    k=2,\n",
    "    collection_name=collection_name,\n",
    "    show_progress=True,\n",
    ")"
   ]
  },
  {
   "cell_type": "markdown",
   "metadata": {},
   "source": [
    "Now let's delete the document with the filter applied."
   ]
  },
  {
   "cell_type": "code",
   "execution_count": 21,
   "metadata": {},
   "outputs": [
    {
     "data": {
      "text/plain": [
       "True"
      ]
     },
     "execution_count": 21,
     "metadata": {},
     "output_type": "execute_result"
    }
   ],
   "source": [
    "weaviate_db.delete(collection_name=collection_name, ids=None, filters={\"author\": \"Antoine de Saint-Exupéry\"})"
   ]
  },
  {
   "cell_type": "markdown",
   "metadata": {},
   "source": [
    "Let's verify that the document was deleted properly."
   ]
  },
  {
   "cell_type": "code",
   "execution_count": 22,
   "metadata": {},
   "outputs": [
    {
     "data": {
      "text/plain": [
       "[]"
      ]
     },
     "execution_count": 22,
     "metadata": {},
     "output_type": "execute_result"
    }
   ],
   "source": [
    "weaviate_db.keyword_search(\n",
    "    query=\"Hum! Hum!\",\n",
    "    filters={\"author\": \"Antoine de Saint-Exupéry\"},\n",
    "    k=2,\n",
    "    collection_name=collection_name,\n",
    "    show_progress=True,\n",
    ")"
   ]
  },
  {
   "cell_type": "markdown",
   "metadata": {},
   "source": [
    "Great job, now let's dive into Similarity Search with Langchain Vector Store.\n",
    "\n",
    "----"
   ]
  },
  {
   "cell_type": "markdown",
   "metadata": {},
   "source": [
    "## Finding Objects by Similarity\n",
    "\n",
    "Weaviate allows you to find objects that are semantically similar to your query. Let's walk through a complete example, from importing data to executing similarity searches.\n",
    "\n",
    "### Step 1: Preparing Your Data\n",
    "\n",
    "Before we can perform similarity searches, we need to populate our Weaviate instance with data. We'll start by loading and chunking a text file into manageable pieces.\n",
    "\n",
    "> 💡 **Tip**: Breaking down large texts into smaller chunks helps optimize vector search performance and relevance."
   ]
  },
  {
   "cell_type": "code",
   "execution_count": 23,
   "metadata": {},
   "outputs": [
    {
     "data": {
      "text/plain": [
       "['fb84432b-b4e4-462e-9a68-484f6d4de7dc',\n",
       " 'dfb24d67-ad31-4966-b8d4-9ae4dce359bb',\n",
       " '6483e4c2-837a-401f-88a0-281a25f17ed3',\n",
       " '42129c38-d3c0-4a31-9c14-b710aa74f69d',\n",
       " 'cd962105-4c04-47a4-b3ce-cebdd4ed7298',\n",
       " 'df4000fb-5a03-4f4a-893c-31ed77c829c7',\n",
       " 'b234c852-07cd-4231-a4e3-be26b44a0aaf',\n",
       " '09198aa4-3536-41e5-b97c-813bc24bfc81',\n",
       " 'd8050eca-1668-4369-9473-60558e87d3af',\n",
       " 'f9025fa7-5fdd-4923-9e2f-e9d3735e1e21',\n",
       " '5cb692bb-5ab1-463b-bfb7-86f48c8a8896',\n",
       " '01c330bb-2985-4cf1-b572-9ae3e0815ccc',\n",
       " '3fc2ca2f-2278-4f68-90f7-f94f745789b1',\n",
       " '08a0b81c-c4e3-4484-8b95-63ac6ec61698',\n",
       " '067d73c0-3a5a-4e80-8736-e62cd3e2f230',\n",
       " '9dec3302-1ca0-4423-a581-c25a626b7e63',\n",
       " '3b3310ee-8542-46e2-9e3c-46a1b6a2abbc',\n",
       " 'f0517f87-aaf8-48f1-b8cc-7252b7cd3e85',\n",
       " '5bfd0ac5-4c22-4e43-a9a5-d5d147b34fe6',\n",
       " 'c09127d4-ee6c-4a67-aedd-eeee4b08d5f9',\n",
       " '73d66b6d-20fb-4d25-8bda-687a1e74d34c',\n",
       " '9ffc34ff-e224-4a14-848a-85b3d5e35ed2',\n",
       " '26d2f2c7-1280-4897-b025-2308b6c68419',\n",
       " 'f0f63cb9-a977-43e9-94a0-47d817a3b29a',\n",
       " '938c9c38-449f-4e4c-a368-6bae34b956af',\n",
       " '65efe389-eaed-4b92-a772-a177e68f4ad4',\n",
       " 'ad3f9a0d-226e-4dd3-ab57-c8e50444d0e4',\n",
       " 'e105552c-b34a-42bc-9444-ae536851f1ad',\n",
       " '929d085c-a65e-42d3-8a82-fe50bd2df3e1',\n",
       " 'd1e59c4b-5f22-4f01-9690-292ef9aa5b0b',\n",
       " '34c638a3-485e-4c04-b024-8609361ccba2',\n",
       " 'a35b82e5-51cb-44fa-8cb0-6c1ca8c192c7',\n",
       " 'cf54d399-b0de-4b78-8d3a-16a9949e5192',\n",
       " '6e0d1148-10b1-4080-96cf-70f338f590de',\n",
       " '536925b4-5eb1-4aa5-b24a-2fbc99977ae8',\n",
       " '091bea70-2240-469b-a6b5-a6b003e7de59',\n",
       " '449da40d-240a-4c4e-95d1-4da79cc4cf49',\n",
       " '24d8dec0-60e5-4459-98b3-23d4c04cd6ef',\n",
       " '33a29c80-855d-4196-83eb-b4f766e2377f',\n",
       " '0d88e6d9-128c-4a88-bdfe-2264f110571d',\n",
       " 'f5668457-d3ad-4655-8785-f360b1ccb75f',\n",
       " '8ab376a1-3690-4a6f-b434-643dad051aaf',\n",
       " '8e5e8e63-fe02-4934-bfbe-bdcfd4a95042',\n",
       " 'bf2b77ce-6da3-40a3-94aa-a1bb5a037e17',\n",
       " '4857768b-84dc-452b-8559-3f983d535f7f',\n",
       " '9e3636ff-f13a-4e27-af3b-492950b27008',\n",
       " '2a59a6c7-8cff-4163-943e-28dbe1fca771',\n",
       " '1591fa61-3334-4d42-954e-af228cdef09b',\n",
       " 'd9dc835e-3ec9-4786-8a8e-a0fda386530c',\n",
       " 'ad13dc3b-d960-4165-9577-e4c9d667c8a9',\n",
       " '954e00e4-e30a-47d8-9c89-4aaabf0c1df9',\n",
       " '409e6e43-13c4-4486-b184-16e074088f74',\n",
       " '7c91b771-6cae-4056-801f-cea8c2603515',\n",
       " 'c5492342-7164-4bb8-a6bb-a77e5e6d3bb7',\n",
       " 'b4fe342c-c577-4880-be80-286fbb410358',\n",
       " '6bf488de-c585-4f4d-a6f0-45ee73ab1956',\n",
       " '11fe4cc8-d3cf-45dc-8652-6cb2aeed59bb',\n",
       " '30ae1464-4046-49c7-bfca-92766392aced',\n",
       " 'f4b35367-76c3-43fa-9a4a-3e47c386a97d',\n",
       " '4e40257f-3a32-41ad-b047-9403f574e3dd',\n",
       " '24227e67-424c-497e-b82f-5db25d05f6fd',\n",
       " 'd97a6696-1509-426e-a153-113157520abf',\n",
       " 'a2ca6ede-a996-45af-ba77-e478ab25267d',\n",
       " '246c9e59-af4d-467f-9c6e-45da5e1349e6',\n",
       " '24046764-9476-4d2c-b545-203d3244b54a',\n",
       " '72a93e8a-d035-4053-b834-3dd441e57f28',\n",
       " 'cce36d02-aa2f-4a13-8e5d-e78a3d725894',\n",
       " 'a240f134-3a65-4330-92d2-520f83fec445',\n",
       " '08906368-3dc3-4bb4-9bf4-dbf12b5cee35',\n",
       " 'bffc31f6-6848-404e-a9c6-1ee1f3d2ae69',\n",
       " '6656eaf8-71c8-440e-af56-7ee388bf3d21',\n",
       " '7c40de95-7d6e-4639-aa24-3925f4e7d6fd',\n",
       " '788bdb64-08d0-4be7-9bdf-12935332bb52',\n",
       " '45dcb654-8fc2-43f5-a9a4-bbdbee9d67db',\n",
       " '6e4423b8-853b-48eb-a5e4-3d52f0f6c0da',\n",
       " 'deef80fa-df7e-44c9-ac19-cf9418d0f6d2',\n",
       " 'f8c08f79-1819-40d9-b3e1-5e5a9fd7ab09',\n",
       " '1373580b-f654-4fcd-9476-c7d3de6d15f3',\n",
       " '8d17997f-595d-475a-a313-37a52189e358',\n",
       " '31f6064b-acc5-42dc-9635-e5019195f046',\n",
       " '1ebb8f03-5942-4803-9b2f-2a6a269f63f6',\n",
       " '44aa668e-d6e1-4fa2-b621-ff512165d9fe',\n",
       " '4f160821-e65a-41c2-b054-0f864807cd82',\n",
       " 'ea442754-66a6-4ba3-9d0d-439ae4d77557',\n",
       " '0cc16573-2994-4555-9090-0e69b9babe44',\n",
       " '9d196caa-b57c-4e1d-8b5c-3ddea34b38ea',\n",
       " '7fd0dc50-5c56-456a-9e61-c2b37862dc22',\n",
       " '18525c1e-1e8e-4caa-b1c1-6db52978db4a',\n",
       " 'edc85749-15f0-406a-ae90-6cee0121b0bd',\n",
       " '7dfb16ab-a954-4386-92fc-622be8bbe63a',\n",
       " 'd3571d78-b1a4-45fd-8f4f-70a358e75d0c',\n",
       " 'd7fdaf1c-4894-4e6f-92ce-08f672397601',\n",
       " '29ae8ecb-7bc6-46d4-8598-ce035f157fa0',\n",
       " '7e467b64-a1a9-4758-a840-843df2065047',\n",
       " '610adf0b-d08f-43e3-95f3-c0f774bf8d9f',\n",
       " '057a2267-f102-4b9b-bfb0-bdd17b44f2fb',\n",
       " '96c2320d-cde7-4b67-b054-8eae8995f89e',\n",
       " 'a8beb16b-0066-4ecf-bca7-9a45875d87d2',\n",
       " '77d644c8-86f6-4149-ae70-99acdd80d178',\n",
       " '50e3e667-6bbf-4966-97fb-df0ac47d2e35',\n",
       " 'db125fab-1385-4e66-983a-ad997b2183df',\n",
       " '95e506c5-de5e-421e-9f44-8c7c365abaf9',\n",
       " '5994a53d-80b3-474a-b4a9-64aa5cbe68de',\n",
       " '46b35680-c28e-4aa9-99eb-675da1b4de25',\n",
       " '8c0c95b6-ce9a-4362-9e4a-def215ef358a',\n",
       " 'e4a8195d-9344-4672-900e-2459ee6bf784',\n",
       " '75999b98-6291-4faf-bebe-988f6ae7aea6',\n",
       " 'e9ce4614-9390-4ad4-b9f3-b47641686e91',\n",
       " '2f726b5e-0006-4525-97bb-d1bfc0be420f',\n",
       " '105dfc9a-b227-442b-948b-9bbf743b5ffe',\n",
       " '35e67174-05aa-483b-9631-428c7504156c',\n",
       " 'b1fcd0cd-08e3-4b8d-8c99-84d628869c76',\n",
       " '6837bbcf-63c4-4e52-8ae3-0d42b071941a',\n",
       " '19eb578d-5c0c-4b6c-a477-f94b58ba45e0',\n",
       " '68e71547-80a1-464f-aea2-5eca241ba975',\n",
       " '277bd2bf-d180-4dc4-9c43-e9242738c4b5',\n",
       " '513103bc-ba9a-4cd6-a01b-d010bea2d64d',\n",
       " 'b5e96518-bb0f-4b06-a798-4e7b26eac67f',\n",
       " '21ba3278-f92b-47ba-8794-cef680c4e55d',\n",
       " '36916e54-f775-4b06-9cf4-43bddc677f20',\n",
       " '1dd89f7d-4908-4bbd-8ecf-8342317b0327',\n",
       " '66d064df-6e88-4515-a62f-249630b23450',\n",
       " '48a516e1-41e9-4f24-8681-1578c3810228',\n",
       " '5b3f427f-5d2f-4857-8038-a76d4b6e9697',\n",
       " 'd009483d-13b8-46f9-80e3-8382445d3465',\n",
       " '84943251-61be-4c64-a303-c1f27d9afc9d',\n",
       " 'c933dbd0-9cb0-431b-99d5-1f6e9b48b3c9',\n",
       " '0f754db4-41f7-4c0b-afc2-866b10296fb0',\n",
       " '5cc17b10-6098-45d4-b15f-68a43cf4400b',\n",
       " '8b983f2d-9927-4ca6-89fd-151be16189df',\n",
       " 'eb8bac4b-9b0e-4326-96aa-c559331439bf',\n",
       " 'a981c303-59eb-4391-966c-8d70c0c0ad05',\n",
       " '6d25e239-56f8-40ea-9194-4a2b6c1666e4',\n",
       " 'c21d1deb-8bb3-47ed-a4bb-bc75644e36fb',\n",
       " 'a8a9a8bd-7485-43b9-85ff-4e837eaf9177',\n",
       " '5f58c882-65d8-4ba7-b7b4-1dcd0633734e',\n",
       " '3060fc3d-ceec-43ca-9f04-f4b6c34b17b5',\n",
       " '144a4fa9-8b57-4c07-ba06-fe0a076f3ecb',\n",
       " '17375a39-2a28-473c-9e23-24219513cef9',\n",
       " '1af7ea58-669e-4bdf-a6ad-81491446b132',\n",
       " 'c7bf08b8-52e6-4930-b4c9-cd9626d82392',\n",
       " 'b4351c1e-8032-4d2e-91bb-a1abaeb9e3aa',\n",
       " 'cb81e7d9-1e66-406b-9be3-3c8d4ec7f57e',\n",
       " 'fc62f8cb-340e-4958-87d1-cb9cdadf8675',\n",
       " '273978df-51ce-4616-b271-2cf1cb1f9223',\n",
       " 'b38c1715-9737-415a-be10-df8feca07b91',\n",
       " 'a357f5e2-3777-4908-903b-247af1212677',\n",
       " '763b0f23-ec60-42fc-a4b8-e90efd69c8c8',\n",
       " '24c35d36-d019-43a0-8fce-16c64c394a8e',\n",
       " 'cdaa4e43-12d9-4665-bd69-5037767dd58a',\n",
       " '8862cd1b-2446-42be-a3d9-af6807ff9637',\n",
       " 'd6c79d3d-1d9f-4fba-8d3b-24071baa94ca',\n",
       " 'dcb3aa2f-26b5-4dc3-8bcc-b0271afb207b',\n",
       " '977af796-fd4f-412b-b351-740e5d2d1b0c',\n",
       " 'f9b186e8-9354-4b8e-a7ce-65a1d0aee13b',\n",
       " '7239d9fc-6446-43aa-91b4-d5332366b5c8',\n",
       " 'ccba0fdc-fd5d-4876-b90a-d62849c15e0b',\n",
       " 'a494cc8e-54aa-44a8-93a2-dde00f24e64c',\n",
       " '89af17c3-65f9-4690-a47a-9bfe58e08b82',\n",
       " '6751ad63-989d-441f-815f-611443ec1d04',\n",
       " '2a46e75d-5088-4151-ac68-4bf602421ec9',\n",
       " '242e9fcb-9d7e-4b8f-801f-799f6b9bf20c',\n",
       " 'ae596ece-7b07-498a-9852-1b5cbe83ed39',\n",
       " 'a67e7851-457c-4fc6-a4a4-e7e9c58302fd',\n",
       " '5d556e58-43b4-42c8-9a83-976151d7f556',\n",
       " 'dd9e8e7d-a294-4e37-b477-b64e56ee0e0b',\n",
       " 'db45a424-7ffc-442e-a8b2-405283093d01',\n",
       " '2ea9dcf5-5a93-4368-9efb-01555fb0ea50',\n",
       " '4409762c-ffbf-454b-b55f-3a5f21756d7c',\n",
       " 'b6313f10-d093-4c20-a814-c697f3812fba',\n",
       " 'f06a6534-ee27-42e9-a0ec-e99937bac2f0',\n",
       " '102fb16a-7e07-4d48-bae1-e67a5aae99bd',\n",
       " 'b9ec459d-6e07-4492-a89c-bc48bdf4f266',\n",
       " 'f8bfa86b-b286-4f94-8ebe-8537b819ed0e',\n",
       " '28004854-dcc8-490d-8809-bb4d893775f3',\n",
       " '017b8f31-b6fc-400e-bff5-026273d556fb',\n",
       " '3c175817-bb9b-4976-bf41-1e422d675264',\n",
       " '2d3f7ba1-6a4c-478f-87c1-94f28f9a6af6',\n",
       " 'cb28911d-63d2-4d71-a418-d748218cfdd0',\n",
       " '9798da43-1db4-4ddd-a8d5-66982d58ccf5',\n",
       " '97905865-f64b-4b19-8dec-1b676334a4cf',\n",
       " '5764424b-b5f6-4e79-9292-cfd8815441e4',\n",
       " 'af06fad2-d329-4f04-8801-4fbe266e879a',\n",
       " '6037b897-7567-4953-96a2-d0b1d177f60a',\n",
       " '365a05e2-4c15-4bdf-b43d-96d6c65ab806',\n",
       " '16409897-0ebd-4051-ac1d-cac0c338928d',\n",
       " '8cc14890-ec35-47b3-90a4-625ae936e466',\n",
       " 'eee31e04-9e4b-4835-9012-854a357292c2',\n",
       " 'c751eb2d-3a7d-4242-84d1-4555bf8e7aa9',\n",
       " '871366f8-5da3-4687-b7bc-087e5b725e1f',\n",
       " '89673b02-78bb-4d92-8c8b-3310f800e9f4',\n",
       " '9a376b8c-aabe-4831-a718-d1bf1952a1ab',\n",
       " '4dfb1859-f75c-4fe5-8e9f-13e352ddc6bc',\n",
       " '6b38f2f0-eec9-4d4e-b2d8-3a3d536cde6c',\n",
       " '59e9eae5-7afb-4c59-b395-5f6a11e90305',\n",
       " '4c0ea79e-9c4a-4307-8ef0-1b3a29d06790',\n",
       " '343d2797-e1e0-4b67-b7dd-6d64aa3a3390',\n",
       " 'fb7cfff4-666c-49d5-b15b-188fc432a302',\n",
       " 'a9898971-a829-4538-aa30-3d5045690258',\n",
       " 'ccf719ab-cbcf-4f3c-b76c-d292ac3376b5',\n",
       " '8a44c056-04a1-4208-bb91-5db7d6be88d5',\n",
       " '9e5b25b8-a2b6-474f-b31c-037eb7e7e88c',\n",
       " '0a060704-45ff-4be7-ba05-c2d859a1ddfb',\n",
       " '88ca2b17-4678-4782-a5c8-4fcddb2640dc',\n",
       " '6d343356-f935-4cca-b14e-abfdbfc1aa3c',\n",
       " '45f2817a-1c87-4c8f-9e5e-eeab1a50156b',\n",
       " '778b6a4e-f79e-4c9e-bfc4-d8541c80f0c0',\n",
       " '81637c6f-d5f3-4317-bf36-01240f43ce6f',\n",
       " '690c391f-2596-400a-8c42-d5f43ea1c7fd',\n",
       " 'b3d6ba3a-0f32-4084-994c-eb5579f730e6',\n",
       " 'b225be55-7fce-4d9c-b0c8-51eeca4350d5',\n",
       " '4ed87e96-3a38-4a40-9b9e-34a3c2ba8936',\n",
       " '15f32304-5598-4842-9937-3470a0c7013b',\n",
       " '9bbf637f-d4c0-4999-aadd-6b19b63fc0f2',\n",
       " 'f33bbdfb-bcf0-4ef0-855d-dc8729c45938',\n",
       " 'd7036e5d-fcc6-4f26-bfe4-090d7fa00a48',\n",
       " 'fb99959c-2551-4135-9481-2841ffb0e1f6',\n",
       " '6087beb0-0790-4658-9726-6a4238ee46ab',\n",
       " '45f17f8f-9de5-4bfa-9a59-a09552be43c1',\n",
       " '5b08a9ac-d54c-4d10-a5a1-e2abdb6965f9',\n",
       " '40bd50a5-e366-47d0-a3a1-cd0de014eb85',\n",
       " '3d28a5f5-c50e-4dd1-8788-d7f371242a94',\n",
       " '4be93114-2ecb-42a8-ad42-b67810d9f0e3',\n",
       " '2c2aefbd-a4df-4af9-a727-1debf1e491d7',\n",
       " '8cd76607-7ff1-47b0-9c33-0d0090df0a73',\n",
       " '2e718169-4f17-48e6-b9e8-2fa604c1fb19',\n",
       " '0fd5417f-e7cc-4594-ad90-47b3a7228b2a',\n",
       " '850228b5-a23d-49ea-8e8b-2c9fb8bd6b37',\n",
       " 'c6cfea0e-5d32-4e67-b47a-e34ed0af50db',\n",
       " 'a0b44a59-3b85-42c2-8333-80ea40ca3d3e',\n",
       " '8bdc7bf4-c206-4821-9c08-7a96b27661d8',\n",
       " '0430a5b3-42c0-4469-9fa6-c7e62955bd5f',\n",
       " '93cdc7f7-afd5-4505-9f24-cdbd51b6bad7',\n",
       " 'f4a5af78-0059-48a4-a36c-9763e1a8ee3c',\n",
       " '32c5915a-c2e6-43aa-a338-5b37a9c40b0b',\n",
       " 'e78c87d5-8a4d-49d7-8e2a-7616d75c611e',\n",
       " 'bad7052d-1d7c-407a-a6ef-25e990746b35',\n",
       " '7e2de31f-04e7-437d-9f86-e53cdff9fb4d',\n",
       " '313d5887-b969-4da3-9304-f516300aad73',\n",
       " 'c073dcbd-ad12-41b3-9d4e-fa99ab7323b0',\n",
       " 'd829870a-85a4-436a-bbe1-d047fe88157e',\n",
       " '45b2c84f-5afe-48f0-9aae-88c258160298',\n",
       " '4ac75d3a-9a12-42e5-b879-b21b3f379b90',\n",
       " 'bd38f21e-008d-4b0a-942c-c7767769c480',\n",
       " 'f77ae680-7658-46f9-94ac-da861ca6d3e5',\n",
       " '40a49654-6e84-48bc-9206-0f913a13cd8c',\n",
       " 'e80359c1-dd73-49e9-9204-39a8673c38fa',\n",
       " 'd83b0808-e82b-43fa-8b0b-db5497283d25',\n",
       " '1da7f942-4c93-4707-a1e0-bafa30c599a6',\n",
       " '2fbab360-2d93-4687-b047-735fa36d1fe7',\n",
       " '93a8ef35-273a-4cd1-9cab-0ec2872a9d09',\n",
       " '2bc9ed71-8859-48bb-94ea-b1d7fca77657',\n",
       " 'bce33cdb-2f2b-4062-8c72-56683bcd6987',\n",
       " '7cdd25e8-1674-4e90-8fb6-08f0a411f509',\n",
       " '82c3c43d-1e02-43df-9e16-aa878274552e',\n",
       " 'b7ec5850-5586-4f1f-9f00-5558a241eba7',\n",
       " '1cb10bb7-f17f-4bfe-bd43-af103ce491f1',\n",
       " 'f292d712-7e8e-49dc-b297-e3a9ebbf0fd3',\n",
       " '4b807fae-71ed-44c5-ae56-bba69a52250e',\n",
       " 'f6555494-5f7f-4dfa-8966-b8b3698623fd',\n",
       " 'dc2e8912-d250-4b38-82e4-dce7ec57e109',\n",
       " '5add2acf-c259-4155-930f-8b54e44029d2',\n",
       " 'b25994ae-6c91-415f-89ac-ca00655ebc03',\n",
       " '2b9933e0-e4d2-4661-bdec-6a636992a390',\n",
       " 'bb54eb91-a14b-485f-beec-092409ce1e6c',\n",
       " '834653f9-7b7d-4f19-9fc2-4e5d27931b53',\n",
       " '6f3a5fb9-7f88-4c09-b3c8-7a93d11b3798',\n",
       " '4bcb1159-8b0a-40e7-ab80-34182b75eb3c',\n",
       " 'e3f32540-7fec-4a1a-b690-c9ccf1c598c3',\n",
       " '28f4f970-b617-4c89-b5ea-aa872d87e6ae',\n",
       " 'cfcf7378-d29a-4c09-821e-5ffb7bd1406e',\n",
       " 'f3bcfb2b-4975-4e80-be7c-6c0b32206c9a',\n",
       " 'b83727c0-5672-4be8-89d0-c5a402729208',\n",
       " 'e68c5d76-0508-41b6-894b-7332f64b6b9c',\n",
       " '82b9eb9d-e236-446a-ba74-a31d8a9bbfd8',\n",
       " 'cea5ea45-c71a-45ad-a8f2-8a40d471f725',\n",
       " 'e04b0096-44fd-46eb-bb19-d5305641e74c',\n",
       " '5813af03-423b-44b6-968d-689fc34a46ec',\n",
       " 'b56d61d8-cbb9-4b4b-ac7c-7de81e3577f9',\n",
       " '3141823c-bb41-4090-b4e1-5dff254ab957',\n",
       " 'c9b3fa60-e084-43a9-9f49-1b90565239fd',\n",
       " 'ab0ffb0a-e118-4959-9360-1c9e52c89f3c',\n",
       " '357f8a7a-09e2-4f6d-b560-1ec821af8550',\n",
       " '6c229f25-4c79-4b5e-a82e-72cb61f9af49',\n",
       " 'f596f109-1f0f-4bc8-9cd5-4d72eea2da9a',\n",
       " 'd7e452c4-ba9a-4db4-a261-dabd6f0d370a',\n",
       " 'bdd1b9f7-4517-47a2-867f-15248f83cc33',\n",
       " '5ec6e6eb-523d-410b-b204-9707de574be5',\n",
       " 'bbd8ef19-7975-48ea-a2e3-b9324eba6e72',\n",
       " 'f38af070-7e25-4470-8dd1-a9fde4e46eb2',\n",
       " '6bc1ea1c-e2c5-47a4-a68b-a1bdd0fa18f6',\n",
       " '7e5a5c71-4dfe-4c6a-a182-888c9123828c',\n",
       " '27591df8-9fdc-47bb-a82a-116f45cbb409',\n",
       " '5901241c-54a8-40e5-a368-5bf66b866c6e',\n",
       " 'd5a1880f-cdd1-4feb-a78e-3b8f4f1544f8',\n",
       " 'e7133f6e-1b37-4401-9784-4b822365b3c5',\n",
       " '1768028d-2e36-4677-b879-13cb27db0175',\n",
       " '98f69585-bd57-48ee-a2e8-cce71ce691b5',\n",
       " 'e2528224-58f2-46c5-813c-7c57d9db17f5',\n",
       " '49447687-5eb8-44c0-94bd-5f1191dbb7a4',\n",
       " '216add4e-18fc-4d47-8f3f-86fad97fbaa4',\n",
       " '2c0227c8-6329-403e-9ac5-6cbd191a9fa6',\n",
       " 'e85e7c61-30a1-46b5-8832-03338cf67505',\n",
       " 'a1892a91-4fa1-4ff5-8b5f-797466838a95',\n",
       " '692bbb27-658a-432b-b5fd-4aa3d37856e6',\n",
       " '585fda95-9487-4ef8-90e2-84f4da8b925e',\n",
       " '3b9b076d-bacd-41ea-9373-9908f91884c8',\n",
       " 'a94f1593-5c89-4f90-b19d-5d9f6d9ed917',\n",
       " '95482cb8-dc20-4371-9be1-40e96df16dfc',\n",
       " '5a811219-60f6-4993-b90e-4fdcf65416c2',\n",
       " '8e6b0ac3-e532-4d6e-8acc-1e6dc18c5d62',\n",
       " '4eaa845c-0d63-43e7-930a-494bd43e4500',\n",
       " 'e7726a05-17db-4351-a4b9-f8408af56338',\n",
       " '6a34c50e-04ff-4c49-bb6d-462b1253fcbd',\n",
       " '89c67828-dcad-4f58-a8b9-45dcbcd08ce1',\n",
       " '9f8033a9-8e31-415e-8a29-6d7def3dfa06',\n",
       " '81dcb2e2-a0f5-4d3b-8dfe-58d9d41c92fb',\n",
       " 'b0bb55d4-ff8c-4bb1-8856-907dc96b8cf8',\n",
       " '4be1db4c-822c-4d94-b07b-5c82b567665a',\n",
       " '6d227d97-a5dd-426e-b86a-f934c22c8fac',\n",
       " '0baa521c-84ca-4016-bd3c-fb82ec769c98',\n",
       " 'b03e5111-f1de-44f3-b63e-daf027c560cb',\n",
       " 'f3401b7e-d45d-4f5d-bec5-7ffd8ded18e1',\n",
       " '08546ed3-914e-4b41-8411-80158ee5fb05',\n",
       " '0474f7a3-a6f8-4e6c-a5f2-2a786795275e',\n",
       " '14280c04-1c7e-4724-a699-f9e556739103',\n",
       " 'e15efc5d-217f-47cf-8982-a66b1e149e19',\n",
       " '947befc8-f91d-4540-9d63-2183228dcef2',\n",
       " 'a7105e53-23e1-40ad-a796-6aae46324dd9',\n",
       " '4bf39e25-9048-4085-be0e-bcee00ce15a1',\n",
       " 'aff6acb9-5d3c-4ad4-9cdd-ae08edecf00b',\n",
       " '810197c8-f2b2-448a-b8a8-c0edfe7e3936',\n",
       " '3330c8f8-31be-48f1-8fa4-31f3ddda5b45',\n",
       " '18bc545e-5b98-4dfc-ae2d-b8157ff09c2c',\n",
       " 'e3bb3e65-ba6f-41fe-8eff-49159b7be022',\n",
       " '175673f3-44db-4eb9-a822-355489608e24',\n",
       " '9dc229a1-ff6b-402a-bfeb-0cf4d238215a',\n",
       " 'e09319fb-264b-4bbb-95b7-cb008f04baa6',\n",
       " 'de259573-4134-4bf1-b07d-27d390c50855',\n",
       " '7cdb15f3-3921-4ee5-8911-fb79703f569a',\n",
       " '1e6d3142-b122-4410-9587-9894827e2814',\n",
       " '2882efff-09a1-4b84-85f2-07209ad7e446',\n",
       " 'c90db8d1-e773-4e30-b0ba-2cead6bcda02',\n",
       " '5db93d93-1373-4a60-8f74-b27378a38bd1',\n",
       " '51828762-47c1-45b0-b856-e94c4c793132',\n",
       " '255c86c4-9b63-4d79-9927-a7f45a760113',\n",
       " '3413b449-91af-41b5-91ab-c2d5850225dd',\n",
       " '3a26a972-94f4-4000-ac1e-c2f7e51d5ef1',\n",
       " '7b218f02-01f4-4721-adde-ee553939766d',\n",
       " '14f0b3ab-6488-4536-aacc-67e08af9a0ac',\n",
       " '298f1ea4-7d85-49a8-a96b-f91064a4ee05',\n",
       " '68c68852-4d55-4f03-b000-940faa80e14f',\n",
       " 'b99d2668-1e40-4341-9ace-721292a9d671',\n",
       " '3e510d58-5fa8-410e-99f6-e9917688c100',\n",
       " '343bb2da-8080-42ca-a992-4cfedb28e4e9',\n",
       " 'e29c96ab-3b63-426b-a205-a7472d087e9f',\n",
       " '2a6ed972-436d-4075-82fc-5381aa07c749',\n",
       " 'eb5491d1-aed4-4e0b-a2c8-c171204e8693',\n",
       " '81d766c4-de9c-459f-80d8-d34316f46dae',\n",
       " 'b8b3a7a6-f7a8-4e9d-a94d-1c9c5f089101',\n",
       " 'd661ba77-2506-4597-823f-f60abb243d6e',\n",
       " 'f480e2b3-af02-4f29-a9fa-b3af659840ee',\n",
       " '4877e8bf-aac6-4c1e-9c11-fabcf6e6450f',\n",
       " 'f10cf98c-78df-488f-b018-b8591cef1622',\n",
       " '554a4efa-6d1d-44f4-a78f-050165449c35',\n",
       " '5b123315-00d9-4574-92fd-2053a01e3f08',\n",
       " '4ee7936f-8a77-489a-9a33-6fcf05bdf905',\n",
       " 'e8dcbea7-b3d9-461d-ad1c-a7dc578ac4c4',\n",
       " 'b2888b7a-13c2-43ef-8c08-3112a70f5949',\n",
       " '1eeae331-6b39-4884-a95b-27fa4d3c7d4a',\n",
       " '39017dd2-4c5f-44ab-b2cf-eda062a53e67',\n",
       " '6f3b6f45-60e1-4d89-9c7c-042d6b12e545',\n",
       " 'a01a0149-a5b5-4713-a29f-07af217fe9e1',\n",
       " 'b6de4845-106e-47f3-8adb-61a5ffba9348',\n",
       " '8d49d10c-35ff-4559-befd-74947cca0e9a',\n",
       " 'bc6145e9-4596-4ee2-b585-ea21d40d36d0',\n",
       " '23195d4e-7767-4e8f-acd4-fedcbb8bf334',\n",
       " '7d3998a1-1d4c-467a-82a9-944b2f2c7916',\n",
       " '20e6b7f6-6e35-407e-bfcc-f26e5515697e',\n",
       " '2695ee78-23e1-4c86-ab32-328290f755f4',\n",
       " '30e3b434-7b6f-4c09-8c40-99897554d4e4',\n",
       " 'a7fd0bca-c108-4c5b-a17a-88b297146221',\n",
       " 'c8dbaed3-67af-4f99-8646-75d7164134b7',\n",
       " 'ca056905-2c90-4f31-9943-d7121b3d26c0',\n",
       " '3dc3deff-e2c2-40de-8cc0-d5d66ef547d9',\n",
       " 'e486eb9b-63a1-48e0-996f-386414b60e19',\n",
       " '2fecc513-7971-4d1e-843a-b99fe693e876',\n",
       " 'bf2becdc-5152-40b5-bc45-43b559850239',\n",
       " '115dd271-de1b-4ed6-acc2-e2f2fbb68c36',\n",
       " '3c79d04b-0c9e-44c7-8244-2b7f301b3724',\n",
       " 'c6d8c6fc-a80b-4780-b2ec-1f4f5afbbbf3',\n",
       " 'b16d7710-e0de-4828-9f12-636050a61e36',\n",
       " 'fb8fe31d-e948-4bdd-bc7d-adb4b4fafef8',\n",
       " '9772d3b0-b14f-44fe-8e3e-76b320ef3cd6',\n",
       " 'ba68174b-adaf-464e-a608-ebe37f1bba5e',\n",
       " 'dbee9ff0-9eae-4188-85e3-6853780bdc82',\n",
       " 'd8651a49-ef02-422b-a696-3701999bedec',\n",
       " '466167f3-6bea-4591-88c2-dcdb1c914c2f',\n",
       " 'bae864c5-59a0-4cf5-a5a2-d8886ee80f7d',\n",
       " 'bc940a7c-0349-4f7c-a1ee-e321220dd0ea',\n",
       " '62f57551-5dbe-4eb3-b292-031bb4709408',\n",
       " 'd4fcd557-1a6c-4918-af5a-3065af15f08a',\n",
       " '133c355d-cbfe-4bac-b38b-74d1476ebd50',\n",
       " 'c8986f63-c06a-4471-8cd4-c8cfcb819737',\n",
       " 'da65d82e-33d8-4e6b-b30c-338348ae9f85',\n",
       " 'c968fdb7-bb35-441e-a822-f1b2ace50676',\n",
       " '5c4327bb-bc39-47f2-9e80-7afc14352fed',\n",
       " 'bd4a03fa-d90e-4334-b0a8-175b424c7de4',\n",
       " '35bbe3db-14f5-4a0c-afd3-b7e18d38a2d7',\n",
       " 'be3ded70-e39a-441c-8ec0-664b94cdf6e8',\n",
       " '280389c1-2c60-44d9-ac9f-02302fecbcd3',\n",
       " 'bcd09b81-1e6a-4ee8-b1a0-18bffacbe4a1',\n",
       " '2916921d-7734-46f9-8c32-733921b2a23a',\n",
       " 'a680fa4e-e761-4064-8d23-921dfaa06c0e',\n",
       " '7208809d-387f-4928-8be6-a02b2e3ddc9f',\n",
       " '01fa9297-96dc-415e-836c-302116e5a726',\n",
       " '03661e0b-738f-4f2a-a82a-2d64851f6055',\n",
       " '1c94441d-9786-4744-9a81-cf652fcea213',\n",
       " '2e950f3a-7fc5-4b81-aa5e-66aa9589d91d',\n",
       " '33efe512-d300-42b6-9ea4-888821166e18',\n",
       " '9b5548be-eead-4383-8137-269e837b2439',\n",
       " '385839f1-28cb-41f5-abc7-804acfdec86e',\n",
       " 'eb2efbf2-3913-4cef-af70-7c755d5c9f9c',\n",
       " '37158cf3-3821-45d5-89c9-a66a4a83c874',\n",
       " '51715e66-2771-4f9a-9feb-b494402a85b4',\n",
       " '1e2129e7-eb22-4d7d-8df8-e861b5595cff',\n",
       " 'cc458ba8-db31-4d21-8495-5c6d7401ad99',\n",
       " '6aa90259-61e6-4c16-9c1e-e7ec7231969e',\n",
       " '74e96b31-7058-40ac-a0a9-7f8fd1c377ad',\n",
       " '355ab609-6d6d-414e-a913-7ae91d43495b',\n",
       " '46ed8896-3916-49bb-94f8-1c0b0bca0501',\n",
       " '303b33ed-899d-46bf-89ed-b9293b77e95c',\n",
       " 'f19bf507-6aa1-48c8-919e-54ebeed3691c',\n",
       " '48ad2238-0e5b-43b0-97c9-1e8c5089dab8',\n",
       " 'fbbb7ab9-c609-41ac-8b04-5373e9b346b2',\n",
       " 'b6be7192-3793-42d1-bd19-d7359cbec35c',\n",
       " 'b72cd546-7dd8-4477-b2b1-b756a3ba39bc',\n",
       " 'c97f8f09-0af6-4f1d-af90-fc3a3680cb78',\n",
       " '1e0bdf15-4877-4668-8a12-922b96673004',\n",
       " '7c5f8069-e438-42a0-9315-76d397783546',\n",
       " '7f8c2ccf-716a-4e96-8025-4a034e17b813',\n",
       " '2e5ae1b0-5d4b-492a-b958-8b92f1d6400f',\n",
       " '86c67024-7e54-41bc-9b71-b7e1e1960d70',\n",
       " '9205a753-688e-44c1-a991-8237c75e6b4d',\n",
       " '2411a458-4401-4af8-8ad9-2dadbd6f3948',\n",
       " '1d2bc10e-b3a5-4ca8-a324-57ff4e2e70f4',\n",
       " '84ad6e51-8845-4102-95c7-8eca57a6cb61',\n",
       " 'd2fc02ba-322e-4652-881a-c2232186b3ec',\n",
       " '242661bd-991b-4b95-ba95-5baf3d014cc2',\n",
       " '84ff370d-529e-4066-8de7-d0d04e900870',\n",
       " '19b4f316-04e9-4bfa-8303-0245e2a48703',\n",
       " 'a19915fd-6baa-4432-bffb-67b122f93f2c',\n",
       " '3368d93b-7d99-4cd3-845b-3d51be538756',\n",
       " '26775ea1-d074-42a5-8cf6-b3f670ffd165',\n",
       " '6d48c8f9-4881-465a-bf83-e4a05f4ba640',\n",
       " '66d50b0e-3677-447a-acc3-676fbea9856b',\n",
       " 'f31b178d-dfe3-4962-8c2d-454551aeef11',\n",
       " '3c15ed85-b633-42b7-b25e-ee914e2a0a29']"
      ]
     },
     "execution_count": 23,
     "metadata": {},
     "output_type": "execute_result"
    }
   ],
   "source": [
    "from langchain_openai import OpenAIEmbeddings\n",
    "from langchain_weaviate.vectorstores import WeaviateVectorStore\n",
    "from langchain_text_splitters import RecursiveCharacterTextSplitter\n",
    "\n",
    "embeddings = OpenAIEmbeddings(model=\"text-embedding-3-large\")\n",
    "\n",
    "vector_store = WeaviateVectorStore(\n",
    "    client=client, index_name=collection_name, embedding=embeddings, text_key=\"text\"\n",
    ")\n",
    "\n",
    "vector_store.add_documents(split_docs)"
   ]
  },
  {
   "cell_type": "markdown",
   "metadata": {},
   "source": [
    "### Step 2: Perform the search\n",
    "\n",
    "We can now perform a similarity search. This will return the most similar documents to the query text, based on the embeddings stored in Weaviate and an equivalent embedding generated from the query text."
   ]
  },
  {
   "cell_type": "code",
   "execution_count": 24,
   "metadata": {},
   "outputs": [
    {
     "name": "stdout",
     "output_type": "stream",
     "text": [
      "\n",
      "Document 1:\n",
      "To console himself, he drew upon his experiences over the Saharan desert to write and illustrate what would become his most famous book, The Little Prince (1943). Mystical and enchanting, this small book has fascinated both children and adults for decades. In the book, a pilot is stranded in the\n"
     ]
    }
   ],
   "source": [
    "from utils.weaviate_vectordb import WeaviateSearch\n",
    "\n",
    "query = \"What is the little prince about?\"\n",
    "searcher = WeaviateSearch(vector_store)\n",
    "docs = searcher.similarity_search(query, k=1)\n",
    "\n",
    "for i, doc in enumerate(docs):\n",
    "    print(f\"\\nDocument {i+1}:\")\n",
    "    print(doc.page_content)"
   ]
  },
  {
   "cell_type": "markdown",
   "metadata": {},
   "source": [
    "You can also add filters, which will either include or exclude results based on the filter conditions. (See [more filter examples](https://weaviate.io/developers/weaviate/search/filters).)\n",
    "\n",
    "It is also possible to provide `k`, which is the upper limit of the number of results to return."
   ]
  },
  {
   "cell_type": "code",
   "execution_count": 25,
   "metadata": {},
   "outputs": [
    {
     "data": {
      "text/plain": [
       "[Document(metadata={'title': None, 'order': None, 'source': None, 'author': None}, page_content='To console himself, he drew upon his experiences over the Saharan desert to write and illustrate what would become his most famous book, The Little Prince (1943). Mystical and enchanting, this small book has fascinated both children and adults for decades. In the book, a pilot is stranded in the')]"
      ]
     },
     "execution_count": 25,
     "metadata": {},
     "output_type": "execute_result"
    }
   ],
   "source": [
    "from weaviate.classes.query import Filter\n",
    "\n",
    "filter_query = Filter.by_property(\"text\").equal(\"In the book, a pilot is\")\n",
    "\n",
    "searcher.similarity_search(\n",
    "    query=query,\n",
    "    filter_query=filter_query,\n",
    "    k=1,\n",
    ")"
   ]
  },
  {
   "cell_type": "markdown",
   "metadata": {},
   "source": [
    "### Quantify Result Similarity\n",
    "\n",
    "When performing similarity searches, you might want to know not just which documents are similar, but how similar they are. Weaviate provides this information through a relevance score.\n",
    "> 💡 Tip: The relevance score helps you understand the relative similarity between search results."
   ]
  },
  {
   "cell_type": "code",
   "execution_count": 26,
   "metadata": {},
   "outputs": [
    {
     "name": "stdout",
     "output_type": "stream",
     "text": [
      "0.752 : To console himself, he drew upon his experiences over the Saharan desert to write and illustrate what would become his most famous book, The Little Prince (1943). Mystical and enchanting, this small book has fascinated both children and adults for decades. In the book, a pilot is stranded in the\n",
      "0.694 : In the book, a pilot is stranded in the midst of the Sahara where he meets a tiny prince from another world traveling the universe in order to understand life. In the book, the little prince discovers the true meaning of life. At the end of his conversation with the Little Prince, the aviator\n",
      "0.653 : The Little Prince\n",
      "Written By Antoine de Saiot-Exupery (1900〜1944)\n",
      "0.597 : [ Chapter 7 ]\n",
      "- the narrator learns about the secret of the little prince‘s life\n",
      "0.591 : [ Chapter 3 ]\n",
      "- the narrator learns more about from where the little prince came\n"
     ]
    }
   ],
   "source": [
    "docs = searcher.similarity_search_with_score(query, k=5)\n",
    "\n",
    "for doc in docs:\n",
    "    print(f\"{doc[1]:.3f}\", \":\", doc[0].page_content)"
   ]
  },
  {
   "cell_type": "markdown",
   "metadata": {},
   "source": [
    "## Search mechanism"
   ]
  },
  {
   "cell_type": "markdown",
   "metadata": {},
   "source": [
    "`similarity_search` uses Weaviate's [hybrid search](https://weaviate.io/developers/weaviate/api/graphql/search-operators#hybrid).\n",
    "\n",
    "A hybrid search combines a vector and a keyword search, with `alpha` as the weight of the vector search. The `similarity_search` function allows you to pass additional arguments as kwargs. See this [reference doc](https://weaviate.io/developers/weaviate/api/graphql/search-operators#hybrid) for the available arguments.\n",
    "\n",
    "So, you can perform a pure keyword search by adding `alpha=0` as shown below:"
   ]
  },
  {
   "cell_type": "code",
   "execution_count": 27,
   "metadata": {},
   "outputs": [
    {
     "data": {
      "text/plain": [
       "Document(metadata={'title': None, 'order': None, 'source': None, 'author': None}, page_content='\"Yes?\" said the little prince, who did not understand what the conceited man was talking about. \\n\"Clap your hands, one against the other,\" the conceited man now directed him. \\nThe little prince clapped his hands. The conceited man raised his hat in a modest salute.')"
      ]
     },
     "execution_count": 27,
     "metadata": {},
     "output_type": "execute_result"
    }
   ],
   "source": [
    "docs = searcher.similarity_search(query, alpha=0)\n",
    "docs[0]"
   ]
  },
  {
   "cell_type": "markdown",
   "metadata": {},
   "source": [
    "## Persistence"
   ]
  },
  {
   "cell_type": "markdown",
   "metadata": {},
   "source": [
    "Any data added through `langchain-weaviate` will persist in Weaviate according to its configuration. \n",
    "\n",
    "WCS instances, for example, are configured to persist data indefinitely, and Docker instances can be set up to persist data in a volume. Read more about [Weaviate's persistence](https://weaviate.io/developers/weaviate/configuration/persistence)."
   ]
  },
  {
   "cell_type": "markdown",
   "metadata": {},
   "source": [
    "## Multi-tenancy"
   ]
  },
  {
   "cell_type": "markdown",
   "metadata": {},
   "source": [
    "[Multi-tenancy](https://weaviate.io/developers/weaviate/concepts/data#multi-tenancy) allows you to have a high number of isolated collections of data, with the same collection configuration, in a single Weaviate instance. This is great for multi-user environments such as building a SaaS app, where each end user will have their own isolated data collection.\n",
    "\n",
    "To use multi-tenancy, the vector store need to be aware of the `tenant` parameter. \n",
    "\n",
    "So when adding any data, provide the `tenant` parameter as shown below."
   ]
  },
  {
   "cell_type": "code",
   "execution_count": 28,
   "metadata": {},
   "outputs": [
    {
     "name": "stderr",
     "output_type": "stream",
     "text": [
      "2025-Feb-05 08:34 PM - langchain_weaviate.vectorstores - INFO - Tenant tenant1 does not exist in index LangChain_b164393f671d4b0ba354c38e6e053282. Creating tenant.\n"
     ]
    }
   ],
   "source": [
    "# 2. Create a vector store with a specific tenant\n",
    "vector_store_with_tenant = WeaviateVectorStore.from_documents(\n",
    "    docs, embeddings, client=client, tenant=\"tenant1\"  # specify the tenant name\n",
    ")"
   ]
  },
  {
   "cell_type": "code",
   "execution_count": 29,
   "metadata": {},
   "outputs": [
    {
     "name": "stdout",
     "output_type": "stream",
     "text": [
      "\"Yes?\" said the little prince, who did not understand what the conceited man was talking about. \n",
      "\"Clap your hands, one against the other,\" the conceited man now directed him. \n",
      "The little prince clapped his hands. The conceited man raised his hat in a modest salute.\n",
      "[ Chapter 6 ]\n",
      "- the little prince and the narrator talk about sunsets\n",
      "[ Chapter 25 ]\n",
      "- finding a well, the narrator and the little prince discuss his return to his planet\n",
      "\"Men,\" said the little prince, \"set out on their way in express trains, but they do not know what they are looking for. Then they rush about, and get excited, and turn round and round...\"\n"
     ]
    }
   ],
   "source": [
    "results = vector_store_with_tenant.similarity_search(\n",
    "    query, tenant=\"tenant1\"  # use the same tenant name\n",
    ")\n",
    "\n",
    "for doc in results:\n",
    "    print(doc.page_content)"
   ]
  },
  {
   "cell_type": "code",
   "execution_count": 30,
   "metadata": {},
   "outputs": [
    {
     "name": "stderr",
     "output_type": "stream",
     "text": [
      "2025-Feb-05 08:34 PM - langchain_weaviate.vectorstores - INFO - Tenant tenant1 does not exist in index LangChain_79b0e6f413f44286baff724ce696708f. Creating tenant.\n"
     ]
    }
   ],
   "source": [
    "vector_store_with_tenant = WeaviateVectorStore.from_documents(\n",
    "    docs, embeddings, client=client, tenant=\"tenant1\", mt=True\n",
    ")"
   ]
  },
  {
   "cell_type": "markdown",
   "metadata": {},
   "source": [
    "And when performing queries, provide the `tenant` parameter also."
   ]
  },
  {
   "cell_type": "code",
   "execution_count": 31,
   "metadata": {},
   "outputs": [
    {
     "data": {
      "text/plain": [
       "[Document(metadata={'title': None, 'author': None, 'source': None, 'order': None}, page_content='\"Yes?\" said the little prince, who did not understand what the conceited man was talking about. \\n\"Clap your hands, one against the other,\" the conceited man now directed him. \\nThe little prince clapped his hands. The conceited man raised his hat in a modest salute.'),\n",
       " Document(metadata={'title': None, 'author': None, 'source': None, 'order': None}, page_content='[ Chapter 6 ]\\n- the little prince and the narrator talk about sunsets'),\n",
       " Document(metadata={'title': None, 'order': None, 'source': None, 'author': None}, page_content='[ Chapter 25 ]\\n- finding a well, the narrator and the little prince discuss his return to his planet\\n\"Men,\" said the little prince, \"set out on their way in express trains, but they do not know what they are looking for. Then they rush about, and get excited, and turn round and round...\"')]"
      ]
     },
     "execution_count": 31,
     "metadata": {},
     "output_type": "execute_result"
    }
   ],
   "source": [
    "vector_store_with_tenant.similarity_search(query, tenant=\"tenant1\")"
   ]
  },
  {
   "cell_type": "markdown",
   "metadata": {},
   "source": [
    "## Retriever options\n",
    "\n",
    "Weaviate can also be used as a retriever\n",
    "\n",
    "### Maximal marginal relevance search (MMR)\n",
    "\n",
    "In addition to using similaritysearch  in the retriever object, you can also use `mmr`."
   ]
  },
  {
   "cell_type": "code",
   "execution_count": 32,
   "metadata": {},
   "outputs": [
    {
     "name": "stderr",
     "output_type": "stream",
     "text": [
      "Failed to multipart ingest runs: langsmith.utils.LangSmithRateLimitError: Rate limit exceeded for https://api.smith.langchain.com/runs/multipart. HTTPError('429 Client Error: Too Many Requests for url: https://api.smith.langchain.com/runs/multipart', '{\"detail\":\"Monthly unique traces usage limit exceeded\"}')trace=f7d548cd-406c-4864-9d90-9c51dfdb406c,id=f7d548cd-406c-4864-9d90-9c51dfdb406c\n"
     ]
    },
    {
     "data": {
      "text/plain": [
       "Document(metadata={'title': None, 'order': None, 'source': None, 'author': None}, page_content='To console himself, he drew upon his experiences over the Saharan desert to write and illustrate what would become his most famous book, The Little Prince (1943). Mystical and enchanting, this small book has fascinated both children and adults for decades. In the book, a pilot is stranded in the')"
      ]
     },
     "execution_count": 32,
     "metadata": {},
     "output_type": "execute_result"
    }
   ],
   "source": [
    "retriever = vector_store.as_retriever(search_type=\"mmr\")\n",
    "retriever.invoke(query)[0]"
   ]
  },
  {
   "cell_type": "markdown",
   "metadata": {},
   "source": [
    "## Use with LangChain"
   ]
  },
  {
   "cell_type": "markdown",
   "metadata": {},
   "source": [
    "A known limitation of large language models (LLMs) is that their training data can be outdated, or not include the specific domain knowledge that you require.\n",
    "\n",
    "Take a look at the example below:"
   ]
  },
  {
   "cell_type": "code",
   "execution_count": 33,
   "metadata": {},
   "outputs": [
    {
     "name": "stderr",
     "output_type": "stream",
     "text": [
      "Failed to multipart ingest runs: langsmith.utils.LangSmithRateLimitError: Rate limit exceeded for https://api.smith.langchain.com/runs/multipart. HTTPError('429 Client Error: Too Many Requests for url: https://api.smith.langchain.com/runs/multipart', '{\"detail\":\"Monthly unique traces usage limit exceeded\"}')trace=7025e812-3bba-487c-bbfe-0bf531a1febd,id=7025e812-3bba-487c-bbfe-0bf531a1febd; trace=f7d548cd-406c-4864-9d90-9c51dfdb406c,id=f7d548cd-406c-4864-9d90-9c51dfdb406c\n",
      "Failed to multipart ingest runs: langsmith.utils.LangSmithRateLimitError: Rate limit exceeded for https://api.smith.langchain.com/runs/multipart. HTTPError('429 Client Error: Too Many Requests for url: https://api.smith.langchain.com/runs/multipart', '{\"detail\":\"Monthly unique traces usage limit exceeded\"}')trace=bbf437b5-c87b-40db-9fc5-cc368b2294d3,id=bbf437b5-c87b-40db-9fc5-cc368b2294d3; trace=bbf437b5-c87b-40db-9fc5-cc368b2294d3,id=23955eb2-6104-4c92-a72d-e4849ca0c86c; trace=7025e812-3bba-487c-bbfe-0bf531a1febd,id=7025e812-3bba-487c-bbfe-0bf531a1febd\n",
      "Failed to multipart ingest runs: langsmith.utils.LangSmithRateLimitError: Rate limit exceeded for https://api.smith.langchain.com/runs/multipart. HTTPError('429 Client Error: Too Many Requests for url: https://api.smith.langchain.com/runs/multipart', '{\"detail\":\"Monthly unique traces usage limit exceeded\"}')trace=bbf437b5-c87b-40db-9fc5-cc368b2294d3,id=0cb47004-8ad3-406c-b5a5-aae65a7721db; trace=bbf437b5-c87b-40db-9fc5-cc368b2294d3,id=51f1cfa0-cde3-4523-ac34-c7aa51c0dd94; trace=bbf437b5-c87b-40db-9fc5-cc368b2294d3,id=f92df8b1-6f54-40fd-89b5-e78b8bf2fbbe; trace=bbf437b5-c87b-40db-9fc5-cc368b2294d3,id=23955eb2-6104-4c92-a72d-e4849ca0c86c\n",
      "Failed to multipart ingest runs: langsmith.utils.LangSmithRateLimitError: Rate limit exceeded for https://api.smith.langchain.com/runs/multipart. HTTPError('429 Client Error: Too Many Requests for url: https://api.smith.langchain.com/runs/multipart', '{\"detail\":\"Monthly unique traces usage limit exceeded\"}')trace=d95c335b-22c4-414d-88e7-d93a22ca92c3,id=d95c335b-22c4-414d-88e7-d93a22ca92c3; trace=d95c335b-22c4-414d-88e7-d93a22ca92c3,id=0808693d-0ea9-4665-a12d-84030d2ba784; trace=d95c335b-22c4-414d-88e7-d93a22ca92c3,id=297e2398-8f2f-487b-85b0-f32468130a3a; trace=d95c335b-22c4-414d-88e7-d93a22ca92c3,id=63c5620a-3a45-4467-b9f3-d3313eb8325d; trace=bbf437b5-c87b-40db-9fc5-cc368b2294d3,id=bbf437b5-c87b-40db-9fc5-cc368b2294d3; trace=bbf437b5-c87b-40db-9fc5-cc368b2294d3,id=0cb47004-8ad3-406c-b5a5-aae65a7721db; trace=bbf437b5-c87b-40db-9fc5-cc368b2294d3,id=51f1cfa0-cde3-4523-ac34-c7aa51c0dd94; trace=bbf437b5-c87b-40db-9fc5-cc368b2294d3,id=f92df8b1-6f54-40fd-89b5-e78b8bf2fbbe\n",
      "Failed to multipart ingest runs: langsmith.utils.LangSmithRateLimitError: Rate limit exceeded for https://api.smith.langchain.com/runs/multipart. HTTPError('429 Client Error: Too Many Requests for url: https://api.smith.langchain.com/runs/multipart', '{\"detail\":\"Monthly unique traces usage limit exceeded\"}')trace=d95c335b-22c4-414d-88e7-d93a22ca92c3,id=9298d001-93cc-4d10-9624-96c2b87fb675; trace=d95c335b-22c4-414d-88e7-d93a22ca92c3,id=38530ed7-e811-41b4-b642-9759fc27c955; trace=d95c335b-22c4-414d-88e7-d93a22ca92c3,id=297e2398-8f2f-487b-85b0-f32468130a3a; trace=d95c335b-22c4-414d-88e7-d93a22ca92c3,id=0808693d-0ea9-4665-a12d-84030d2ba784\n",
      "Failed to multipart ingest runs: langsmith.utils.LangSmithRateLimitError: Rate limit exceeded for https://api.smith.langchain.com/runs/multipart. HTTPError('429 Client Error: Too Many Requests for url: https://api.smith.langchain.com/runs/multipart', '{\"detail\":\"Monthly unique traces usage limit exceeded\"}')trace=d95c335b-22c4-414d-88e7-d93a22ca92c3,id=ace02312-fce9-47c9-86f6-4638ba469d85; trace=d95c335b-22c4-414d-88e7-d93a22ca92c3,id=d95c335b-22c4-414d-88e7-d93a22ca92c3; trace=d95c335b-22c4-414d-88e7-d93a22ca92c3,id=38530ed7-e811-41b4-b642-9759fc27c955\n"
     ]
    },
    {
     "name": "stdout",
     "output_type": "stream",
     "text": [
      "\"The Little Prince,\" written by Antoine de Saint-Exupéry, is a philosophical tale that explores themes of love, loss, friendship, and the nature of human relationships. The story follows a young prince who travels from his home asteroid, B-612, to various planets, each inhabited by a different character that embodies certain adult traits and societal flaws.\n",
      "\n",
      "The narrative begins with a pilot stranded in the Sahara Desert who meets the Little Prince. Through their conversations, the prince shares his experiences and the lessons he has learned during his travels. He encounters a king, a vain man, a drunkard, a businessman, a geographer, and a fox, each representing different aspects of adult life and the often misguided priorities of grown-ups.\n",
      "\n",
      "One of the central messages of the story is the importance of seeing with the heart rather than just the eyes, emphasizing that true understanding and love go beyond superficial appearances. The prince's relationship with a rose on his home asteroid highlights themes of responsibility and the significance of personal connections.\n",
      "\n",
      "Ultimately, \"The Little Prince\" serves as a poignant reminder of the innocence of childhood and the wisdom that can be found in simplicity, encouraging readers to reflect on what truly matters in life.\n"
     ]
    }
   ],
   "source": [
    "from langchain_openai import ChatOpenAI\n",
    "\n",
    "llm = ChatOpenAI(model=\"gpt-4o-mini\", temperature=0)\n",
    "result = llm.invoke(query)\n",
    "print(result.content)"
   ]
  },
  {
   "cell_type": "markdown",
   "metadata": {},
   "source": [
    "Vector stores complement LLMs by providing a way to store and retrieve relevant information. This allow you to combine the strengths of LLMs and vector stores, by using LLM's reasoning and linguistic capabilities with vector stores' ability to retrieve relevant information.\n",
    "\n",
    "Two well-known applications for combining LLMs and vector stores are:\n",
    "- Question answering\n",
    "- Retrieval-augmented generation (RAG)"
   ]
  },
  {
   "cell_type": "markdown",
   "metadata": {},
   "source": [
    "### Question Answering with Sources\n",
    "\n",
    "Question answering in langchain can be enhanced by the use of vector stores. Let's see how this can be done.\n",
    "\n",
    "This section uses the `RetrievalQAWithSourcesChain`, which does the lookup of the documents from an Index. "
   ]
  },
  {
   "cell_type": "markdown",
   "metadata": {},
   "source": [
    "We can construct the chain, with the retriever specified:"
   ]
  },
  {
   "cell_type": "code",
   "execution_count": 34,
   "metadata": {},
   "outputs": [],
   "source": [
    "searcher = WeaviateSearch(vector_store)\n",
    "\n",
    "chain = searcher.create_qa_chain(\n",
    "    llm=llm, retriever=vector_store.as_retriever(), chain_type=\"stuff\"\n",
    ")"
   ]
  },
  {
   "cell_type": "code",
   "execution_count": 35,
   "metadata": {},
   "outputs": [
    {
     "data": {
      "text/plain": [
       "{'answer': 'The Little Prince is about a pilot who is stranded in the Sahara desert and meets a tiny prince from another world. The little prince travels the universe to understand life and, through his conversations with the pilot, discovers the true meaning of life. The book is mystical and enchanting, appealing to both children and adults.\\n\\n',\n",
       " 'sources': 'None'}"
      ]
     },
     "execution_count": 35,
     "metadata": {},
     "output_type": "execute_result"
    }
   ],
   "source": [
    "chain.invoke(\n",
    "    {\"question\": query},\n",
    "    return_only_outputs=True,\n",
    ")"
   ]
  },
  {
   "cell_type": "markdown",
   "metadata": {},
   "source": [
    "### Retrieval-Augmented Generation\n",
    "\n",
    "Another very popular application of combining LLMs and vector stores is retrieval-augmented generation (RAG). This is a technique that uses a retriever to find relevant information from a vector store, and then uses an LLM to provide an output based on the retrieved data and a prompt.\n",
    "\n",
    "We begin with a similar setup:"
   ]
  },
  {
   "cell_type": "markdown",
   "metadata": {},
   "source": [
    "We need to construct a template for the RAG model so that the retrieved information will be populated in the template."
   ]
  },
  {
   "cell_type": "code",
   "execution_count": 36,
   "metadata": {},
   "outputs": [
    {
     "name": "stdout",
     "output_type": "stream",
     "text": [
      "input_variables=['context', 'question'] input_types={} partial_variables={} messages=[HumanMessagePromptTemplate(prompt=PromptTemplate(input_variables=['context', 'question'], input_types={}, partial_variables={}, template=\"You are an assistant for question-answering tasks. Use the following pieces of retrieved context to answer the question. If you don't know the answer, just say that you don't know. Use three sentences maximum and keep the answer concise.\\nQuestion: {question}\\nContext: {context}\\nAnswer:\\n\"), additional_kwargs={})]\n"
     ]
    }
   ],
   "source": [
    "from langchain_core.prompts import ChatPromptTemplate\n",
    "\n",
    "template = \"\"\"You are an assistant for question-answering tasks. Use the following pieces of retrieved context to answer the question. If you don't know the answer, just say that you don't know. Use three sentences maximum and keep the answer concise.\n",
    "Question: {question}\n",
    "Context: {context}\n",
    "Answer:\n",
    "\"\"\"\n",
    "prompt = ChatPromptTemplate.from_template(template)\n",
    "\n",
    "print(prompt)"
   ]
  },
  {
   "cell_type": "code",
   "execution_count": 37,
   "metadata": {},
   "outputs": [
    {
     "data": {
      "text/plain": [
       "'The Little Prince is a mystical and enchanting story about a pilot stranded in the Sahara who encounters a young prince from another planet. The narrative explores themes of love, loss, and the importance of relationships, emphasizing that \"what is essential is invisible to the eye.\" Through his journey, the little prince learns valuable lessons about taming and the significance of the connections we make.'"
      ]
     },
     "execution_count": 37,
     "metadata": {},
     "output_type": "execute_result"
    }
   ],
   "source": [
    "from langchain_core.output_parsers import StrOutputParser\n",
    "from langchain_core.runnables import RunnablePassthrough\n",
    "from langchain_openai import ChatOpenAI\n",
    "\n",
    "llm = ChatOpenAI(model=\"gpt-4o-mini\", temperature=0)\n",
    "\n",
    "rag_chain = (\n",
    "    {\"context\": retriever, \"question\": RunnablePassthrough()}\n",
    "    | prompt\n",
    "    | llm\n",
    "    | StrOutputParser()\n",
    ")\n",
    "\n",
    "rag_chain.invoke(query)"
   ]
  }
 ],
 "metadata": {
  "kernelspec": {
   "display_name": "langchain-opentutorial-BXw0bE1H-py3.11",
   "language": "python",
   "name": "python3"
  },
  "language_info": {
   "codemirror_mode": {
    "name": "ipython",
    "version": 3
   },
   "file_extension": ".py",
   "mimetype": "text/x-python",
   "name": "python",
   "nbconvert_exporter": "python",
   "pygments_lexer": "ipython3",
   "version": "3.11.10"
  }
 },
 "nbformat": 4,
 "nbformat_minor": 2
}
